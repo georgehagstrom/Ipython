{
 "cells": [
  {
   "cell_type": "code",
   "execution_count": 12,
   "metadata": {
    "collapsed": false
   },
   "outputs": [
    {
     "name": "stdout",
     "output_type": "stream",
     "text": [
      "Populating the interactive namespace from numpy and matplotlib\n"
     ]
    },
    {
     "name": "stderr",
     "output_type": "stream",
     "text": [
      "WARNING: pylab import has clobbered these variables: ['prod', 'Circle', 'power', 'diag', 'sinh', 'trunc', 'binomial', 'plot', 'eye', 'det', 'product', 'roots', 'vectorize', 'plotting', 'zeros', 'cosh', 'conjugate', 'take', 'solve', 'trace', 'beta', 'ones', 'transpose', 'cos', 'interactive', 'diff', 'invert', 'tanh', 'Polygon', 'reshape', 'floor', 'source', 'add', 'multinomial', 'test', 'poly', 'mod', 'sign', 'gamma', 'log', 'var', 'seterr', 'flatten', 'nan', 'exp']\n",
      "`%matplotlib` prevents importing * from pylab and numpy\n"
     ]
    }
   ],
   "source": [
    "\n",
    "from scipy.integrate import ode\n",
    "\n",
    "%pylab inline\n",
    "\n",
    "import numpy as np\n",
    "from scipy import optimize\n",
    "\n",
    "import sympy as sp\n",
    "import matplotlib.pyplot as plt\n",
    "matplotlib.use(\"Agg\")\n",
    "import scipy.io as sio\n",
    "import scipy.signal\n",
    "#from pylab import *\n",
    "\n",
    "asin=np.arcsin\n",
    "sqrt=np.sqrt\n",
    "sin=np.sin\n",
    "#cos=np.cos\n",
    "pi=np.pi\n",
    "#exp=np.exp\n",
    "tan=np.tan\n",
    "I=1j\n",
    "inf=np.inf\n",
    "\n",
    "hilbert=scipy.signal.hilbert"
   ]
  },
  {
   "cell_type": "code",
   "execution_count": 6,
   "metadata": {
    "collapsed": true
   },
   "outputs": [],
   "source": [
    "x = sp.symbols('x')"
   ]
  },
  {
   "cell_type": "code",
   "execution_count": 13,
   "metadata": {
    "collapsed": false
   },
   "outputs": [],
   "source": [
    "a = sp.Integral(sp.cos(x)*sp.exp(x),x)"
   ]
  },
  {
   "cell_type": "code",
   "execution_count": 14,
   "metadata": {
    "collapsed": false
   },
   "outputs": [
    {
     "data": {
      "text/plain": [
       "Integral(exp(x)*cos(x), x) == exp(x)*sin(x)/2 + exp(x)*cos(x)/2"
      ]
     },
     "execution_count": 14,
     "metadata": {},
     "output_type": "execute_result"
    }
   ],
   "source": [
    "sp.Eq(a,a.doit())"
   ]
  },
  {
   "cell_type": "code",
   "execution_count": 6,
   "metadata": {
    "collapsed": false
   },
   "outputs": [
    {
     "ename": "NameError",
     "evalue": "name 'sympy' is not defined",
     "output_type": "error",
     "traceback": [
      "\u001b[1;31m---------------------------------------------------------------------------\u001b[0m",
      "\u001b[1;31mNameError\u001b[0m                                 Traceback (most recent call last)",
      "\u001b[1;32m<ipython-input-6-7458d3f7c9e8>\u001b[0m in \u001b[0;36m<module>\u001b[1;34m()\u001b[0m\n\u001b[1;32m----> 1\u001b[1;33m \u001b[0msympy\u001b[0m\u001b[1;33m.\u001b[0m\u001b[0mcos\u001b[0m\u001b[1;33m\u001b[0m\u001b[0m\n\u001b[0m",
      "\u001b[1;31mNameError\u001b[0m: name 'sympy' is not defined"
     ]
    }
   ],
   "source": [
    "sympy.cos"
   ]
  },
  {
   "cell_type": "code",
   "execution_count": 15,
   "metadata": {
    "collapsed": false
   },
   "outputs": [
    {
     "data": {
      "text/plain": [
       "2*sqrt(2)"
      ]
     },
     "execution_count": 15,
     "metadata": {},
     "output_type": "execute_result"
    }
   ],
   "source": [
    "sp.sqrt(8)"
   ]
  },
  {
   "cell_type": "code",
   "execution_count": 16,
   "metadata": {
    "collapsed": false
   },
   "outputs": [
    {
     "data": {
      "text/plain": [
       "x + 2*y"
      ]
     },
     "execution_count": 16,
     "metadata": {},
     "output_type": "execute_result"
    }
   ],
   "source": [
    "x,y = sp.symbols('x y')\n",
    "expr = x+2*y\n",
    "expr"
   ]
  },
  {
   "cell_type": "code",
   "execution_count": 17,
   "metadata": {
    "collapsed": false
   },
   "outputs": [
    {
     "data": {
      "text/plain": [
       "x + 2*y + 1"
      ]
     },
     "execution_count": 17,
     "metadata": {},
     "output_type": "execute_result"
    }
   ],
   "source": [
    "expr+1"
   ]
  },
  {
   "cell_type": "code",
   "execution_count": 18,
   "metadata": {
    "collapsed": false
   },
   "outputs": [
    {
     "data": {
      "text/plain": [
       "2*y"
      ]
     },
     "execution_count": 18,
     "metadata": {},
     "output_type": "execute_result"
    }
   ],
   "source": [
    "expr-x"
   ]
  },
  {
   "cell_type": "code",
   "execution_count": 19,
   "metadata": {
    "collapsed": false
   },
   "outputs": [
    {
     "data": {
      "text/plain": [
       "x*(x + 2*y)"
      ]
     },
     "execution_count": 19,
     "metadata": {},
     "output_type": "execute_result"
    }
   ],
   "source": [
    "x*expr"
   ]
  },
  {
   "cell_type": "code",
   "execution_count": 21,
   "metadata": {
    "collapsed": false
   },
   "outputs": [
    {
     "data": {
      "text/plain": [
       "x**2 + 2*x*y"
      ]
     },
     "execution_count": 21,
     "metadata": {},
     "output_type": "execute_result"
    }
   ],
   "source": [
    "expanded_expr=sp.expand(x*expr)\n",
    "expanded_expr"
   ]
  },
  {
   "cell_type": "code",
   "execution_count": 22,
   "metadata": {
    "collapsed": false
   },
   "outputs": [
    {
     "data": {
      "text/plain": [
       "x*(x + 2*y)"
      ]
     },
     "execution_count": 22,
     "metadata": {},
     "output_type": "execute_result"
    }
   ],
   "source": [
    "factor(expanded_expr)"
   ]
  },
  {
   "cell_type": "code",
   "execution_count": 23,
   "metadata": {
    "collapsed": true
   },
   "outputs": [],
   "source": [
    "x, t, z, nu = symbols('x t z nu')"
   ]
  },
  {
   "cell_type": "code",
   "execution_count": 24,
   "metadata": {
    "collapsed": true
   },
   "outputs": [],
   "source": [
    "sp.init_printing(use_unicode=True)"
   ]
  },
  {
   "cell_type": "code",
   "execution_count": 26,
   "metadata": {
    "collapsed": false
   },
   "outputs": [
    {
     "data": {
      "image/png": "[encoded data removed]",
      "text/latex": [
       "$$e^{x} \\sin{\\left (x \\right )} + e^{x} \\cos{\\left (x \\right )}$$"
      ],
      "text/plain": [
       " x           x       \n",
       "ℯ ⋅sin(x) + ℯ ⋅cos(x)"
      ]
     },
     "execution_count": 26,
     "metadata": {},
     "output_type": "execute_result"
    }
   ],
   "source": [
    "sp.diff(sp.sin(x)*sp.exp(x),x)"
   ]
  },
  {
   "cell_type": "code",
   "execution_count": 28,
   "metadata": {
    "collapsed": false
   },
   "outputs": [
    {
     "data": {
      "image/png": "[encoded data removed]",
      "text/latex": [
       "$$e^{x} \\sin{\\left (x \\right )}$$"
      ],
      "text/plain": [
       " x       \n",
       "ℯ ⋅sin(x)"
      ]
     },
     "execution_count": 28,
     "metadata": {},
     "output_type": "execute_result"
    }
   ],
   "source": [
    "sp.integrate(sp.exp(x)*sp.sin(x)+sp.exp(x)*sp.cos(x),x)"
   ]
  },
  {
   "cell_type": "code",
   "execution_count": 30,
   "metadata": {
    "collapsed": false
   },
   "outputs": [
    {
     "data": {
      "image/png": "[encoded data removed]",
      "text/latex": [
       "$$\\frac{\\sqrt{2} \\sqrt{\\pi}}{2}$$"
      ],
      "text/plain": [
       "  ___   ___\n",
       "╲╱ 2 ⋅╲╱ π \n",
       "───────────\n",
       "     2     "
      ]
     },
     "execution_count": 30,
     "metadata": {},
     "output_type": "execute_result"
    }
   ],
   "source": [
    "sp.integrate(sp.sin(x**2),(x, -oo,oo))"
   ]
  },
  {
   "cell_type": "code",
   "execution_count": 33,
   "metadata": {
    "collapsed": false
   },
   "outputs": [
    {
     "data": {
      "image/png": "[encoded data removed]",
      "text/latex": [
       "$$1$$"
      ],
      "text/plain": [
       "1"
      ]
     },
     "execution_count": 33,
     "metadata": {},
     "output_type": "execute_result"
    }
   ],
   "source": [
    "sp.limit(sp.sin(x)/x,x,0)"
   ]
  },
  {
   "cell_type": "code",
   "execution_count": 37,
   "metadata": {
    "collapsed": false
   },
   "outputs": [
    {
     "data": {
      "image/png": "[encoded data removed]",
      "text/latex": [
       "$$\\begin{bmatrix}- \\sqrt{t}, & \\sqrt{t}\\end{bmatrix}$$"
      ],
      "text/plain": [
       "⎡   ___    ___⎤\n",
       "⎣-╲╱ t , ╲╱ t ⎦"
      ]
     },
     "execution_count": 37,
     "metadata": {},
     "output_type": "execute_result"
    }
   ],
   "source": [
    "sp.solve(x**2-t,x)"
   ]
  },
  {
   "cell_type": "code",
   "execution_count": 44,
   "metadata": {
    "collapsed": true
   },
   "outputs": [],
   "source": [
    "y=sp.symbols('y')"
   ]
  },
  {
   "cell_type": "code",
   "execution_count": 40,
   "metadata": {
    "collapsed": false
   },
   "outputs": [
    {
     "data": {
      "image/png": "[encoded data removed]",
      "text/latex": [
       "$$y{\\left (t \\right )} = C_{2} e^{- t} + \\left(C_{1} + \\frac{t}{2}\\right) e^{t}$$"
      ],
      "text/plain": [
       "           -t   ⎛     t⎞  t\n",
       "y(t) = C₂⋅ℯ   + ⎜C₁ + ─⎟⋅ℯ \n",
       "                ⎝     2⎠   "
      ]
     },
     "execution_count": 40,
     "metadata": {},
     "output_type": "execute_result"
    }
   ],
   "source": [
    "dsolve(Eq(y(t).diff(t,t)-y(t),sp.exp(t)),y(t))"
   ]
  },
  {
   "cell_type": "code",
   "execution_count": 42,
   "metadata": {
    "collapsed": false
   },
   "outputs": [],
   "source": [
    "expr = sp.cos(x)+1\n"
   ]
  },
  {
   "cell_type": "code",
   "execution_count": 45,
   "metadata": {
    "collapsed": false
   },
   "outputs": [
    {
     "data": {
      "image/png": "[encoded data removed]",
      "text/latex": [
       "$$\\cos{\\left (y \\right )} + 1$$"
      ],
      "text/plain": [
       "cos(y) + 1"
      ]
     },
     "execution_count": 45,
     "metadata": {},
     "output_type": "execute_result"
    }
   ],
   "source": [
    "expr.subs(x,y)"
   ]
  },
  {
   "cell_type": "code",
   "execution_count": 46,
   "metadata": {
    "collapsed": false
   },
   "outputs": [
    {
     "data": {
      "image/png": "[encoded data removed]",
      "text/latex": [
       "$$\\cos{\\left (x \\right )} + 1$$"
      ],
      "text/plain": [
       "cos(x) + 1"
      ]
     },
     "execution_count": 46,
     "metadata": {},
     "output_type": "execute_result"
    }
   ],
   "source": [
    "expr"
   ]
  },
  {
   "cell_type": "code",
   "execution_count": 47,
   "metadata": {
    "collapsed": false
   },
   "outputs": [
    {
     "data": {
      "image/png": "[encoded data removed]",
      "text/latex": [
       "$$2$$"
      ],
      "text/plain": [
       "2"
      ]
     },
     "execution_count": 47,
     "metadata": {},
     "output_type": "execute_result"
    }
   ],
   "source": [
    "expr.subs(x,0)"
   ]
  },
  {
   "cell_type": "code",
   "execution_count": 48,
   "metadata": {
    "collapsed": false
   },
   "outputs": [
    {
     "data": {
      "image/png": "[encoded data removed]",
      "text/latex": [
       "$$x^{y}$$"
      ],
      "text/plain": [
       " y\n",
       "x "
      ]
     },
     "execution_count": 48,
     "metadata": {},
     "output_type": "execute_result"
    }
   ],
   "source": [
    "expr = x**y\n",
    "expr"
   ]
  },
  {
   "cell_type": "code",
   "execution_count": 49,
   "metadata": {
    "collapsed": false
   },
   "outputs": [
    {
     "data": {
      "image/png": "[encoded data removed]",
      "text/latex": [
       "$$x^{x^{y}}$$"
      ],
      "text/plain": [
       " ⎛ y⎞\n",
       " ⎝x ⎠\n",
       "x    "
      ]
     },
     "execution_count": 49,
     "metadata": {},
     "output_type": "execute_result"
    }
   ],
   "source": [
    "expr=expr.subs(y,x**y)\n",
    "expr"
   ]
  },
  {
   "cell_type": "code",
   "execution_count": 51,
   "metadata": {
    "collapsed": false
   },
   "outputs": [
    {
     "data": {
      "image/png": "[encoded data removed]",
      "text/latex": [
       "$$x^{x^{x^{x}}}$$"
      ],
      "text/plain": [
       " ⎛ ⎛ x⎞⎞\n",
       " ⎜ ⎝x ⎠⎟\n",
       " ⎝x    ⎠\n",
       "x       "
      ]
     },
     "execution_count": 51,
     "metadata": {},
     "output_type": "execute_result"
    }
   ],
   "source": [
    "expr=expr.subs(y,x**x)\n",
    "expr"
   ]
  },
  {
   "cell_type": "code",
   "execution_count": 52,
   "metadata": {
    "collapsed": false
   },
   "outputs": [
    {
     "data": {
      "image/png": "[encoded data removed]",
      "text/latex": [
       "$$2 \\sin{\\left (x \\right )} \\cos{\\left (x \\right )} + 2 \\cos^{2}{\\left (x \\right )} - 1$$"
      ],
      "text/plain": [
       "                       2       \n",
       "2⋅sin(x)⋅cos(x) + 2⋅cos (x) - 1"
      ]
     },
     "execution_count": 52,
     "metadata": {},
     "output_type": "execute_result"
    }
   ],
   "source": [
    "expr=sp.sin(2*x)+sp.cos(2*x)\n",
    "expand_trig(expr)"
   ]
  },
  {
   "cell_type": "code",
   "execution_count": 55,
   "metadata": {
    "collapsed": true
   },
   "outputs": [],
   "source": [
    "expr=sp.sqrt(8)"
   ]
  },
  {
   "cell_type": "code",
   "execution_count": 56,
   "metadata": {
    "collapsed": false
   },
   "outputs": [
    {
     "data": {
      "image/png": "[encoded data removed]",
      "text/latex": [
       "$$2.82842712474619$$"
      ],
      "text/plain": [
       "2.82842712474619"
      ]
     },
     "execution_count": 56,
     "metadata": {},
     "output_type": "execute_result"
    }
   ],
   "source": [
    "expr.evalf()"
   ]
  },
  {
   "cell_type": "code",
   "execution_count": 58,
   "metadata": {
    "collapsed": false
   },
   "outputs": [
    {
     "data": {
      "image/png": "[encoded data removed]",
      "text/latex": [
       "$$3.141592653589793238462643383279502884197169399375105820974944592307816406286208998628034825342117068$$"
      ],
      "text/plain": [
       "3.1415926535897932384626433832795028841971693993751058209749445923078164062862\n",
       "08998628034825342117068"
      ]
     },
     "execution_count": 58,
     "metadata": {},
     "output_type": "execute_result"
    }
   ],
   "source": [
    "sp.pi.evalf(100)"
   ]
  },
  {
   "cell_type": "code",
   "execution_count": 59,
   "metadata": {
    "collapsed": false
   },
   "outputs": [
    {
     "data": {
      "image/png": "[encoded data removed]",
      "text/latex": [
       "$$0.0874989834394464$$"
      ],
      "text/plain": [
       "0.0874989834394464"
      ]
     },
     "execution_count": 59,
     "metadata": {},
     "output_type": "execute_result"
    }
   ],
   "source": [
    "expr=sp.cos(2*x)\n",
    "expr.evalf(subs={x:2.4})"
   ]
  },
  {
   "cell_type": "code",
   "execution_count": 60,
   "metadata": {
    "collapsed": false
   },
   "outputs": [
    {
     "data": {
      "text/plain": [
       "array([ 0.        ,  0.84147098,  0.90929743,  0.14112001, -0.7568025 ,\n",
       "       -0.95892427, -0.2794155 ,  0.6569866 ,  0.98935825,  0.41211849])"
      ]
     },
     "execution_count": 60,
     "metadata": {},
     "output_type": "execute_result"
    }
   ],
   "source": [
    "a=np.arange(10)\n",
    "expr=sp.sin(x)\n",
    "f=lambdify(x,expr,\"numpy\")\n",
    "f(a)"
   ]
  },
  {
   "cell_type": "code",
   "execution_count": 86,
   "metadata": {
    "collapsed": false
   },
   "outputs": [],
   "source": [
    "[F, O, D, NS, NH, ND, PS, PH, PD, muO, muD, muF, KPD, KPO, KPF, KND, KNO, m, mH, LL, LD, LH, aL, aH, SR, DR, DN, RN, AN, RP, KL, KH, rF, rO, rD] = symbols('F, O, D, NS, NH, ND, PS, PH, PD, muO, muD, muF, KPD, KPO, KPF, KND, KNO, m, mH, LL, LD, LH, aL, aH, SR, DR, DN, RN, AN, RP, KL, KH, rF, rO, rD')"
   ]
  },
  {
   "cell_type": "code",
   "execution_count": 148,
   "metadata": {
    "collapsed": false
   },
   "outputs": [],
   "source": [
    "expr0 = muF*PS/(KPF+PS)-m\n",
    "expr1 = muO*NS/(KNO+NS)-m\n",
    "expr2 = muD*NH/(KND+NH)-mH\n",
    "expr3 = -m*O+(SR-3*DN/4)*m*O+(SR-3*DN/4)*m*F+KL*(ND-NS)/LL+(RN+AN)/LL\n",
    "expr4 = -m*O/rO-m*F/rF+m*SR*O/rO+m*SR*F/rF+KL*(PD-PS)/LL+RP/LL\n",
    "expr5 = -mH*D+(SR-3*DN/4)*mH*D+KH*(ND-NH)/LH+(RN+AN)/LH\n",
    "expr6 = -m*D/rD+mH*SR*D/rD+KH*(PD-PH)/LH+RP/LD\n",
    "expr7 = (DR-DN/4)*m*F*LL*aL/LD+(DR-DN/4)*m*O*LL*aL/LD+(DR-DN/4)*mH*D*LH*aH/LD+KL*(NS-ND)*aL/LD+KH*(NH-ND)*aH/LD\n",
    "expr8 = DR*m*F/rF*LL*aL/LD+DR*m*O/rO*LL*aL/LD+DR*mH*D/rD*LH*aH/LD+KL*aL*(PS-PD)/LD+KH*aH*(PH-PD)/LD\n",
    "\n",
    "\n",
    "exprList = [expr0, expr1, expr2, expr3, expr4, expr5, expr6, expr7, expr8]\n",
    "varList = [F, O, D, PS, PH, PD, NS, NH, ND]\n",
    "\n"
   ]
  },
  {
   "cell_type": "code",
   "execution_count": 93,
   "metadata": {
    "collapsed": false
   },
   "outputs": [],
   "source": [
    "dict=sp.solve([expr0, expr1, expr2], [PS, NS, NH])"
   ]
  },
  {
   "cell_type": "code",
   "execution_count": 130,
   "metadata": {
    "collapsed": false
   },
   "outputs": [
    {
     "data": {
      "image/png": "[encoded data removed]",
      "text/latex": [
       "$$\\frac{F SR}{rF} m - \\frac{F m}{rF} + \\frac{KL}{LL} \\left(\\frac{KPF m}{m - muF} + PD\\right) + \\frac{O SR}{rO} m - \\frac{O m}{rO} + \\frac{RP}{LL}$$"
      ],
      "text/plain": [
       "                  ⎛ KPF⋅m      ⎞                    \n",
       "               KL⋅⎜─────── + PD⎟                    \n",
       "F⋅SR⋅m   F⋅m      ⎝m - muF     ⎠   O⋅SR⋅m   O⋅m   RP\n",
       "────── - ─── + ───────────────── + ────── - ─── + ──\n",
       "  rF      rF           LL            rO      rO   LL"
      ]
     },
     "execution_count": 130,
     "metadata": {},
     "output_type": "execute_result"
    }
   ],
   "source": [
    "eqList = [expr3, expr4, expr5, expr6, expr7, expr8]\n",
    "subbedEqList = [i.subs(dict) for i in eqList]\n",
    "\n",
    "\n",
    "\n",
    "\n"
   ]
  },
  {
   "cell_type": "code",
   "execution_count": 149,
   "metadata": {
    "collapsed": false
   },
   "outputs": [
    {
     "name": "stdout",
     "output_type": "stream",
     "text": [
      "Step1 -KPF*m/(m - muF) -KNO*m/(m - muO) -KND*mH/(mH - muD)\n",
      "Step2 (4*AN*m - 4*AN*muO - 3*DN*F*LL*m**2 + 3*DN*F*LL*m*muO + 4*F*LL*SR*m**2 - 4*F*LL*SR*m*muO + 4*KL*KNO*m + 4*KL*ND*m - 4*KL*ND*muO + 4*RN*m - 4*RN*muO)/(LL*m*(3*DN*m - 3*DN*muO - 4*SR*m + 4*SR*muO + 4*m - 4*muO))\n",
      "Step3 rF*(4*AN*SR*m**2 - 4*AN*SR*m*muF - 4*AN*SR*m*muO + 4*AN*SR*muF*muO - 4*AN*m**2 + 4*AN*m*muF + 4*AN*m*muO - 4*AN*muF*muO + 3*DN*KL*KPF*m**2*rO - 3*DN*KL*KPF*m*muO*rO + 3*DN*KL*PD*m**2*rO - 3*DN*KL*PD*m*muF*rO - 3*DN*KL*PD*m*muO*rO + 3*DN*KL*PD*muF*muO*rO + 3*DN*RP*m**2*rO - 3*DN*RP*m*muF*rO - 3*DN*RP*m*muO*rO + 3*DN*RP*muF*muO*rO + 4*KL*KNO*SR*m**2 - 4*KL*KNO*SR*m*muF - 4*KL*KNO*m**2 + 4*KL*KNO*m*muF - 4*KL*KPF*SR*m**2*rO + 4*KL*KPF*SR*m*muO*rO + 4*KL*KPF*m**2*rO - 4*KL*KPF*m*muO*rO + 4*KL*ND*SR*m**2 - 4*KL*ND*SR*m*muF - 4*KL*ND*SR*m*muO + 4*KL*ND*SR*muF*muO - 4*KL*ND*m**2 + 4*KL*ND*m*muF + 4*KL*ND*m*muO - 4*KL*ND*muF*muO - 4*KL*PD*SR*m**2*rO + 4*KL*PD*SR*m*muF*rO + 4*KL*PD*SR*m*muO*rO - 4*KL*PD*SR*muF*muO*rO + 4*KL*PD*m**2*rO - 4*KL*PD*m*muF*rO - 4*KL*PD*m*muO*rO + 4*KL*PD*muF*muO*rO + 4*RN*SR*m**2 - 4*RN*SR*m*muF - 4*RN*SR*m*muO + 4*RN*SR*muF*muO - 4*RN*m**2 + 4*RN*m*muF + 4*RN*m*muO - 4*RN*muF*muO - 4*RP*SR*m**2*rO + 4*RP*SR*m*muF*rO + 4*RP*SR*m*muO*rO - 4*RP*SR*muF*muO*rO + 4*RP*m**2*rO - 4*RP*m*muF*rO - 4*RP*m*muO*rO + 4*RP*muF*muO*rO)/(LL*m*(3*DN*SR*m**2*rF - 3*DN*SR*m**2*rO - 3*DN*SR*m*muF*rF + 3*DN*SR*m*muF*rO - 3*DN*SR*m*muO*rF + 3*DN*SR*m*muO*rO + 3*DN*SR*muF*muO*rF - 3*DN*SR*muF*muO*rO - 3*DN*m**2*rF + 3*DN*m**2*rO + 3*DN*m*muF*rF - 3*DN*m*muF*rO + 3*DN*m*muO*rF - 3*DN*m*muO*rO - 3*DN*muF*muO*rF + 3*DN*muF*muO*rO - 4*SR**2*m**2*rF + 4*SR**2*m**2*rO + 4*SR**2*m*muF*rF - 4*SR**2*m*muF*rO + 4*SR**2*m*muO*rF - 4*SR**2*m*muO*rO - 4*SR**2*muF*muO*rF + 4*SR**2*muF*muO*rO + 4*SR*m**2*rF - 8*SR*m**2*rO - 4*SR*m*muF*rF + 8*SR*m*muF*rO - 4*SR*m*muO*rF + 8*SR*m*muO*rO + 4*SR*muF*muO*rF - 8*SR*muF*muO*rO + 4*m**2*rO - 4*m*muF*rO - 4*m*muO*rO + 4*muF*muO*rO))\n",
      "Step4 4*(AN*mH - AN*muD + KH*KND*mH + KH*ND*mH - KH*ND*muD + RN*mH - RN*muD)/(LH*mH*(3*DN*mH - 3*DN*muD - 4*SR*mH + 4*SR*muD + 4*mH - 4*muD))\n",
      "Step5"
     ]
    },
    {
     "ename": "NameError",
     "evalue": "name 'PHExp' is not defined",
     "output_type": "error",
     "traceback": [
      "\u001b[1;31m---------------------------------------------------------------------------\u001b[0m",
      "\u001b[1;31mNameError\u001b[0m                                 Traceback (most recent call last)",
      "\u001b[1;32m<ipython-input-149-249fd9c4c43f>\u001b[0m in \u001b[0;36m<module>\u001b[1;34m()\u001b[0m\n\u001b[0;32m     23\u001b[0m \u001b[0mFexp\u001b[0m\u001b[1;33m=\u001b[0m\u001b[0msp\u001b[0m\u001b[1;33m.\u001b[0m\u001b[0msimplify\u001b[0m\u001b[1;33m(\u001b[0m\u001b[0mFexp\u001b[0m\u001b[1;33m.\u001b[0m\u001b[0msubs\u001b[0m\u001b[1;33m(\u001b[0m\u001b[0mPH\u001b[0m\u001b[1;33m,\u001b[0m\u001b[0mPHexp\u001b[0m\u001b[1;33m)\u001b[0m\u001b[1;33m)\u001b[0m\u001b[1;33m\u001b[0m\u001b[0m\n\u001b[0;32m     24\u001b[0m \u001b[0mexprList\u001b[0m \u001b[1;33m=\u001b[0m \u001b[1;33m[\u001b[0m\u001b[0msp\u001b[0m\u001b[1;33m.\u001b[0m\u001b[0msimplify\u001b[0m\u001b[1;33m(\u001b[0m\u001b[0mi\u001b[0m\u001b[1;33m.\u001b[0m\u001b[0msubs\u001b[0m\u001b[1;33m(\u001b[0m\u001b[0mPH\u001b[0m\u001b[1;33m,\u001b[0m\u001b[0mPHexp\u001b[0m\u001b[1;33m)\u001b[0m\u001b[1;33m)\u001b[0m \u001b[1;32mfor\u001b[0m \u001b[0mi\u001b[0m \u001b[1;32min\u001b[0m \u001b[0mexprList\u001b[0m\u001b[1;33m]\u001b[0m\u001b[1;33m\u001b[0m\u001b[0m\n\u001b[1;32m---> 25\u001b[1;33m \u001b[1;32mprint\u001b[0m \u001b[1;34m'Step5'\u001b[0m\u001b[1;33m,\u001b[0m \u001b[0mPHExp\u001b[0m\u001b[1;33m\u001b[0m\u001b[0m\n\u001b[0m\u001b[0;32m     26\u001b[0m \u001b[1;32mprint\u001b[0m \u001b[0msp\u001b[0m\u001b[1;33m.\u001b[0m\u001b[0mcollect\u001b[0m\u001b[1;33m(\u001b[0m\u001b[0mexprList\u001b[0m\u001b[1;33m[\u001b[0m\u001b[1;36m7\u001b[0m\u001b[1;33m]\u001b[0m\u001b[1;33m,\u001b[0m\u001b[0mND\u001b[0m\u001b[1;33m)\u001b[0m\u001b[1;33m\u001b[0m\u001b[0m\n\u001b[0;32m     27\u001b[0m \u001b[0mNDexp\u001b[0m \u001b[1;33m=\u001b[0m \u001b[0msp\u001b[0m\u001b[1;33m.\u001b[0m\u001b[0msolve\u001b[0m\u001b[1;33m(\u001b[0m\u001b[0msp\u001b[0m\u001b[1;33m.\u001b[0m\u001b[0mcollect\u001b[0m\u001b[1;33m(\u001b[0m\u001b[0mexprList\u001b[0m\u001b[1;33m[\u001b[0m\u001b[1;36m7\u001b[0m\u001b[1;33m]\u001b[0m\u001b[1;33m,\u001b[0m\u001b[0mND\u001b[0m\u001b[1;33m)\u001b[0m\u001b[1;33m,\u001b[0m\u001b[0mND\u001b[0m\u001b[1;33m)\u001b[0m\u001b[1;33m[\u001b[0m\u001b[1;36m0\u001b[0m\u001b[1;33m]\u001b[0m\u001b[1;33m\u001b[0m\u001b[0m\n",
      "\u001b[1;31mNameError\u001b[0m: name 'PHExp' is not defined"
     ]
    }
   ],
   "source": [
    "PSExp = sp.solve(expr0,PS)[0]\n",
    "NSExp = sp.solve(expr1,NS)[0]\n",
    "NHExp = sp.solve(expr2,NH)[0]\n",
    "print 'Step1', PSExp, NSExp, NHExp\n",
    "exprList = [sp.simplify(i.subs([(PS,PSExp),(NS,NSExp),(NH,NHExp)])) for i in exprList]\n",
    "\n",
    "Oexp = sp.simplify(sp.solve(exprList[3],O)[0])\n",
    "exprList = [sp.simplify(i.subs(O,Oexp)) for i in exprList]\n",
    "print 'Step2', Oexp\n",
    "Fexp = sp.simplify(sp.solve(exprList[4],F)[0])\n",
    "Oexp=sp.simplify(Oexp.subs(F,Fexp))\n",
    "exprList = [sp.simplify(i.subs(F,Fexp)) for i in exprList]\n",
    "print 'Step3', Fexp\n",
    "Dexp = sp.simplify(sp.solve(exprList[5],D)[0])\n",
    "Oexp=sp.simplify(Oexp.subs(D,Dexp))\n",
    "Fexp=sp.simplify(Fexp.subs(D,Dexp))\n",
    "exprList = [sp.simplify(i.subs(D,Dexp)) for i in exprList]\n",
    "print 'Step4', Dexp\n",
    "PHexp = sp.simplify(sp.solve(exprList[6],PH)[0])\n",
    "\n",
    "Dexp=sp.simplify(Dexp.subs(PH,PHexp))\n",
    "Oexp=sp.simplify(Oexp.subs(PH,PHexp))\n",
    "Fexp=sp.simplify(Fexp.subs(PH,PHexp))\n",
    "exprList = [sp.simplify(i.subs(PH,PHexp)) for i in exprList]\n",
    "print 'Step5', PHexp\n",
    "print sp.collect(exprList[7],ND)\n",
    "NDexp = sp.solve(sp.collect(exprList[7],ND),ND)[0]\n",
    "print 'Here1'\n",
    "Dexp=Dexp.subs(ND,NDexp)\n",
    "Oexp=Oexp.subs(ND,NDexp)\n",
    "Fexp=Fexp.subs(ND,NDexp)\n",
    "PHexp=PHexp.subs(ND,NDexp)\n",
    "\n",
    "exprList = [i.subs(ND,NDexp) for i in exprList]\n",
    "print 'Step6'\n",
    "\n",
    "PDexp = sp.solve(exprList[8],PD)[0]\n",
    "\n",
    "NDexp=NDexp.subs(PD,PDexp)\n",
    "Dexp=Dexp.subs(PD,PDexp)\n",
    "Oexp=Oexp.subs(PD,PDexp)\n",
    "Fexp=Fexp.subs(PD,PDexp)\n",
    "PHexp=PHexp.subs(PD,PDexp)\n",
    "\n",
    "\n",
    "\n",
    "\n",
    "\n"
   ]
  },
  {
   "cell_type": "code",
   "execution_count": 97,
   "metadata": {
    "collapsed": true
   },
   "outputs": [],
   "source": [
    "vList = [F, O, D,  PH, PD, ND]"
   ]
  },
  {
   "cell_type": "code",
   "execution_count": 106,
   "metadata": {
    "collapsed": false
   },
   "outputs": [
    {
     "data": {
      "image/png": "[encoded data removed]",
      "text/latex": [
       "$$\\frac{1}{LL m \\left(3 DN - 4 SR + 4\\right)} \\left(4 AN - 3 DN F LL m + 4 F LL SR m + 4 KL ND - 4 KL NS + 4 RN\\right)$$"
      ],
      "text/plain": [
       "4⋅AN - 3⋅DN⋅F⋅LL⋅m + 4⋅F⋅LL⋅SR⋅m + 4⋅KL⋅ND - 4⋅KL⋅NS + 4⋅RN\n",
       "───────────────────────────────────────────────────────────\n",
       "                   LL⋅m⋅(3⋅DN - 4⋅SR + 4)                  "
      ]
     },
     "execution_count": 106,
     "metadata": {},
     "output_type": "execute_result"
    }
   ],
   "source": [
    "Oexp[0]"
   ]
  },
  {
   "cell_type": "code",
   "execution_count": 124,
   "metadata": {
    "collapsed": false
   },
   "outputs": [
    {
     "data": {
      "image/png": "[encoded data removed]",
      "text/latex": [
       "$$- \\frac{rO \\left(4 AN SR - 4 AN + 3 DN KL PD rF - 3 DN KL PS rF + 3 DN RP rF + 4 KL ND SR - 4 KL ND - 4 KL NS SR + 4 KL NS - 4 KL PD SR rF + 4 KL PS SR rF + 4 RN SR - 4 RN - 4 RP SR rF\\right)}{LL m \\left(3 DN SR rF - 3 DN SR rO - 3 DN rF + 3 DN rO - 4 SR^{2} rF + 4 SR^{2} rO + 4 SR rF - 8 SR rO + 4 rO\\right)}$$"
      ],
      "text/plain": [
       "-rO⋅(4⋅AN⋅SR - 4⋅AN + 3⋅DN⋅KL⋅PD⋅rF - 3⋅DN⋅KL⋅PS⋅rF + 3⋅DN⋅RP⋅rF + 4⋅KL⋅ND⋅SR \n",
       "──────────────────────────────────────────────────────────────────────────────\n",
       "                                          ⎛                                   \n",
       "                                     LL⋅m⋅⎝3⋅DN⋅SR⋅rF - 3⋅DN⋅SR⋅rO - 3⋅DN⋅rF +\n",
       "\n",
       "- 4⋅KL⋅ND - 4⋅KL⋅NS⋅SR + 4⋅KL⋅NS - 4⋅KL⋅PD⋅SR⋅rF + 4⋅KL⋅PS⋅SR⋅rF + 4⋅RN⋅SR - 4\n",
       "──────────────────────────────────────────────────────────────────────────────\n",
       "               2          2                              ⎞                    \n",
       " 3⋅DN⋅rO - 4⋅SR ⋅rF + 4⋅SR ⋅rO + 4⋅SR⋅rF - 8⋅SR⋅rO + 4⋅rO⎠                    \n",
       "\n",
       "⋅RN - 4⋅RP⋅SR⋅rF) \n",
       "──────────────────\n",
       "                  \n",
       "                  "
      ]
     },
     "execution_count": 124,
     "metadata": {},
     "output_type": "execute_result"
    }
   ],
   "source": [
    "simplify(Oexp)\n"
   ]
  },
  {
   "cell_type": "code",
   "execution_count": 127,
   "metadata": {
    "collapsed": false
   },
   "outputs": [
    {
     "ename": "TypeError",
     "evalue": "'tuple' object is not callable",
     "output_type": "error",
     "traceback": [
      "\u001b[1;31m---------------------------------------------------------------------------\u001b[0m",
      "\u001b[1;31mTypeError\u001b[0m                                 Traceback (most recent call last)",
      "\u001b[1;32m<ipython-input-127-d53f976ce1f2>\u001b[0m in \u001b[0;36m<module>\u001b[1;34m()\u001b[0m\n\u001b[0;32m      1\u001b[0m \u001b[1;33m\u001b[0m\u001b[0m\n\u001b[1;32m----> 2\u001b[1;33m \u001b[0msp\u001b[0m\u001b[1;33m.\u001b[0m\u001b[0msolve\u001b[0m\u001b[1;33m(\u001b[0m\u001b[0mexpr5\u001b[0m\u001b[1;33m.\u001b[0m\u001b[0msubs\u001b[0m\u001b[1;33m(\u001b[0m\u001b[1;33m[\u001b[0m\u001b[1;33m(\u001b[0m\u001b[0mF\u001b[0m\u001b[1;33m,\u001b[0m\u001b[0mFexp\u001b[0m\u001b[1;33m)\u001b[0m\u001b[1;33m(\u001b[0m\u001b[0mO\u001b[0m\u001b[1;33m,\u001b[0m\u001b[0mOexp\u001b[0m\u001b[1;33m)\u001b[0m\u001b[1;33m]\u001b[0m\u001b[1;33m)\u001b[0m\u001b[1;33m,\u001b[0m\u001b[0mD\u001b[0m\u001b[1;33m)\u001b[0m\u001b[1;33m\u001b[0m\u001b[0m\n\u001b[0m",
      "\u001b[1;31mTypeError\u001b[0m: 'tuple' object is not callable"
     ]
    }
   ],
   "source": [
    "\n",
    "sp.solve(expr5.subs([(F,Fexp)(O,Oexp)]),D)\n"
   ]
  },
  {
   "cell_type": "code",
   "execution_count": 128,
   "metadata": {
    "collapsed": false
   },
   "outputs": [
    {
     "data": {
      "image/png": "[encoded data removed]",
      "text/latex": [
       "$$\\begin{bmatrix}\\frac{4 AN + 4 KH ND - 4 KH NH + 4 RN}{LH mH \\left(3 DN - 4 SR + 4\\right)}\\end{bmatrix}$$"
      ],
      "text/plain": [
       "⎡4⋅(AN + KH⋅ND - KH⋅NH + RN)⎤\n",
       "⎢───────────────────────────⎥\n",
       "⎣  LH⋅mH⋅(3⋅DN - 4⋅SR + 4)  ⎦"
      ]
     },
     "execution_count": 128,
     "metadata": {},
     "output_type": "execute_result"
    }
   ],
   "source": [
    "Dexp=sp.solve(expr5.subs([(F,Fexp),(O,Oexp)]),D)[0]\n",
    "Oexp=Oexp.subs(D,Dexp)\n",
    "Fexp=Fexp.subs(D,Dexp)\n",
    "\n",
    "\n",
    "\n",
    "\n"
   ]
  },
  {
   "cell_type": "code",
   "execution_count": null,
   "metadata": {
    "collapsed": true
   },
   "outputs": [],
   "source": []
  }
 ],
 "metadata": {
  "kernelspec": {
   "display_name": "Python 2",
   "language": "python",
   "name": "python2"
  },
  "language_info": {
   "codemirror_mode": {
    "name": "ipython",
    "version": 2
   },
   "file_extension": ".py",
   "mimetype": "text/x-python",
   "name": "python",
   "nbconvert_exporter": "python",
   "pygments_lexer": "ipython2",
   "version": "2.7.8"
  }
 },
 "nbformat": 4,
 "nbformat_minor": 0
}
