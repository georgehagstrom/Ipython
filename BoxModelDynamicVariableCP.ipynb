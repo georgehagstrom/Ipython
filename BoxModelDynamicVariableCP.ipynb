{
 "cells": [
  {
   "cell_type": "code",
   "execution_count": 1,
   "metadata": {
    "collapsed": false
   },
   "outputs": [
    {
     "name": "stdout",
     "output_type": "stream",
     "text": [
      "Populating the interactive namespace from numpy and matplotlib\n"
     ]
    },
    {
     "name": "stderr",
     "output_type": "stream",
     "text": [
      "/usr/lib/pymodules/python2.7/matplotlib/__init__.py:1173: UserWarning:  This call to matplotlib.use() has no effect\n",
      "because the backend has already been chosen;\n",
      "matplotlib.use() must be called *before* pylab, matplotlib.pyplot,\n",
      "or matplotlib.backends is imported for the first time.\n",
      "\n",
      "  warnings.warn(_use_error_msg)\n"
     ]
    }
   ],
   "source": [
    "\n",
    "from scipy.integrate import ode\n",
    "\n",
    "%pylab inline\n",
    "\n",
    "import numpy as np\n",
    "from scipy import optimize\n",
    "\n",
    "import matplotlib.pyplot as plt\n",
    "matplotlib.use(\"Agg\")\n",
    "import scipy.io as sio\n",
    "import scipy.signal\n",
    "from pylab import *\n",
    "\n",
    "asin=np.arcsin\n",
    "sqrt=np.sqrt\n",
    "sin=np.sin\n",
    "cos=np.cos\n",
    "pi=np.pi\n",
    "exp=np.exp\n",
    "tan=np.tan\n",
    "I=1j\n",
    "inf=np.inf\n",
    "\n",
    "hilbert=scipy.signal.hilbert\n"
   ]
  },
  {
   "cell_type": "code",
   "execution_count": null,
   "metadata": {
    "collapsed": true
   },
   "outputs": [],
   "source": [
    "# Here we code up the Daines et al model for subcellular resource allocation.\n",
    "# A plankton will be parametrized by two parameters, the cell radius and the \n",
    "# allocation to light harvesting machinery. The percent mass of a cell will be decided as\n",
    "# S+R+L=1.0.\n",
    "\n",
    "\n",
    "# First we write the membrane volume, which is a function of the membrane thickness and periplasmic thickness:\n",
    "# To do this we need some constants. Our units will be in nanometers\n",
    "\n",
    "tcm = 9.0 # cytoplasmic membrane width\n",
    "tom = 9.0 # outer membrane width\n",
    "tp = 15.0 # periplasm width\n",
    "# The units of volume with be cubic micrometers, which are cubic nm times 10**(-9)\n",
    "def Vmem(r):\n",
    "    Vom = 4.0*pi/3.0*(r**3-(r-tom)**3)\n",
    "    Vcm = 4.0*pi/3.0*((r-tom-tp)**3-(r-tom-tp-tcm)**3)\n",
    "    return (Vom+Vcm)*(1.0e-9)\n",
    "\n",
    "# Here we have reference values for the density of a membrane and the volume of a membrane:\n",
    "rhoMemStandard = 1.15 # In units of Mg/m^(-3)\n",
    "VMemStandard = .19 # In units of micrometers ^3\n",
    "\n",
    "# Now we can define the mass of the membrane, both as a function of the dimensional and relative density and volume\n",
    "\n",
    "def massMem(rhoMem,VMem):\n",
    "    return rhoMem*VMem # This is in units of femtograms\n",
    "\n",
    "def massMemND(rhoMemRel,VMemRel):\n",
    "    return 220*rhoMemRel*VMemRel # In units of femtograms\n",
    "\n",
    "# Now we calculate the overall cellular dry mass. Here pDryWeight is a percent dry weight, rho is density in Mg/m^3 and\n",
    "# r is in units of micrometers\n",
    "\n",
    "def mDryCell(pDryWeight,rho,r):\n",
    "    return 4*pi/3.0*pDryWeight*rho*r**3*10**(6)*10**(-18) # This weight is in units of grams\n",
    "    \n",
    "# S(r) is the percent of the cell dry mass that is associated with structure. It depends on the DNA mass, which could be modelled\n",
    "# either as a constant or as a function of cell size. All mass will be in femtograms\n",
    "\n",
    "mDNA = 1.8  \n",
    "rho=1.0\n",
    "pDryWeight=.47\n",
    "\n",
    "alphaS = .12\n",
    "gamma = .2\n",
    "\n",
    "\n",
    "def S(r):   \n",
    "    return .12/r+.2  # This is in units of percent dry weight\n",
    "    \n",
    "\n",
    "D = 3.6e7/24 # Diffusion coefficient in micrometers^2/h\n",
    "DFe = 3.6e7/24.0\n",
    "# Here are costs of synthesis and maintenance of different cellular components\n",
    "PhiS = .67\n",
    "PhiMT0 = .001\n",
    "T0= 25.0\n",
    "QPhi = 2.0\n",
    "\n",
    "def PhiM(T):\n",
    "    return PhiMT0*QPhi**((T-T0)/10)\n",
    "\n",
    "# We define the photosynthesis rate\n",
    "\n",
    "kP=1.15*3.9*10**(-3) # Photosynthetic efficiency in units of the photosynthetic apparatus in units of m^2 s /microEinsteins hours\n",
    "def fPhoto(L,I):\n",
    "    return kP*L*I\n",
    "\n",
    "# Now for the biosynthesis terms\n",
    "kST0 = .168 # Biosynthesis efficiency at temperature T=T0\n",
    "Q10k = 2.0\n",
    "def fBio(E,T):\n",
    "    return E*kST0*Q10k**((T-T0)/10.0)\n",
    "\n",
    "\n",
    "# Now for uptake rate terms:\n",
    "\n",
    "# We begin with P uptake. In order to define P uptake, we need to determine what VMaxP and KP are as functions of radius.\n",
    "# c1=1e-15*4*pi/3.0/24.0\n",
    "c1 = 2e-15*4*pi/3.0/24.0 # This is in units of mole P/cell/hr/micrometer^2\n",
    "\n",
    "# We calculate the affinity at r=1\n",
    "\n",
    "def Affinity(r):\n",
    "    return 4*pi*D*r*1e-15\n",
    "\n",
    "def VMaxP(r):\n",
    "    return c1*r**2 # Units of micromoles P/cell/hr\n",
    "\n",
    "c2 = VMaxP(1.0)/Affinity(1.0) # This is in units of micromol P/L/micrometer\n",
    "\n",
    "def KP(r):\n",
    "    return c2*r  # This is micromol P/L\n",
    "\n",
    "# Now we can use monod kinetics\n",
    "\n",
    "def uptakeRateP(r,P):\n",
    "    return VMaxP(r)*P/(P+KP(r))  # This is micromol P/hr\n",
    "\n",
    "# Next we define the corresponding function for Fe\n",
    "\n",
    "\n",
    "c4 = 100*10**(-3.0) # microMol Fe/L\n",
    "c3 = 1.5*10**(-8)/24.0 #micromol Fe/hr\n",
    "def VMaxFe(r):\n",
    "    return c3*r**2/25  # Units of microMol Fe/hr\n",
    "\n",
    "def KFe(r):\n",
    "    return c4*r/5  # units of micromol Fe\n",
    "\n",
    "def uptakeRateFe(r,Fe):\n",
    "    #return VMaxFe(r)*Fe/(Fe+KFe(r))\n",
    "    return DFe*4*pi*r*Fe*1e-15\n",
    "    \n",
    "\n",
    "\n",
    "# In order to calculate the growth rate of a strategy, we need to calculate the quota of said strategy\n",
    "\n",
    "\n",
    "alphaE=.55\n",
    "PPhosphoLipid = .042\n",
    "PDNA = .095\n",
    "PRibosomeEu = .047\n",
    "\n",
    "NProtein = .16\n",
    "NRibosomeEu = .156\n",
    "NDNA = .16\n",
    "NPhospholipid = .016\n",
    "\n",
    "CProtein = .53\n",
    "CDNA = .36\n",
    "CPhospholipid = .65\n",
    "CRibosomeEu = .419\n",
    "\n",
    "CCarb = .4\n",
    "CLipid = .76\n",
    "\n",
    "# From this ratio we can calculate the stoichiometry (N:P) of the biosynthesis component. Essentially we use the rule that \n",
    "# N is 16% of dry mass, and that P is 4.2% by mass of the phospholipid pool, and that P is 4.7% by mass of the Ribosome pool.\n",
    "\n",
    "def totalP(E,r):\n",
    "    return ((.3*alphaS/r+.05)*PPhosphoLipid+alphaE*E*PRibosomeEu+.01*PDNA)/31\n",
    "\n",
    "def totalN(E,r):\n",
    "    return ((.3*alphaS/r+.05)*NPhospholipid+.7*alphaS*NProtein/r+(1-alphaE)*E*NProtein+alphaE*E*NRibosomeEu+(1-E-alphaS/r-gamma)*NProtein+.01*NDNA)/14.0\n",
    "\n",
    "def totalC(E,r):\n",
    "    return ((.3*alphaS/r+.05)*CPhospholipid+.7*alphaS*CProtein/r+.10*CLipid+.4*CCarb+(1-alphaE)*E*CProtein+alphaE*E*CRibosomeEu+(1-E-alphaS/r-gamma)*CProtein+.01*CDNA)/12.0\n",
    "\n",
    "\n",
    "\n",
    "\n",
    "FePerL = 5e-6    # mol Fe per gram dry mass of the light gathering machinery\n",
    "\n",
    "\n",
    "\n",
    "\n",
    "def QFe(r,L):\n",
    "    return mDryCell(pDryWeight,rho,r)*L*FePerL   #.5/12*38*1e-6*2\n",
    "def QP(r,L):\n",
    "    return mDryCell(pDryWeight,rho,r)*totalP(1-S(r)-L,r)\n",
    "\n",
    "# Now we use the quotas to define the growth rates\n",
    "\n",
    "def muFe(r,L,Fe):\n",
    "    return uptakeRateFe(r,Fe)/QFe(r,L)\n",
    "\n",
    "def muP(r,L,P):\n",
    "    return uptakeRateP(r,P)/QP(r,L)\n",
    "\n",
    "\n",
    "\n",
    "#we are in position to define the growth rate as a function of environmental conditions and strategy\n",
    "\n",
    "def mu(r,E,I,T,P,Fe):\n",
    "    L = 1-S(r)-E\n",
    "    #print L\n",
    "    BioSynthesisRate = min([(fPhoto(1-S(r)-E,I)-PhiM(T))/(1+PhiS), fBio(E,T), muP(r,L,P),muFe(r,L,Fe)])\n",
    "    if BioSynthesisRate>0:\n",
    "        return BioSynthesisRate\n",
    "    return min([0,fPhoto(1-S(r)-E,100)-PhiM(T)])\n",
    "\n",
    "\n",
    "# In this function we will calculate the optimal strategy \n",
    "\n",
    "def optimalStrategy(I,T,P,Fe):\n",
    "    # The first step will be to find E as a function of r\n",
    "    CE = alphaE*PRibosomeEu/31.0\n",
    "    KST = kST0*Q10k**((T-T0)/10.0)\n",
    "    a=CE*KST  \n",
    "    CP = .3*alphaS*PPhosphoLipid/31.0\n",
    "    CS = (.05*PPhosphoLipid + .01*PDNA)/31.0\n",
    "    def b(r):\n",
    "        return KST/31.0*(CP/r+CS)\n",
    "    def c(r):\n",
    "        return -VMaxP(r)*P/(P+KP(r))*1/(mDryCell(pDryWeight,rho,r))\n",
    "    \n",
    "    \n",
    "    def E(r):\n",
    "        return (-b(r)+sqrt(b(r)**2-4*a*c(r)))/(2*a)\n",
    "    \n",
    "    def zeroFunction(r):\n",
    "        return fBio(E(r),T)-(fPhoto(1-S(r)-E(r),I)-PhiM(T))/(1+PhiS)    \n",
    "    \n",
    "    def rMinFunction(r):\n",
    "        return muP(r,0,P)-fBio(1-S(r)-E(r),10)\n",
    "    rMin = scipy.optimize.brentq(rMinFunction,alphaS/(1-gamma),1000)\n",
    "    rOpt=scipy.optimize.brentq(zeroFunction,alphaS/(1-gamma), 1000)\n",
    "    \n",
    "    # Now we find the optimal Fe limited strategy\n",
    "    aFe = kP*I/(1+PhiS)\n",
    "    bFe = -PhiM(T)/(1+PhiS)\n",
    "    def cFe(r):\n",
    "        return -uptakeRateFe(r,Fe)/(mDryCell(pDryWeight,rho,r)*FePerL)\n",
    "    def LFe(r):\n",
    "        return (-bFe+sqrt(bFe**2-4*aFe*cFe(r)))/(2*aFe)\n",
    "    def zeroFunctionFe(r):\n",
    "        return muFe(r,LFe(r),Fe)-fBio(1-S(r)-LFe(r),T)\n",
    "    rOptFe = scipy.optimize.brentq(zeroFunctionFe,.15,1000)\n",
    "    if mu(rOpt,E(rOpt),I,T,P,Fe)>mu(rOptFe,1-S(rOptFe)-LFe(rOptFe),I,T,P,Fe):\n",
    "        return [rOpt,E(rOpt)]\n",
    "    return [rOptFe,1-S(rOptFe)-LFe(rOptFe)]\n",
    "    \n",
    "\n",
    "def optimalCP(I,T,P,Fe):\n",
    "    a1=optimalStrategy(I,T,P,Fe)\n",
    "    r=a1[0]\n",
    "    E=a1[1]\n",
    "    PLimitedCP = totalC(E,r)/totalP(E,r)\n",
    "    if mu(r,E,I,T,P,Fe)< muP(r,1-S(r)-E,P):\n",
    "        return PLimitedCP*(mu(r,E,I,T,P,Fe)/muP(r,1-S(r)-E,P))\n",
    "    return PLimitedCP"
   ]
  },
  {
   "cell_type": "code",
   "execution_count": null,
   "metadata": {
    "collapsed": true
   },
   "outputs": [],
   "source": []
  },
  {
   "cell_type": "code",
   "execution_count": 618,
   "metadata": {
    "collapsed": false
   },
   "outputs": [],
   "source": [
    "# First we define the set of constants that parametrize our model:\n",
    "\n",
    "T = 25.0e6  # units of m^3/s\n",
    "fhd = 38.1e6  # units of m^3/s\n",
    "rpa = 38    # units of equivalents Alk/mol P (not sure what an equivalent is)\n",
    "\n",
    "def rpch(P):\n",
    "    return optimalCP(IH,TH,P,FeH)\n",
    "\n",
    "def rpcl(P):\n",
    "    return optimalCP(IL,TL,P,FeL)\n",
    "\n",
    "\n",
    "rpch = 70 # units of mol C/mol P\n",
    "rpcl = 131\n",
    "phP = 2.31e9/131.0\n",
    "ph = phP*rpch \n",
    "#pl = 5e5/rac      # units of mol C/S (not sure why it is C and not P)\n",
    "fah = 3*.15*36.1e12 # units of m^3/day\n",
    "fal = 3*.85*36.1e12      # units of m^3/day\n",
    "volumeH = 36e12*.15*250 # units of m^3\n",
    "volumeL = 36e12*.85*100 # units of m^3\n",
    "volumeD = 36e12*4000 # units of m^3\n",
    "molesAtmosphere = 1.8e20 # units of mol Gas\n",
    "\n",
    "\n",
    "FeH = 1.5e-10\n",
    "IH = 30\n",
    "FeL = 5e-9\n",
    "IL = 100\n",
    "\n",
    "TH = 2.5   # Temperature in degrees Centigrade in the high lattitude box\n",
    "TL = 21.0  # Low Lattitude Temperature in degrees C\n",
    "TD = 2.0   # Temperature ofthe deep ocean in degrees C\n",
    "SH = 34.70  # High Lattitude Salinity in Practical Salinity Units\n",
    "SL = 34.70 # Low Lattitude salinity in Practical Salinity Units\n",
    "SD = 34.70  # Deep Ocean Salinity in Practical Salinity Units\n",
    "PL = 0 # Low Lattitude PO4 in mumol/L\n",
    "\n",
    "\n",
    "phP = ph/rpch\n",
    "\n",
    "\n",
    "def plP(PD):  # milimol P/s\n",
    "    return T*PD-T*PL\n",
    "\n",
    "\n",
    "def pl(PD):\n",
    "    return (T*PD-T*PL)*rpcl\n",
    "\n",
    "# We are going to define a 4 box model of the atmosphere and oceans,\n",
    "# The high and low lattitude surface oceans will each have a box, as\n",
    "# will the global atmosphere and the deep ocean. The dynamical variables\n",
    "# will be each the concentration of Phosphorous, Dissolved Inorganic \n",
    "# Carbon, and alkalinity in the ocean boxes, and pC02 in the atmosphere\n",
    "# box. \n",
    "\n",
    "# We will define the flux of each element individually\n",
    "\n",
    "# These P fluxes have units of microMol/L water/s * m^3 water = milimol P/s\n",
    "\n",
    "def fluxPH(PD,PH,PL): \n",
    "    if PH < 1e-3:\n",
    "        return max([0,T*PL-(T+fhd)*PH+fhd*PD-phP])\n",
    "    return T*PL-(T+fhd)*PH+fhd*PD-phP\n",
    "\n",
    "def fluxPD(PD,PH,PL):\n",
    "    \n",
    "    if PH < 1e-3 and T*PL-(T+fhd)*PH+fhd*PD-phP<0:\n",
    "        return T*PL-T*PD+plP(PD)\n",
    "    return (T+fhd)*PH-(T+fhd)*PD+plP(PD)+phP\n",
    "\n",
    "#def fluxPL(PD,PH,PL):\n",
    "#    return T*PD-T*PL-pl\n",
    "\n",
    "# These Alkalinity fluxes have units of miliEquivalents of Alkalinity per second (using similar arguments as to P)\n",
    "\n",
    "\n",
    "def fluxAH(AD,AH,AL,PD,PH,PL):\n",
    "    if PH<1e-3 and T*PL-(T+fhd)*PH+fhd*PD-phP<0:\n",
    "        return T*AL-(T+fhd)*AH+fhd*AD-(T*PL-(T+fhd)*PH+fhd*PD)*rpa\n",
    "    return T*AL-(T+fhd)*AH+fhd*AD-phP*rpa\n",
    "\n",
    "def fluxAD(AD,AH,AL,PD,PH,PL):\n",
    "    if PH<1e-3 and T*PL-(T+fhd)*PH+fhd*PD-phP<0:\n",
    "        return (T+fhd)*AH+(T*PL-(T+fhd)*PH+fhd*PD)*rpa-(T+fhd)*AD+plP(PD)*rpa\n",
    "    return (T+fhd)*AH+phP*rpa-(T+fhd)*AD+plP(PD)*rpa\n",
    "\n",
    "def fluxAL(AD,AH,AL,PD):\n",
    "    return T*AD-T*AL-plP(PD)*rpa\n",
    "\n",
    "\n",
    "\n",
    "# These Carbon fluxes have the units milimol C/S. We have to apply an adjustment term to the parts with atmospheric\n",
    "# flux, which were initially on a per day schedule.\n",
    "\n",
    "secondsPerDay = 3600.0\n",
    "\n",
    "\n",
    "def fluxCD(CD,CH,CL,PD, PH, PL):\n",
    "    if PH<1e-3 and T*PL-(T+fhd)*PH+fhd*PD-phP<0:\n",
    "        return (T+fhd)*CH-(T+fhd)*CD+(T*PL-(T+fhd)*PH+fhd*PD)/rpch+pl(PD)\n",
    "    return (T+fhd)*CH-(T+fhd)*CD+ph+pl(PD)\n",
    "\n",
    "# In order to calculate the flux of carbon into the upper ocean boxes\n",
    "# and the atmosphere we need to calculate the pCO2 of the upper ocean \n",
    "# boxes\n",
    "\n",
    "\n",
    "# The units of solubility are, for K0, mol/kg/atm, and for K1 and K2 mol/kg\n",
    "\n",
    "def K0(S,T):\n",
    "    return exp(-60.2409+93.4517*100/(273+T)+23.3585*log((T+273)/100)+S*(.023517-.023656*(T+273)/100+.0047036*((T+273)/100)**2))\n",
    "\n",
    "def lnK(S,T):\n",
    "    return -60.2409+93.4517/(273+T)+23.3585*log((T+273)/100)+S*(.023517-.023656*(T+278)/100+.0047036*((T+273)/100)**2)\n",
    "\n",
    "\n",
    "def K1(S,T):\n",
    "    return 1.0e6*exp(log(10)*(62.008-3670.7/(273+T)-9.7944*log(T+273)+.0118*S-.000116*S**2))\n",
    "\n",
    "def K2(S,T):\n",
    "    return 1.0e6*exp(-log(10)*(4.777+1394.7/(273+T)-.0184*S+.000118*S**2))\n",
    "\n",
    "\n",
    "def KW(S,T):\n",
    "    TK=T+273.0\n",
    "    return 1.0e12*exp((148.96502-13847.26/TK-23.6521*log(TK)+sqrt(S)*(-5.977+118.67/TK+1.0495*log(TK))-.01615*S))\n",
    "\n",
    "def KB(S,T):\n",
    "    TK = T+273.0\n",
    "    return 1.0e6*exp((1.0/TK*(-8966.9-2890.51*sqrt(S)-77.942*S+1.726*S**(1.5)-.0993*S**2)+148.0248+137.194*sqrt(S)+\n",
    "                 1.62247*S+.053105*sqrt(S)*TK+log(TK)*(-24.4344-25.085*sqrt(S)-.2474*S)))\n",
    "\n",
    "\n",
    "\n",
    "# We are going to have to solve a full system of equations in order to determine the inorganic carbon chemistry.\n",
    "# The first step will be to solve for the concentration of the H+ ion as a function of conditions, DIC, and ALK.\n",
    "# This will happen through the use of a fixed point iteration, which apparently works. This is annoying to do in\n",
    "# python.....\n",
    "\n",
    "\n",
    "# We begin by defining the function which will iterate. We shall call it 'G':\n",
    "\n",
    "def G(Hplus,A,C,S,T):\n",
    "    K1C = K1(S,T)\n",
    "    K2C = K2(S,T)\n",
    "    KBC = KB(S,T)\n",
    "    KWC = KW(S,T)\n",
    "    c = 11.185\n",
    "    return -A+C*(1.0/(Hplus**2.0/(K1C*K2C)+1.0+Hplus/K2C)+1.0/(Hplus/K1C+1+K2C/Hplus))+KWC/Hplus+c*S/(1+Hplus/KBC)\n",
    "\n",
    "\n",
    "# Now we will use an iteration scheme to solve Hplus = G(Hplus)\n",
    "\n",
    "#def HP(A,C,S,T):\n",
    "    \n",
    "\n",
    "\n",
    "\n",
    "# bh and bl are the value of K0 at the surface of the upper and lower lattitude box, respectively.\n",
    "# Units are in mol/(micro-atm*m^3)\n",
    "\n",
    "bh = K0(SH,TH)*1e-3\n",
    "bl = K0(SL,TL)*1e-3\n",
    "\n",
    "\n",
    "# KS is used to calculate the value of pCO2 from the total carbon concentration of the water as well as from\n",
    "# the alkalinity. It has units of atm*kg/mol C\n",
    "\n",
    "def KS(S,T):\n",
    "    return K2(S,T)/(K0(S,T)*K1(S,T))\n",
    "\n",
    "\n",
    "# PCO2 is the partial pressure of CO2 in the water. C and A have units of micromol/L, and KS has units of atm*L/mol,\n",
    "# so PCO2 has units of micro atmospheres. \n",
    "\n",
    "def PCO2(A,C,T,S):\n",
    "    return KS(S,T)*(2*C-A)**2/(A-C)\n",
    "\n",
    "\n",
    "\n",
    "def CAestimate(A,Hp,S,T):\n",
    "    c=11.79\n",
    "    return A-KB(S,T)/(KB(S,T)+Hp)*c*S\n",
    "\n",
    "\n",
    "def HpEstimate(CA,C,S,T):\n",
    "    a = CA\n",
    "    b = K1(S,T)*(CA-C)\n",
    "    c = K1(S,T)*K2(S,T)*(CA-2*C)\n",
    "    return (-b+sqrt(b**2-4*a*c))/(2*a)\n",
    "\n",
    "\n",
    "def HPSolver(A,C,S,T):\n",
    "    \n",
    "    counter = 0\n",
    "    HPold = 1e-2\n",
    "    CA = CAestimate(A,HPold,S,T)\n",
    "    Hpnew = HpEstimate(CA,C,S,T)\n",
    "    while abs(Hpnew-HPold)>1e-6 and counter < 100:\n",
    "        HPold = Hpnew\n",
    "        CA = CAestimate(A,Hpnew,S,T)\n",
    "        \n",
    "        Hpnew = HpEstimate(CA, C, S, T)\n",
    "        counter = counter + 1\n",
    "    return Hpnew\n",
    "\n",
    "\n",
    "\n",
    "def PCO2new(A,C,S,T):\n",
    "    \n",
    "    HP = HPSolver(A,C,S,T)\n",
    "    return C/( K0(S,T)*(1+K1(S,T)/HP+K1(S,T)*K2(S,T)/HP**2))\n",
    "\n",
    "\n",
    "\n",
    "\n",
    "\n",
    "\n",
    "\n",
    "\n",
    "\n",
    "def fluxCH(CA, CD, CH, CL, AH,Temp,S, PD, PH, PL):\n",
    "    if PH<1e-3 and T*PL-(T+fhd)*PH+fhd*PD-phP<0:\n",
    "        return T*CL-(T+fhd)*CH+fhd*CD+fah/secondsPerDay*bh*(CA-PCO2new(AH,CH,S,Temp))-(T*PL-(T+fhd)*PH+fhd*PD )/rpc\n",
    "    return T*CL-(T+fhd)*CH+fhd*CD+fah/secondsPerDay*bh*(CA-PCO2new(AH,CH,S,Temp))-ph\n",
    "\n",
    "def fluxCL(CA, CD, CH, CL, AL, Temp,S,PD):\n",
    "    return T*CD-(T)*CL+fal/secondsPerDay*bl*(CA-PCO2new(AL,CL,S,Temp))-pl(PD)\n",
    "\n",
    "def fluxCA(CA,CH,CL,AH,AL,TH,TL,SH,SL):\n",
    "    return -fal*bl*(CA-PCO2new(AL,CL,SL,TL))/secondsPerDay-fah*bh*(CA-PCO2new(AH,CH,SH,TH))/secondsPerDay\n",
    "\n",
    "\n",
    "# Now that we have defined all of the individual flux functions, \n",
    "# we synthesize them together and define the overall flux function,\n",
    "# which will in principle be a functio of time\n",
    "\n",
    "# For checking conservation:\n",
    "\n",
    "def molCTotal(CA,CD,CH,CL):\n",
    "    return CA*molesAtmosphere*1e-6+CD*volumeD*1e-3+CH*volumeH*1e-3+CL*volumeL*1e-3\n",
    "\n",
    "\n",
    "\n",
    "def rightHandSide(t,state):\n",
    "    CA = state[0]\n",
    "    CD = state[1]\n",
    "    CH = state[2]\n",
    "    CL = state[3]\n",
    "    AD = state[4]\n",
    "    AH = state[5]\n",
    "    AL = state[6]\n",
    "    PD = state[7]\n",
    "    PH = state[8]\n",
    "    \n",
    "    \n",
    "    rhsVec = np.zeros((9,1))\n",
    "    rhsVec[0] = 1e6*fluxCA(CA, CH, CL, AH, AL, TH, TL,SH,SL)/molesAtmosphere\n",
    "    rhsVec[1] = 1e3*fluxCD(CD, CH, CL,PD,PH,PL)/volumeD\n",
    "    rhsVec[2] = 1e3*(fluxCH(CA, CD, CH, CL, AH, TH,SH,PD,PH,PL)/volumeH)\n",
    "    rhsVec[3] = 1e3*(fluxCL(CA, CD, CH, CL, AL, TL,SL,PD)/volumeL)\n",
    "    rhsVec[4] = 1e3*(fluxAD(AD, AH, AL,PD,PH,PL)/volumeD)\n",
    "    rhsVec[5] = 1e3*(fluxAH(AD, AH, AL,PD,PH,PL)/volumeH)\n",
    "    rhsVec[6] = 1e3*(fluxAL(AD, AH, AL,PD)/volumeL)\n",
    "    rhsVec[7] = 1e3*(fluxPD(PD, PH, PL)/volumeD)\n",
    "    rhsVec[8] = 1e3*(fluxPH(PD, PH, PL)/volumeH)\n",
    "    \n",
    "    return rhsVec\n",
    "\n",
    "\n",
    "    \n",
    "\n",
    "\n",
    "\n"
   ]
  },
  {
   "cell_type": "code",
   "execution_count": 559,
   "metadata": {
    "collapsed": false
   },
   "outputs": [],
   "source": [
    "#state1=np.array((265,2269.0,2121.0,1941.0,2372.0,2329.0,2290.0,2.15,1.02))\n",
    "stateIceAgeEq=np.array((200.0,2506.0, 2213.0, 2044.0, 2601.0, 2517.0, 2517.0,2.3,2e-3))\n",
    "CA = stateIceAgeEq[0]\n",
    "CD = stateIceAgeEq[1]\n",
    "CH = stateIceAgeEq[2]\n",
    "CL = stateIceAgeEq[3]\n",
    "AD = stateIceAgeEq[4]\n",
    "AH = stateIceAgeEq[5]\n",
    "AL = stateIceAgeEq[6]\n",
    "PD = stateIceAgeEq[7]\n",
    "PH = stateIceAgeEq[8]\n",
    "    \n",
    "\n",
    "\n"
   ]
  },
  {
   "cell_type": "code",
   "execution_count": 615,
   "metadata": {
    "collapsed": false
   },
   "outputs": [],
   "source": [
    "# In this box we will try to find the equilibrium solutions:\n",
    "\n",
    "stateIceAgeEq=np.array((200.0,2406.0, 2113.0, 1900.0, 2401.0, 2417.0, 2417.0,2.2,0))\n",
    "CA0 = stateIceAgeEq[0]\n",
    "CD0 = stateIceAgeEq[1]\n",
    "CH0 = stateIceAgeEq[2]\n",
    "CL0 = stateIceAgeEq[3]\n",
    "AD0 = stateIceAgeEq[4]\n",
    "AH0 = stateIceAgeEq[5]\n",
    "AL0 = stateIceAgeEq[6]\n",
    "PD0 = stateIceAgeEq[7]\n",
    "PH0 = stateIceAgeEq[8]\n",
    "    \n",
    "\n",
    "S=34.78\n",
    "\n",
    "\n",
    "# Constants:\n",
    "\n",
    "TotalP =volumeH*PH0 + volumeD*PD0 \n",
    "TotalC = volumeH*CH0 + volumeL*CL0 + volumeD*CD0 + molesAtmosphere*CA0\n",
    "TotalA = volumeH*AH0 + volumeL*AL0 + volumeD*AD0\n",
    "\n",
    "subProblem = np.matrix([[volumeH, volumeD, volumeL, 0.0, 0.0, 0.0, 0.0],\n",
    "                        [0.0, 0.0, 0.0, volumeD, molesAtmosphere, 0.0, 0.0],\n",
    "                        [0.0, 0.0, 0.0, 0.0, 0.0, volumeH, volumeD],\n",
    "                        [0.0, 0.0, 0.0, 0.0, 0.0, fhd+T, -fhd],\n",
    "                        [fhd+T,-fhd, -T, 0.0, 0.0, 0.0, 0.0],\n",
    "                        [0.0, -T, T, 0.0, 0.0, 0.0, T*rpa],\n",
    "                        [0.0, 0.0, 0.0, T+fhd, 0.0, 0.0, -T*rpcl]])\n",
    "\n",
    "invSubProblem = numpy.matrix.getI(subProblem)\n",
    "\n",
    "\n",
    "def subVector(CH, CL):\n",
    "    return np.matrix([TotalA, TotalC-volumeH*CH-volumeL*CL, TotalP, -phP, -phP*rpa, 0, phP*rpch+(fhd+T)*CH])\n",
    "\n",
    "\n",
    "\n",
    "def zeroFunction(vec):\n",
    "    CL = vec[0]\n",
    "    CH = vec[1]\n",
    "    subvec = numpy.matrix.getT(subVector(CH,CL))\n",
    "    solVec = invSubProblem*subvec\n",
    "    AH = solVec[0,0]\n",
    "    AD = solVec[1,0]\n",
    "    AL = solVec[2,0]\n",
    "    CD = solVec[3,0]\n",
    "    CA = solVec[4,0]\n",
    "    PH = solVec[5,0]\n",
    "    PD = solVec[6,0]\n",
    "    \n",
    "    lowBalance = T*CL+fal/secondsPerDay*bl*(-CA+PCO2new(AL,CL,S,TL))-T*CD+T*PD*rpcl\n",
    "    highBalance = (T+fhd)*CH+fah/secondsPerDay*bh*(PCO2new(AH,CH,S,TH)-CA)+ph-fhd*CD-T*CL\n",
    "    return [lowBalance, highBalance]\n",
    "\n",
    "\n",
    "\n",
    "\n",
    "\n",
    "\n",
    "\n",
    "\n",
    "\n",
    "def equilibrium(initialStateVec):\n",
    "    CA0 = initialStateVec[0]\n",
    "    CD0 = initialStateVec[1]\n",
    "    CH0 = initialStateVec[2]\n",
    "    CL0 = initialStateVec[3]\n",
    "    AD0 = initialStateVec[4]\n",
    "    AH0 = initialStateVec[5]\n",
    "    AL0 = initialStateVec[6]\n",
    "    PD0 = initialStateVec[7]\n",
    "    PH0 = initialStateVec[8]\n",
    "    \n",
    "\n",
    "    S=34.78\n",
    "\n",
    "\n",
    "    # Constants:\n",
    "\n",
    "    TotalP =volumeH*PH0*1e3 + volumeD*PD0*1e3 \n",
    "    TotalC = volumeH*CH0*1e3 + volumeL*CL0*1e3 + volumeD*CD0*1e3 + molesAtmosphere*CA0\n",
    "    TotalA = volumeH*AH0*1e3 + volumeL*AL0*1e3 + volumeD*AD0*1e3\n",
    "    print TotalC\n",
    "    subProblem = np.matrix([[volumeH*1e3, volumeD*1e3, volumeL*1e3, 0.0, 0.0, 0.0, 0.0],\n",
    "                            [0.0, 0.0, 0.0, volumeD*1e3, molesAtmosphere, 0.0, 0.0],\n",
    "                            [0.0, 0.0, 0.0, 0.0, 0.0, volumeH*1e3, volumeD*1e3],\n",
    "                            [0.0, 0.0, 0.0, 0.0, 0.0, fhd+T, -fhd],\n",
    "                            [fhd+T,-fhd, -T, 0.0, 0.0, 0.0, 0.0],\n",
    "                            [0.0, -T, T, 0.0, 0.0, 0.0, T*rpa],\n",
    "                            [0.0, 0.0, 0.0, T+fhd, 0.0, 0.0, -T*rpcl]])\n",
    "\n",
    "    invSubProblem = numpy.matrix.getI(subProblem)\n",
    "\n",
    "\n",
    "\n",
    "    def subVector(CH, CL):\n",
    "        return np.matrix([TotalA, TotalC-volumeH*CH-volumeL*CL, TotalP, -phP, -phP*rpa, 0, phP*rpch+(fhd+T)*CH])\n",
    "\n",
    "\n",
    "    \n",
    "    #def zeroFunction(vec):\n",
    "    #    CL = vec[0]\n",
    "    #    CH = vec[1]\n",
    "    #    subvec = numpy.matrix.getT(subVector(CH,CL))\n",
    "    #    solVec = invSubProblem*subvec\n",
    "    #    AH = solVec[0,0]\n",
    "    #    AD = solVec[1,0]\n",
    "    #    AL = solVec[2,0]\n",
    "    #    CD = solVec[3,0]\n",
    "    #    CA = solVec[4,0]\n",
    "    #    PH = solVec[5,0]\n",
    "    #    PD = solVec[6,0]\n",
    "\n",
    "    #    lowBalance = T*CL+fal/secondsPerDay*bl*(-CA+PCO2new(AL,CL,S,TL))-T*CD+T*PD*rpcl\n",
    "    #    highBalance = (T+fhd)*CH+fah/secondsPerDay*bh*(PCO2new(AH,CH,S,TH)-CA)+ph-fhd*CD-T*CL\n",
    "    #    return [lowBalance, highBalance]\n",
    "\n",
    "    #solution=scipy.optimize.root(zeroFunction,np.array([2150,2150])).x\n",
    "    \n",
    "    CHEq = 2150#solution[0]\n",
    "    CLEq = 2150#solution[1]\n",
    "    \n",
    "    # subvec=numpy.matrix.getT(subVector(CHEq,CLEq))\n",
    "    subvec=numpy.matrix.getT(subVector(2150,2150))\n",
    "    subSolVec = invSubProblem*subvec\n",
    "    AHEq = subSolVec[0,0]\n",
    "    ADEq = subSolVec[1,0]\n",
    "    ALEq = subSolVec[2,0]\n",
    "    CDEq = subSolVec[3,0]\n",
    "    CAEq = subSolVec[4,0]\n",
    "    PHEq = subSolVec[5,0]\n",
    "    PDEq = subSolVec[6,0]\n",
    "    print volumeH*CHEq*1e3 + volumeL*CLEq*1e3 + volumeD*CDEq*1e3 + molesAtmosphere*CAEq\n",
    "    return [CAEq, CDEq, CHEq, CLEq,ADEq, AHEq, ALEq, PDEq, PHEq]\n",
    "\n",
    "\n",
    "\n",
    "\n",
    "\n"
   ]
  },
  {
   "cell_type": "code",
   "execution_count": 616,
   "metadata": {
    "collapsed": false,
    "scrolled": true
   },
   "outputs": [
    {
     "name": "stdout",
     "output_type": "stream",
     "text": [
      "3.9113055e+23\n",
      "4.006025685e+23\n"
     ]
    },
    {
     "data": {
      "text/plain": [
       "[362.06193077505486,\n",
       " 2263.5411177811807,\n",
       " 2150,\n",
       " 2150,\n",
       " 2403.4890446236145,\n",
       " 2370.5534532062075,\n",
       " 2320.3596118859914,\n",
       " 2.187616650990087,\n",
       " 1.3208905610574346]"
      ]
     },
     "execution_count": 616,
     "metadata": {},
     "output_type": "execute_result"
    }
   ],
   "source": [
    "equilibrium(stateIceAgeEq)"
   ]
  },
  {
   "cell_type": "code",
   "execution_count": 594,
   "metadata": {
    "collapsed": false
   },
   "outputs": [
    {
     "name": "stdout",
     "output_type": "stream",
     "text": [
      "[3.1680000000000013e+20, 4.0056335898961106e+23, 3.5640296999999997e+23]\n",
      "[3.1680000000000026e+20, 4.1008490112872427e+23, 3.5640296999999997e+23]\n"
     ]
    },
    {
     "data": {
      "text/plain": [
       "[539.71217670827446,\n",
       " 2173.1048392592884,\n",
       " 2059.5637214781073,\n",
       " 2232.6983246227651,\n",
       " 2403.4890446236145,\n",
       " 2370.5534532062075,\n",
       " 2320.3596118859914,\n",
       " 2.1876166509900887,\n",
       " 1.3208905610574357]"
      ]
     },
     "execution_count": 594,
     "metadata": {},
     "output_type": "execute_result"
    }
   ],
   "source": [
    "equilibrium(equilibrium(vecStart))"
   ]
  },
  {
   "cell_type": "code",
   "execution_count": 425,
   "metadata": {
    "collapsed": false
   },
   "outputs": [
    {
     "data": {
      "text/plain": [
       "5.4359003004300004e+22"
      ]
     },
     "execution_count": 425,
     "metadata": {},
     "output_type": "execute_result"
    }
   ],
   "source": [
    "TotalC"
   ]
  },
  {
   "cell_type": "code",
   "execution_count": 426,
   "metadata": {
    "collapsed": false
   },
   "outputs": [
    {
     "data": {
      "text/plain": [
       "5.4e+22"
      ]
     },
     "execution_count": 426,
     "metadata": {},
     "output_type": "execute_result"
    }
   ],
   "source": [
    "300*molesAtmosphere"
   ]
  },
  {
   "cell_type": "code",
   "execution_count": 428,
   "metadata": {
    "collapsed": false
   },
   "outputs": [
    {
     "data": {
      "text/plain": [
       "2.7936e+23"
      ]
     },
     "execution_count": 428,
     "metadata": {},
     "output_type": "execute_result"
    }
   ],
   "source": [
    "volumeD*2000*1e3"
   ]
  },
  {
   "cell_type": "code",
   "execution_count": 416,
   "metadata": {
    "collapsed": false
   },
   "outputs": [
    {
     "data": {
      "text/plain": [
       "3.6e+16"
      ]
     },
     "execution_count": 416,
     "metadata": {},
     "output_type": "execute_result"
    }
   ],
   "source": [
    "molesAtmosphere*200*1e-6"
   ]
  },
  {
   "cell_type": "markdown",
   "metadata": {},
   "source": [
    "1.185"
   ]
  },
  {
   "cell_type": "code",
   "execution_count": 834,
   "metadata": {
    "collapsed": false
   },
   "outputs": [],
   "source": [
    "def CAestimate(A,Hp,S,T):\n",
    "    c=11.79\n",
    "    return A-KB(S,T)/(KB(S,T)+Hp)*c*S\n",
    "\n",
    "\n",
    "def HpEstimate(CA,C,S,T):\n",
    "    a = CA\n",
    "    b = K1(S,T)*(CA-C)\n",
    "    c = K1(S,T)*K2(S,T)*(CA-2*C)\n",
    "    return (-b+sqrt(b**2-4*a*c))/(2*a)\n",
    "\n",
    "\n",
    "def HPSolver(A,C,S,T):\n",
    "    \n",
    "    counter = 0\n",
    "    HPold = 1e-2\n",
    "    CA = CAestimate(A,HPold,S,T)\n",
    "    Hpnew = HpEstimate(CA,C,S,T)\n",
    "    while abs(Hpnew-HPold)>1e-6 and counter < 100:\n",
    "        HPold = Hpnew\n",
    "        CA = CAestimate(A,Hpnew,S,T)\n",
    "        \n",
    "        Hpnew = HpEstimate(CA, C, S, T)\n",
    "        counter = counter + 1\n",
    "    return Hpnew\n",
    "\n",
    "\n",
    "\n",
    "def PCO2new(A,C,S,T):\n",
    "    \n",
    "    HP = HPSolver(A,C,S,T)\n",
    "    return C/( K0(S,T)*(1+K1(S,T)/HP+K1(S,T)*K2(S,T)/HP**2))\n"
   ]
  },
  {
   "cell_type": "code",
   "execution_count": 257,
   "metadata": {
    "collapsed": false
   },
   "outputs": [
    {
     "data": {
      "text/plain": [
       "array([[ -9.49580968e-08],\n",
       "       [  2.80211913e-06],\n",
       "       [ -1.39815118e-03],\n",
       "       [  4.90725499e-04],\n",
       "       [  1.14745372e-06],\n",
       "       [ -9.90273661e-05],\n",
       "       [ -1.03092784e-05],\n",
       "       [  7.00084380e-10],\n",
       "       [ -7.46756672e-08]])"
      ]
     },
     "execution_count": 257,
     "metadata": {},
     "output_type": "execute_result"
    }
   ],
   "source": [
    "rightHandSide(0,stateIceAgeEq)"
   ]
  },
  {
   "cell_type": "code",
   "execution_count": 258,
   "metadata": {
    "collapsed": false
   },
   "outputs": [
    {
     "data": {
      "text/plain": [
       "-186912.21374046803"
      ]
     },
     "execution_count": 258,
     "metadata": {},
     "output_type": "execute_result"
    }
   ],
   "source": [
    "ph/rpc+plP(2.305)-(T+fhd)*2.305"
   ]
  },
  {
   "cell_type": "code",
   "execution_count": 617,
   "metadata": {
    "collapsed": false
   },
   "outputs": [
    {
     "data": {
      "text/plain": [
       "64362000.0"
      ]
     },
     "execution_count": 617,
     "metadata": {},
     "output_type": "execute_result"
    }
   ],
   "source": [
    "(T+fhd)*1.02-fhd"
   ]
  },
  {
   "cell_type": "code",
   "execution_count": 792,
   "metadata": {
    "collapsed": false
   },
   "outputs": [
    {
     "data": {
      "text/plain": [
       "2413.7399467416963"
      ]
     },
     "execution_count": 792,
     "metadata": {},
     "output_type": "execute_result"
    }
   ],
   "source": []
  },
  {
   "cell_type": "code",
   "execution_count": 588,
   "metadata": {
    "collapsed": false
   },
   "outputs": [],
   "source": [
    "\n",
    "rr = ode(rightHandSide).set_integrator('dopri5')\n",
    "rr.set_initial_value(vecStart,0)\n",
    "rr.t\n",
    "t1 = 3600*24*30000\n",
    "dt = 3600*24*300\n",
    "while (rr.successful() and rr.t < t1):\n",
    "    rr.integrate(rr.t+dt)\n",
    "    \n",
    "    \n",
    "    \n",
    "    \n"
   ]
  },
  {
   "cell_type": "code",
   "execution_count": 589,
   "metadata": {
    "collapsed": false
   },
   "outputs": [
    {
     "data": {
      "text/plain": [
       "array([  3.27626561e+02,   2.30861416e+03,   2.19507372e+03,\n",
       "         2.02182656e+03,   2.40348904e+03,   2.37055345e+03,\n",
       "         2.32035961e+03,   2.18761665e+00,   1.32089056e+00])"
      ]
     },
     "execution_count": 589,
     "metadata": {},
     "output_type": "execute_result"
    }
   ],
   "source": [
    "rr.y"
   ]
  },
  {
   "cell_type": "code",
   "execution_count": 88,
   "metadata": {
    "collapsed": false
   },
   "outputs": [
    {
     "data": {
      "text/plain": [
       "282.63543946499237"
      ]
     },
     "execution_count": 88,
     "metadata": {},
     "output_type": "execute_result"
    }
   ],
   "source": [
    "PCO2new(2515.9,2137.8,34.7,21.5)"
   ]
  },
  {
   "cell_type": "code",
   "execution_count": 20,
   "metadata": {
    "collapsed": false
   },
   "outputs": [
    {
     "data": {
      "text/plain": [
       "array([  2.65000000e+02,   2.47952577e+03,   2.31779381e+03,\n",
       "         2.12109278e+03,   2.59208247e+03,   2.54509278e+03,\n",
       "         2.50247423e+03,   2.21649485e+00,   1.05154639e+00])"
      ]
     },
     "execution_count": 20,
     "metadata": {},
     "output_type": "execute_result"
    }
   ],
   "source": [
    "state1"
   ]
  },
  {
   "cell_type": "code",
   "execution_count": 848,
   "metadata": {
    "collapsed": false
   },
   "outputs": [
    {
     "data": {
      "text/plain": [
       "2.53662012e+17"
      ]
     },
     "execution_count": 848,
     "metadata": {},
     "output_type": "execute_result"
    }
   ],
   "source": [
    "molCTotal(14.4,1699.0, 1549.0, 1412.7)"
   ]
  },
  {
   "cell_type": "code",
   "execution_count": 847,
   "metadata": {
    "collapsed": false
   },
   "outputs": [
    {
     "data": {
      "text/plain": [
       "3.8323881e+17"
      ]
     },
     "execution_count": 847,
     "metadata": {},
     "output_type": "execute_result"
    }
   ],
   "source": [
    "molCTotal(265,2269.0,2121.0,1941.0)"
   ]
  },
  {
   "cell_type": "code",
   "execution_count": 898,
   "metadata": {
    "collapsed": true
   },
   "outputs": [],
   "source": [
    "def fluxCHT(CA, CD, CH, CL, AH,TH,S):\n",
    "    print fah/secondsPerDay*bh*(CA-PCO2new(AH,CH,TH,S))\n",
    "    print ph\n",
    "    print fhd*CD\n",
    "    print T*CL\n",
    "    print T*CD\n",
    "    print (T+fhd)*CH\n",
    "    return T*CL-(T+fhd)*CH+fhd*CD+fah/secondsPerDay*bh*(CA-PCO2new(AH,CH,TH,S))-ph\n",
    "\n",
    "def fluxCLT(CA, CD, CH, CL, AL, TL,S,PD):\n",
    "    print PCO2(AL,CL,TL,S)\n",
    "    print fal/secondsPerDay*bl*(CA-PCO2new(AL,CL,TL,S))\n",
    "    print pl(PD)\n",
    "    print T*CD\n",
    "    print (T)*CL\n",
    "    return T*CD-(T)*CL+fal/secondsPerDay*bl*(CA-PCO2new(AL,CL,TL,S))-pl(PD)\n",
    "\n",
    "def fluxCAT(CA,CH,CL,AH,AL,TH,TL,SH,SL):\n",
    "    print fal*bl*(CA-PCO2new(AL,CL,TL,SL))/secondsPerDay \n",
    "    print fah*bh*(CA-PCO2new(AH,CH,TH,SH))/secondsPerDay\n",
    "    return -fal*bl*(CA-PCO2new(AL,CL,TL,SL))/secondsPerDay-fah*bh*(CA-PCO2new(AH,CH,TH,SH))/secondsPerDay\n",
    "\n",
    "\n",
    "def fluxCDT(CD,CH,CL,PD):\n",
    "    print pl(PD)\n",
    "    print ph\n",
    "    print (T+fhd)\n",
    "    print CH\n",
    "    print (T+fhd)*CD\n",
    "    return (T+fhd)*CH-(T+fhd)*CD+ph+pl(PD)\n",
    "\n",
    "\n",
    "\n",
    "\n"
   ]
  },
  {
   "cell_type": "code",
   "execution_count": 899,
   "metadata": {
    "collapsed": false
   },
   "outputs": [
    {
     "name": "stdout",
     "output_type": "stream",
     "text": [
      "-22750364.0705\n",
      "2318000000.0\n",
      "86448900000.0\n",
      "49301400000.0\n",
      "57632600000.0\n",
      "1.346835e+11\n",
      "-14638117.9694\n",
      "-22750364.0705\n",
      "156.300452765\n",
      "-14638117.9694\n",
      "7153910000.0\n",
      "57632600000.0\n",
      "49301400000.0\n",
      "7153910000.0\n",
      "2318000000.0\n",
      "63500000.0\n",
      "2121.0\n",
      "1.440815e+11\n"
     ]
    },
    {
     "data": {
      "text/plain": [
       "7.152557373046875e-07"
      ]
     },
     "execution_count": 899,
     "metadata": {},
     "output_type": "execute_result"
    }
   ],
   "source": [
    "fluxCHT(265,2269.0,2121.0,1941.0,2329.0,2.0,35.0)+fluxCAT(265.0,2121.0,1941,2329.0,2290.0,2.0,20.0,35.0,35.0)+fluxCLT(265.0,2269.0,2121.0,1941,2290.0,20.0,35.0,2.15)+fluxCDT(2269.0,2121.0,1941.0,2.15)"
   ]
  },
  {
   "cell_type": "code",
   "execution_count": 907,
   "metadata": {
    "collapsed": false
   },
   "outputs": [
    {
     "name": "stdout",
     "output_type": "stream",
     "text": [
      "-19245807.4489\n",
      "-23173483.4931\n"
     ]
    },
    {
     "data": {
      "text/plain": [
       "102550767.45626786"
      ]
     },
     "execution_count": 907,
     "metadata": {},
     "output_type": "execute_result"
    }
   ],
   "source": [
    "fluxCAT(CA,CH,CL, AH, AL, TH, TL,SH,SL)-fluxCA(CA, CH, CL, AH, AL, TH, TL,SH,SL)"
   ]
  },
  {
   "cell_type": "code",
   "execution_count": 908,
   "metadata": {
    "collapsed": false
   },
   "outputs": [
    {
     "name": "stdout",
     "output_type": "stream",
     "text": [
      "162.263607167\n",
      "-19245807.4489\n",
      "7153910000.0\n",
      "57632600000.0\n",
      "49301400000.0\n"
     ]
    },
    {
     "data": {
      "text/plain": [
       "0.0"
      ]
     },
     "execution_count": 908,
     "metadata": {},
     "output_type": "execute_result"
    }
   ],
   "source": [
    "fluxCLT(CA, CD, CH, CL, AL, TL,SL,PD)-fluxCL(CA, CD, CH, CL, AL, TL,SL,PD)\n"
   ]
  },
  {
   "cell_type": "code",
   "execution_count": 909,
   "metadata": {
    "collapsed": false
   },
   "outputs": [
    {
     "name": "stdout",
     "output_type": "stream",
     "text": [
      "7153910000.0\n",
      "2318000000.0\n",
      "63500000.0\n",
      "2121.0\n",
      "1.440815e+11\n"
     ]
    },
    {
     "data": {
      "text/plain": [
       "0.0"
      ]
     },
     "execution_count": 909,
     "metadata": {},
     "output_type": "execute_result"
    }
   ],
   "source": [
    "fluxCDT(2269.0,2121.0,1941.0,2.15)-fluxCD(CD, CH, CL,PD)"
   ]
  },
  {
   "cell_type": "code",
   "execution_count": 910,
   "metadata": {
    "collapsed": false
   },
   "outputs": [
    {
     "name": "stdout",
     "output_type": "stream",
     "text": [
      "-23173483.4931\n",
      "2318000000.0\n",
      "86448900000.0\n",
      "49301400000.0\n",
      "57632600000.0\n",
      "134683500000.0\n"
     ]
    },
    {
     "data": {
      "text/plain": [
       "0.0"
      ]
     },
     "execution_count": 910,
     "metadata": {},
     "output_type": "execute_result"
    }
   ],
   "source": [
    "fluxCH(CA, CD, CH, CL, AH, TH,SH)-fluxCHT(CA, CD, CH, CL, AH, TH,SH)"
   ]
  },
  {
   "cell_type": "code",
   "execution_count": 188,
   "metadata": {
    "collapsed": false
   },
   "outputs": [
    {
     "data": {
      "text/plain": [
       "776.97445075007545"
      ]
     },
     "execution_count": 188,
     "metadata": {},
     "output_type": "execute_result"
    }
   ],
   "source": [
    "fluxCA(CA, CH, CL, AH, AL, TH, TL,SH,SL)+fluxCD(CD, CH, CL,PD)+fluxCH(CA, CD, CH, CL, AH, TH,SH)+fluxCL(CA, CD, CH, CL, AL, TL,SL,PD)\n"
   ]
  },
  {
   "cell_type": "code",
   "execution_count": 171,
   "metadata": {
    "collapsed": false
   },
   "outputs": [
    {
     "data": {
      "text/plain": [
       "2.0461159389354723e-06"
      ]
     },
     "execution_count": 171,
     "metadata": {},
     "output_type": "execute_result"
    }
   ],
   "source": [
    "K0(35,20)"
   ]
  },
  {
   "cell_type": "code",
   "execution_count": 172,
   "metadata": {
    "collapsed": false
   },
   "outputs": [
    {
     "data": {
      "text/plain": [
       "342.31068220818668"
      ]
     },
     "execution_count": 172,
     "metadata": {},
     "output_type": "execute_result"
    }
   ],
   "source": [
    "KS(35,20)"
   ]
  },
  {
   "cell_type": "code",
   "execution_count": 275,
   "metadata": {
    "collapsed": false
   },
   "outputs": [
    {
     "data": {
      "text/plain": [
       "2.9908225108225106"
      ]
     },
     "execution_count": 275,
     "metadata": {},
     "output_type": "execute_result"
    }
   ],
   "source": [
    "T*2*136*1e-3"
   ]
  },
  {
   "cell_type": "markdown",
   "metadata": {},
   "source": [
    "ph"
   ]
  },
  {
   "cell_type": "code",
   "execution_count": 273,
   "metadata": {
    "collapsed": false
   },
   "outputs": [
    {
     "data": {
      "text/plain": [
       "2310000.0"
      ]
     },
     "execution_count": 273,
     "metadata": {},
     "output_type": "execute_result"
    }
   ],
   "source": [
    "ph"
   ]
  },
  {
   "cell_type": "markdown",
   "metadata": {},
   "source": [
    " 11.48*1e6-2.24*(38.1e6)*1e3"
   ]
  },
  {
   "cell_type": "code",
   "execution_count": 501,
   "metadata": {
    "collapsed": false
   },
   "outputs": [
    {
     "data": {
      "text/plain": [
       "10.961832061060704"
      ]
     },
     "execution_count": 501,
     "metadata": {},
     "output_type": "execute_result"
    }
   ],
   "source": [
    " 11.1815*1e6/131-2.24*1e-3*(38.1e6)"
   ]
  },
  {
   "cell_type": "code",
   "execution_count": 491,
   "metadata": {
    "collapsed": false
   },
   "outputs": [
    {
     "data": {
      "text/plain": [
       "87633.58778625954"
      ]
     },
     "execution_count": 491,
     "metadata": {},
     "output_type": "execute_result"
    }
   ],
   "source": [
    " 10.48*1e6/131"
   ]
  },
  {
   "cell_type": "code",
   "execution_count": 548,
   "metadata": {
    "collapsed": true
   },
   "outputs": [],
   "source": [
    "state=np.array([200,2506.0, 2213.0, 2044.0, 2601.0, 2517.0, 2517.9, 2.24, 0])"
   ]
  },
  {
   "cell_type": "code",
   "execution_count": 549,
   "metadata": {
    "collapsed": false
   },
   "outputs": [
    {
     "data": {
      "text/plain": [
       "array([[ -1.58694961e+01],\n",
       "       [  4.66447423e+00],\n",
       "       [ -3.64860162e+04],\n",
       "       [  1.68396381e+04],\n",
       "       [ -4.88311368e+02],\n",
       "       [  4.23288090e+04],\n",
       "       [  4.30488393e+03],\n",
       "       [ -1.10301409e-04],\n",
       "       [  1.17654836e-02]])"
      ]
     },
     "execution_count": 549,
     "metadata": {},
     "output_type": "execute_result"
    }
   ],
   "source": [
    "rightHandSide(0,state)*3600*24*365"
   ]
  },
  {
   "cell_type": "code",
   "execution_count": 525,
   "metadata": {
    "collapsed": false
   },
   "outputs": [
    {
     "data": {
      "text/plain": [
       "488.5496183335781"
      ]
     },
     "execution_count": 525,
     "metadata": {},
     "output_type": "execute_result"
    }
   ],
   "source": [
    "fluxPH(2.24,.0,.0)"
   ]
  },
  {
   "cell_type": "code",
   "execution_count": 524,
   "metadata": {
    "collapsed": false
   },
   "outputs": [
    {
     "data": {
      "text/plain": [
       "-488.5496183335781"
      ]
     },
     "execution_count": 524,
     "metadata": {},
     "output_type": "execute_result"
    }
   ],
   "source": [
    "fluxPD(2.24,0,0)"
   ]
  },
  {
   "cell_type": "code",
   "execution_count": 552,
   "metadata": {
    "collapsed": false
   },
   "outputs": [
    {
     "data": {
      "text/plain": [
       "568614490.76272392"
      ]
     },
     "execution_count": 552,
     "metadata": {},
     "output_type": "execute_result"
    }
   ],
   "source": [
    "bh*fah*(185-200)+bl*fal*(205-200)"
   ]
  },
  {
   "cell_type": "code",
   "execution_count": 553,
   "metadata": {
    "collapsed": false
   },
   "outputs": [
    {
     "data": {
      "text/plain": [
       "-1.0405374655961683"
      ]
     },
     "execution_count": 553,
     "metadata": {},
     "output_type": "execute_result"
    }
   ],
   "source": [
    "bl*fal*(205-200)/(bh*fah*(185-200))"
   ]
  },
  {
   "cell_type": "code",
   "execution_count": 537,
   "metadata": {
    "collapsed": false
   },
   "outputs": [
    {
     "data": {
      "text/plain": [
       "92055000000000.0"
      ]
     },
     "execution_count": 537,
     "metadata": {},
     "output_type": "execute_result"
    }
   ],
   "source": [
    "fah"
   ]
  },
  {
   "cell_type": "code",
   "execution_count": 542,
   "metadata": {
    "collapsed": false
   },
   "outputs": [
    {
     "data": {
      "text/plain": [
       "0.1764705882352941"
      ]
     },
     "execution_count": 542,
     "metadata": {},
     "output_type": "execute_result"
    }
   ],
   "source": [
    "fah/fal"
   ]
  },
  {
   "cell_type": "code",
   "execution_count": 557,
   "metadata": {
    "collapsed": false
   },
   "outputs": [
    {
     "data": {
      "text/plain": [
       "8733040000.0"
      ]
     },
     "execution_count": 557,
     "metadata": {},
     "output_type": "execute_result"
    }
   ],
   "source": [
    "T*2506.0-pl(2.24)-ph"
   ]
  },
  {
   "cell_type": "code",
   "execution_count": 575,
   "metadata": {
    "collapsed": false
   },
   "outputs": [
    {
     "data": {
      "text/plain": [
       "1.000175036388252"
      ]
     },
     "execution_count": 575,
     "metadata": {},
     "output_type": "execute_result"
    }
   ],
   "source": [
    "(ph+pl(2.24)+(T+fhd)*2213)/(T*2506+fhd*2506.0)"
   ]
  },
  {
   "cell_type": "code",
   "execution_count": 559,
   "metadata": {
    "collapsed": false
   },
   "outputs": [
    {
     "data": {
      "text/plain": [
       "9000000.0"
      ]
     },
     "execution_count": 559,
     "metadata": {},
     "output_type": "execute_result"
    }
   ],
   "source": [
    "T"
   ]
  },
  {
   "cell_type": "code",
   "execution_count": 605,
   "metadata": {
    "collapsed": false
   },
   "outputs": [
    {
     "data": {
      "text/plain": [
       "1.7659159173403836"
      ]
     },
     "execution_count": 605,
     "metadata": {},
     "output_type": "execute_result"
    }
   ],
   "source": [
    "(bl*fal*(205-200)+T*2506.0)/(T*2044+pl(2.24))"
   ]
  },
  {
   "cell_type": "code",
   "execution_count": 606,
   "metadata": {
    "collapsed": false
   },
   "outputs": [
    {
     "data": {
      "text/plain": [
       "3.1710395994683516e-05"
      ]
     },
     "execution_count": 606,
     "metadata": {},
     "output_type": "execute_result"
    }
   ],
   "source": [
    "bl"
   ]
  },
  {
   "cell_type": "code",
   "execution_count": 570,
   "metadata": {
    "collapsed": false
   },
   "outputs": [
    {
     "data": {
      "text/plain": [
       "5"
      ]
     },
     "execution_count": 570,
     "metadata": {},
     "output_type": "execute_result"
    }
   ],
   "source": [
    "10/(1+1)"
   ]
  },
  {
   "cell_type": "code",
   "execution_count": 579,
   "metadata": {
    "collapsed": false
   },
   "outputs": [
    {
     "data": {
      "text/plain": [
       "4.233309099721312"
      ]
     },
     "execution_count": 579,
     "metadata": {},
     "output_type": "execute_result"
    }
   ],
   "source": [
    "ph/pl(2.24)"
   ]
  },
  {
   "cell_type": "code",
   "execution_count": 582,
   "metadata": {
    "collapsed": false
   },
   "outputs": [
    {
     "data": {
      "text/plain": [
       "3.1710395994683516e-05"
      ]
     },
     "execution_count": 582,
     "metadata": {},
     "output_type": "execute_result"
    }
   ],
   "source": [
    "bl"
   ]
  },
  {
   "cell_type": "code",
   "execution_count": 583,
   "metadata": {
    "collapsed": false
   },
   "outputs": [
    {
     "data": {
      "text/plain": [
       "5.7563919260039946e-05"
      ]
     },
     "execution_count": 583,
     "metadata": {},
     "output_type": "execute_result"
    }
   ],
   "source": [
    "bh"
   ]
  },
  {
   "cell_type": "code",
   "execution_count": 587,
   "metadata": {
    "collapsed": false
   },
   "outputs": [
    {
     "data": {
      "text/plain": [
       "0.99994247884458221"
      ]
     },
     "execution_count": 587,
     "metadata": {},
     "output_type": "execute_result"
    }
   ],
   "source": [
    "exp(-log(10)*K0(35,0))"
   ]
  },
  {
   "cell_type": "code",
   "execution_count": 590,
   "metadata": {
    "collapsed": false
   },
   "outputs": [
    {
     "data": {
      "text/plain": [
       "0.98098827130428135"
      ]
     },
     "execution_count": 590,
     "metadata": {},
     "output_type": "execute_result"
    }
   ],
   "source": [
    "exp(-log(10)*KS(35,0.0))"
   ]
  },
  {
   "cell_type": "code",
   "execution_count": 589,
   "metadata": {
    "collapsed": false
   },
   "outputs": [
    {
     "data": {
      "text/plain": [
       "0.99999820560850339"
      ]
     },
     "execution_count": 589,
     "metadata": {},
     "output_type": "execute_result"
    }
   ],
   "source": [
    "exp(-log(10)*K1(35.0,0.0))"
   ]
  },
  {
   "cell_type": "code",
   "execution_count": 597,
   "metadata": {
    "collapsed": false
   },
   "outputs": [
    {
     "data": {
      "text/plain": [
       "4.1082682313974849e-10"
      ]
     },
     "execution_count": 597,
     "metadata": {},
     "output_type": "execute_result"
    }
   ],
   "source": [
    "K2(35.0,0.0)"
   ]
  },
  {
   "cell_type": "markdown",
   "metadata": {},
   "source": []
  },
  {
   "cell_type": "code",
   "execution_count": 594,
   "metadata": {
    "collapsed": false
   },
   "outputs": [
    {
     "data": {
      "text/plain": [
       "4.1304750199016105e-10"
      ]
     },
     "execution_count": 594,
     "metadata": {},
     "output_type": "execute_result"
    }
   ],
   "source": [
    "10**(-9.384)"
   ]
  },
  {
   "cell_type": "code",
   "execution_count": 598,
   "metadata": {
    "collapsed": false
   },
   "outputs": [
    {
     "data": {
      "text/plain": [
       "7.7929502451549943e-07"
      ]
     },
     "execution_count": 598,
     "metadata": {},
     "output_type": "execute_result"
    }
   ],
   "source": [
    "K1(35.0,0.0)"
   ]
  },
  {
   "cell_type": "code",
   "execution_count": 599,
   "metadata": {
    "collapsed": false
   },
   "outputs": [
    {
     "data": {
      "text/plain": [
       "7.83429642766212e-07"
      ]
     },
     "execution_count": 599,
     "metadata": {},
     "output_type": "execute_result"
    }
   ],
   "source": [
    "10**(-6.106)"
   ]
  },
  {
   "cell_type": "code",
   "execution_count": 600,
   "metadata": {
    "collapsed": false
   },
   "outputs": [
    {
     "data": {
      "text/plain": [
       "0.063239662416791659"
      ]
     },
     "execution_count": 600,
     "metadata": {},
     "output_type": "execute_result"
    }
   ],
   "source": [
    "K0(35.0,0.0)"
   ]
  },
  {
   "cell_type": "code",
   "execution_count": 601,
   "metadata": {
    "collapsed": false
   },
   "outputs": [
    {
     "data": {
      "text/plain": [
       "0.0628058358813318"
      ]
     },
     "execution_count": 601,
     "metadata": {},
     "output_type": "execute_result"
    }
   ],
   "source": [
    "10**(-1.202)"
   ]
  },
  {
   "cell_type": "code",
   "execution_count": 602,
   "metadata": {
    "collapsed": false
   },
   "outputs": [
    {
     "data": {
      "text/plain": [
       "0.0083361850138135782"
      ]
     },
     "execution_count": 602,
     "metadata": {},
     "output_type": "execute_result"
    }
   ],
   "source": [
    "KS(35.0,0.0)"
   ]
  },
  {
   "cell_type": "code",
   "execution_count": 604,
   "metadata": {
    "collapsed": false
   },
   "outputs": [
    {
     "data": {
      "text/plain": [
       "0.008394599865193973"
      ]
     },
     "execution_count": 604,
     "metadata": {},
     "output_type": "execute_result"
    }
   ],
   "source": [
    "10**(-2.076)"
   ]
  },
  {
   "cell_type": "code",
   "execution_count": 609,
   "metadata": {
    "collapsed": false
   },
   "outputs": [
    {
     "data": {
      "text/plain": [
       "0.031710395994683518"
      ]
     },
     "execution_count": 609,
     "metadata": {},
     "output_type": "execute_result"
    }
   ],
   "source": [
    "bl*1e3"
   ]
  },
  {
   "cell_type": "code",
   "execution_count": 610,
   "metadata": {
    "collapsed": false
   },
   "outputs": [
    {
     "data": {
      "text/plain": [
       "0.032542518039698362"
      ]
     },
     "execution_count": 610,
     "metadata": {},
     "output_type": "execute_result"
    }
   ],
   "source": [
    "K0(35.0,20.0)"
   ]
  },
  {
   "cell_type": "code",
   "execution_count": 611,
   "metadata": {
    "collapsed": false
   },
   "outputs": [
    {
     "data": {
      "text/plain": [
       "112.30284682574637"
      ]
     },
     "execution_count": 611,
     "metadata": {},
     "output_type": "execute_result"
    }
   ],
   "source": [
    "PCO2(2517.0,2044.0,20.0,35.0)"
   ]
  },
  {
   "cell_type": "code",
   "execution_count": 612,
   "metadata": {
    "collapsed": false
   },
   "outputs": [
    {
     "data": {
      "text/plain": [
       "112.78138406882722"
      ]
     },
     "execution_count": 612,
     "metadata": {},
     "output_type": "execute_result"
    }
   ],
   "source": [
    "PCO2(2517.0,2213.0,2.5,34.7)"
   ]
  },
  {
   "cell_type": "code",
   "execution_count": 616,
   "metadata": {
    "collapsed": false
   },
   "outputs": [
    {
     "data": {
      "text/plain": [
       "112.28464569426991"
      ]
     },
     "execution_count": 616,
     "metadata": {},
     "output_type": "execute_result"
    }
   ],
   "source": [
    "(2*2044-2517)**2/(2517-2044)*KS(35.0,20.0)"
   ]
  },
  {
   "cell_type": "code",
   "execution_count": 627,
   "metadata": {
    "collapsed": false
   },
   "outputs": [
    {
     "data": {
      "text/plain": [
       "199.9002069338033"
      ]
     },
     "execution_count": 627,
     "metadata": {},
     "output_type": "execute_result"
    }
   ],
   "source": [
    "KS(34.7,20.0)*(2*2012.0-2322.0)**2/(2322.0-2012.0)"
   ]
  },
  {
   "cell_type": "code",
   "execution_count": 633,
   "metadata": {
    "collapsed": false
   },
   "outputs": [
    {
     "data": {
      "text/plain": [
       "-90.368274044137735"
      ]
     },
     "execution_count": 633,
     "metadata": {},
     "output_type": "execute_result"
    }
   ],
   "source": [
    "PCO2(2291.0,2119.0,3.7,34.05)-17/K0(34.05,3.7)"
   ]
  },
  {
   "cell_type": "code",
   "execution_count": 629,
   "metadata": {
    "collapsed": false
   },
   "outputs": [
    {
     "data": {
      "text/plain": [
       "220.27103538685702"
      ]
     },
     "execution_count": 629,
     "metadata": {},
     "output_type": "execute_result"
    }
   ],
   "source": [
    "PCO2(2315.0,2003.0, 23.0,34.05)"
   ]
  },
  {
   "cell_type": "code",
   "execution_count": 630,
   "metadata": {
    "collapsed": false
   },
   "outputs": [
    {
     "data": {
      "text/plain": [
       "164.80974934924421"
      ]
     },
     "execution_count": 630,
     "metadata": {},
     "output_type": "execute_result"
    }
   ],
   "source": [
    "PCO2(2257.0,2049.0,4.7, 32.90)"
   ]
  },
  {
   "cell_type": "code",
   "execution_count": 631,
   "metadata": {
    "collapsed": false
   },
   "outputs": [
    {
     "data": {
      "text/plain": [
       "212.42404364598323"
      ]
     },
     "execution_count": 631,
     "metadata": {},
     "output_type": "execute_result"
    }
   ],
   "source": [
    "PCO2(2308.0,2026.0,18.1,34.75)"
   ]
  },
  {
   "cell_type": "code",
   "execution_count": 636,
   "metadata": {
    "collapsed": false
   },
   "outputs": [
    {
     "data": {
      "text/plain": [
       "241.26386085042466"
      ]
     },
     "execution_count": 636,
     "metadata": {},
     "output_type": "execute_result"
    }
   ],
   "source": [
    "13/K0(32.15,4.70)"
   ]
  },
  {
   "cell_type": "code",
   "execution_count": 637,
   "metadata": {
    "collapsed": false
   },
   "outputs": [
    {
     "data": {
      "text/plain": [
       "319.91602479685633"
      ]
     },
     "execution_count": 637,
     "metadata": {},
     "output_type": "execute_result"
    }
   ],
   "source": [
    "11/K0(34.75,18.1)"
   ]
  },
  {
   "cell_type": "code",
   "execution_count": 640,
   "metadata": {
    "collapsed": false
   },
   "outputs": [
    {
     "data": {
      "text/plain": [
       "506.83142137025305"
      ]
     },
     "execution_count": 640,
     "metadata": {},
     "output_type": "execute_result"
    }
   ],
   "source": [
    "28/K0(34.73,3.6)"
   ]
  },
  {
   "cell_type": "code",
   "execution_count": 644,
   "metadata": {
    "collapsed": false,
    "scrolled": true
   },
   "outputs": [
    {
     "data": {
      "text/plain": [
       "105.86433424373149"
      ]
     },
     "execution_count": 644,
     "metadata": {},
     "output_type": "execute_result"
    }
   ],
   "source": [
    "PCO2(2457.0,2073.0,11.0,34.78)"
   ]
  },
  {
   "cell_type": "code",
   "execution_count": 643,
   "metadata": {
    "collapsed": false
   },
   "outputs": [
    {
     "data": {
      "text/plain": [
       "171.13202530437377"
      ]
     },
     "execution_count": 643,
     "metadata": {},
     "output_type": "execute_result"
    }
   ],
   "source": [
    "7.312/K0(34.78,11.0)"
   ]
  },
  {
   "cell_type": "code",
   "execution_count": 645,
   "metadata": {
    "collapsed": false
   },
   "outputs": [
    {
     "data": {
      "text/plain": [
       "171.19397882075489"
      ]
     },
     "execution_count": 645,
     "metadata": {},
     "output_type": "execute_result"
    }
   ],
   "source": [
    "KS(34.78,11.0)*1797**2/268.8"
   ]
  },
  {
   "cell_type": "code",
   "execution_count": 646,
   "metadata": {
    "collapsed": false
   },
   "outputs": [
    {
     "data": {
      "text/plain": [
       "384"
      ]
     },
     "execution_count": 646,
     "metadata": {},
     "output_type": "execute_result"
    }
   ],
   "source": [
    "2457-2073"
   ]
  },
  {
   "cell_type": "code",
   "execution_count": 647,
   "metadata": {
    "collapsed": false
   },
   "outputs": [
    {
     "data": {
      "text/plain": [
       "1689"
      ]
     },
     "execution_count": 647,
     "metadata": {},
     "output_type": "execute_result"
    }
   ],
   "source": [
    "2*2073-2457"
   ]
  },
  {
   "cell_type": "code",
   "execution_count": null,
   "metadata": {
    "collapsed": true
   },
   "outputs": [],
   "source": []
  }
 ],
 "metadata": {
  "kernelspec": {
   "display_name": "Python 2",
   "language": "python",
   "name": "python2"
  },
  "language_info": {
   "codemirror_mode": {
    "name": "ipython",
    "version": 2
   },
   "file_extension": ".py",
   "mimetype": "text/x-python",
   "name": "python",
   "nbconvert_exporter": "python",
   "pygments_lexer": "ipython2",
   "version": "2.7.8"
  }
 },
 "nbformat": 4,
 "nbformat_minor": 0
}
