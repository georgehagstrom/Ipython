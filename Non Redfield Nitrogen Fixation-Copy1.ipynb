{
 "cells": [
  {
   "cell_type": "markdown",
   "metadata": {},
   "source": [
    "### Variable Stoichiometry and Nitrogen Fixation\n",
    "--- \n",
    "\n",
    "In this notebook I will write simulations to explore the role of deviations from Redfield on the nutrient stoichiometry of the ocean and the biota. The starting point will be Toby Tirrel's two box ocean model which predicts that nitrogen fixers cause the ocean to converge to the Redfield ratio. We will initially study the implications of allowing different N:P ratios in Nitrogen Fixers and phytoplankton, and then we will explore increasing the number of boxes.\n"
   ]
  },
  {
   "cell_type": "code",
   "execution_count": 1,
   "metadata": {
    "collapsed": false
   },
   "outputs": [
    {
     "name": "stdout",
     "output_type": "stream",
     "text": [
      "Populating the interactive namespace from numpy and matplotlib\n"
     ]
    },
    {
     "name": "stderr",
     "output_type": "stream",
     "text": [
      "/usr/lib/pymodules/python2.7/matplotlib/__init__.py:1173: UserWarning:  This call to matplotlib.use() has no effect\n",
      "because the backend has already been chosen;\n",
      "matplotlib.use() must be called *before* pylab, matplotlib.pyplot,\n",
      "or matplotlib.backends is imported for the first time.\n",
      "\n",
      "  warnings.warn(_use_error_msg)\n"
     ]
    }
   ],
   "source": [
    "\n",
    "from scipy.integrate import ode\n",
    "\n",
    "%pylab inline\n",
    "\n",
    "import numpy as np\n",
    "from scipy import optimize\n",
    "\n",
    "import matplotlib.pyplot as plt\n",
    "matplotlib.use(\"Agg\")\n",
    "import scipy.io as sio\n",
    "import scipy.signal\n",
    "from pylab import *\n",
    "\n",
    "asin=np.arcsin\n",
    "sqrt=np.sqrt\n",
    "sin=np.sin\n",
    "cos=np.cos\n",
    "pi=np.pi\n",
    "exp=np.exp\n",
    "tan=np.tan\n",
    "I=1j\n",
    "inf=np.inf\n",
    "\n",
    "hilbert=scipy.signal.hilbert\n"
   ]
  },
  {
   "cell_type": "code",
   "execution_count": 2,
   "metadata": {
    "collapsed": true
   },
   "outputs": [],
   "source": [
    "### Here are important constants\n",
    "\n",
    "SD = 500.0   # Surface layer depth in meters\n",
    "DD = 3230.0  # Deep layer depth in meters\n",
    "K = 3.0 # Mixing coefficient in meters/year\n",
    "SR = .95 # Fraction of TPP regenerated above 500m\n",
    "SF = .000 # Fraction of TPP permanently incorporated into sediments\n",
    "DR = .05 # Fraction of TPP regenerated below 500m\n",
    "DN = .015 # Fraction of TPP of N that is regenerated via denitrification to N2\n",
    "RP = 2.0e-4 # River input of dissolved P in mol P/m^2/year\n",
    "RN = 6.0e-3 # River input of dissolved N in mol N/m^2/year\n",
    "AN = 7.5e-3 # Atmospheric input of N in molN/m^2/year\n",
    "RPhyto = 16.0 # N:P ratio in organic matter from phytoplankton\n",
    "RNFixers = 16.0 # N:P ratio in Nitrogen Fixers\n",
    "muNF = 87.6 # Maximum growth rate of nitrogen fixing bacteria in units of 1/year\n",
    "muPhyto = 91.25 # Maximum growth rate of phytoplankton in units of 1/year\n",
    "PH = 3.0e-5 # Half saturation constant for Phosphate in mol P /m^3\n",
    "NH = 5.0e-4   # Half saturation constant for Nitrate in mol N /m^3\n",
    "M = 73.0    # Mortality in 1/year\n",
    "\n",
    "\n",
    "### Next are the functions that define the right hand side of the system of equations\n",
    "\n",
    "# We first define the dynamical variables:\n",
    "\n",
    "# NFixer stands for the population of nitrogen fixers\n",
    "# PhytoP stands to phytoplankton\n",
    "# PS stands for the surface phosphate\n",
    "# NS stands for surface nitrate\n",
    "# ND stands for deep nitrate\n",
    "# PD stands for deep phosphate\n",
    "\n",
    "\n",
    "###\n",
    "\n",
    "def dNFixer(NFixer,PS):\n",
    "    return muNF*PS/(PS+PH)*NFixer - M*NFixer\n",
    "\n",
    "def dPhytoP(PhytoP,PS,NS):\n",
    "    return muPhyto*min([PS/(PS+PH),NS/(NS+NH)])*PhytoP - M*PhytoP\n",
    "\n",
    "def dPS(PS,NS,PD,ND,PhytoP,NFixer):\n",
    "    return -muNF*PS/(PS+PH)*NFixer/RNFixers+M*(SR)*NFixer/RNFixers+M*(SR)*PhytoP/RPhyto-muPhyto*min([PS/(PS+PH),NS/(NS+NH)])*PhytoP/RPhyto+K*(PD-PS)/SD+RP/SD  \n",
    "\n",
    "def dNS(PS,NS,PD,ND,PhytoP,NFixer):\n",
    "    return -muPhyto*min([PS/(PS+PH),NS/(NS+NH)])*PhytoP + M*(SR-0.75*DN)*NFixer + M*(SR-0.75*DN)*PhytoP +K*(ND-NS)/SD+(RN+AN)/SD\n",
    "\n",
    "def dPD(PS,NS,PD,ND,PhytoP,NFixer):\n",
    "    return M*DR*NFixer/RNFixers*SD/DD+M*DR*PhytoP/RPhyto*SD/DD - K*(PD-PS)/DD\n",
    "\n",
    "def dND(PS,NS,PD,ND,PhytoP,NFixer):\n",
    "    return M*(DR-0.25*DN)*NFixer*SD/DD+M*(DR-0.25*DN)*PhytoP*SD/DD-K*(ND-NS)/DD\n",
    "\n",
    "\n",
    "def dState(t,state):\n",
    "    PS=state[0]\n",
    "    NS=state[1]\n",
    "    PD=state[2]\n",
    "    ND=state[3]\n",
    "    PhytoP=state[4]\n",
    "    NFixer=state[5]\n",
    "    \n",
    "    dS = np.zeros(6)\n",
    "    dS[0] = dPS(PS,NS,PD,ND,PhytoP,NFixer)\n",
    "    dS[1] = dNS(PS,NS,PD,ND,PhytoP,NFixer)\n",
    "    dS[2] = dPD(PS,NS,PD,ND,PhytoP,NFixer)\n",
    "    dS[3] = dND(PS,NS,PD,ND,PhytoP,NFixer)\n",
    "    dS[4] = dPhytoP(PhytoP,PS,NS)\n",
    "    dS[5] = dNFixer(NFixer,PS)\n",
    "    return dS\n",
    "\n",
    "###\n",
    "\n",
    "\n",
    "\n",
    "\n",
    "\n",
    "\n",
    "\n",
    "\n"
   ]
  },
  {
   "cell_type": "code",
   "execution_count": 3,
   "metadata": {
    "collapsed": false
   },
   "outputs": [
    {
     "ename": "ZeroDivisionError",
     "evalue": "float division by zero",
     "output_type": "error",
     "traceback": [
      "\u001b[1;31m---------------------------------------------------------------------------\u001b[0m",
      "\u001b[1;31mZeroDivisionError\u001b[0m                         Traceback (most recent call last)",
      "\u001b[1;32m<ipython-input-3-ce5e5e157f16>\u001b[0m in \u001b[0;36m<module>\u001b[1;34m()\u001b[0m\n\u001b[0;32m      5\u001b[0m \u001b[0mNSEquilibrium\u001b[0m \u001b[1;33m=\u001b[0m \u001b[0mM\u001b[0m\u001b[1;33m*\u001b[0m\u001b[0mNH\u001b[0m\u001b[1;33m/\u001b[0m\u001b[1;33m(\u001b[0m\u001b[0mmuPhyto\u001b[0m\u001b[1;33m-\u001b[0m\u001b[0mM\u001b[0m\u001b[1;33m)\u001b[0m\u001b[1;33m\u001b[0m\u001b[0m\n\u001b[0;32m      6\u001b[0m \u001b[1;33m\u001b[0m\u001b[0m\n\u001b[1;32m----> 7\u001b[1;33m \u001b[0mPhytoPEquilibrium\u001b[0m \u001b[1;33m=\u001b[0m \u001b[1;36m1.0\u001b[0m\u001b[1;33m/\u001b[0m\u001b[1;33m(\u001b[0m\u001b[0mM\u001b[0m\u001b[1;33m*\u001b[0m\u001b[0mSD\u001b[0m\u001b[1;33m)\u001b[0m\u001b[1;33m*\u001b[0m\u001b[1;33m(\u001b[0m\u001b[0mRN\u001b[0m\u001b[1;33m+\u001b[0m\u001b[0mAN\u001b[0m\u001b[1;33m+\u001b[0m\u001b[0mRP\u001b[0m\u001b[1;33m*\u001b[0m\u001b[0mRNFixers\u001b[0m\u001b[1;33m*\u001b[0m\u001b[1;33m(\u001b[0m\u001b[1;36m1\u001b[0m\u001b[1;33m-\u001b[0m\u001b[0mSF\u001b[0m\u001b[1;33m-\u001b[0m\u001b[0mDN\u001b[0m\u001b[1;33m)\u001b[0m\u001b[1;33m/\u001b[0m\u001b[0mSF\u001b[0m\u001b[1;33m)\u001b[0m\u001b[1;33m/\u001b[0m\u001b[1;33m(\u001b[0m\u001b[0mSF\u001b[0m\u001b[1;33m+\u001b[0m\u001b[0mDN\u001b[0m\u001b[1;33m+\u001b[0m\u001b[0mRNFixers\u001b[0m\u001b[1;33m/\u001b[0m\u001b[0mRPhyto\u001b[0m\u001b[1;33m*\u001b[0m\u001b[1;33m(\u001b[0m\u001b[1;36m1\u001b[0m\u001b[1;33m-\u001b[0m\u001b[0mSF\u001b[0m\u001b[1;33m-\u001b[0m\u001b[0mDN\u001b[0m\u001b[1;33m)\u001b[0m\u001b[1;33m)\u001b[0m\u001b[1;33m\u001b[0m\u001b[0m\n\u001b[0m\u001b[0;32m      8\u001b[0m \u001b[0mNFixerEquilibrium\u001b[0m \u001b[1;33m=\u001b[0m \u001b[1;36m1.0\u001b[0m\u001b[1;33m/\u001b[0m\u001b[1;33m(\u001b[0m\u001b[0mM\u001b[0m\u001b[1;33m*\u001b[0m\u001b[0mSD\u001b[0m\u001b[1;33m)\u001b[0m\u001b[1;33m*\u001b[0m\u001b[1;33m(\u001b[0m\u001b[0mRN\u001b[0m\u001b[1;33m+\u001b[0m\u001b[0mAN\u001b[0m\u001b[1;33m-\u001b[0m\u001b[0mRPhyto\u001b[0m\u001b[1;33m*\u001b[0m\u001b[0mRP\u001b[0m\u001b[1;33m*\u001b[0m\u001b[1;33m(\u001b[0m\u001b[0mSF\u001b[0m\u001b[1;33m+\u001b[0m\u001b[0mDN\u001b[0m\u001b[1;33m)\u001b[0m\u001b[1;33m/\u001b[0m\u001b[0mSF\u001b[0m\u001b[1;33m)\u001b[0m\u001b[1;33m/\u001b[0m\u001b[1;33m(\u001b[0m\u001b[0mDN\u001b[0m\u001b[1;33m+\u001b[0m\u001b[0mSF\u001b[0m\u001b[1;33m-\u001b[0m\u001b[1;36m1\u001b[0m\u001b[1;33m-\u001b[0m\u001b[0mRPhyto\u001b[0m\u001b[1;33m/\u001b[0m\u001b[0mRNFixers\u001b[0m\u001b[1;33m*\u001b[0m\u001b[1;33m(\u001b[0m\u001b[0mSF\u001b[0m\u001b[1;33m+\u001b[0m\u001b[0mDN\u001b[0m\u001b[1;33m)\u001b[0m\u001b[1;33m)\u001b[0m\u001b[1;33m\u001b[0m\u001b[0m\n\u001b[0;32m      9\u001b[0m \u001b[1;33m\u001b[0m\u001b[0m\n",
      "\u001b[1;31mZeroDivisionError\u001b[0m: float division by zero"
     ]
    }
   ],
   "source": [
    "### In this box we will define functions that determine the equilibrium state of the system\n",
    "\n",
    "\n",
    "PSEquilibrium = M*PH/(muNF-M)\n",
    "NSEquilibrium = M*NH/(muPhyto-M)\n",
    "\n",
    "PhytoPEquilibrium = 1.0/(M*SD)*(RN+AN+RP*RNFixers*(1-SF-DN)/SF)/(SF+DN+RNFixers/RPhyto*(1-SF-DN))\n",
    "NFixerEquilibrium = 1.0/(M*SD)*(RN+AN-RPhyto*RP*(SF+DN)/SF)/(DN+SF-1-RPhyto/RNFixers*(SF+DN))\n",
    "\n",
    "PDEquilibrium = PSEquilibrium+M*DR*SD/K*(NFixerEquilibrium/RNFixers+PhytoPEquilibrium/RPhyto)\n",
    "NDEquilibrium = NSEquilibrium+M*(DR-0.25*DN)*SD/K*(NFixerEquilibrium+PhytoPEquilibrium)\n",
    "\n",
    "RS = NSEquilibrium/PSEquilibrium\n",
    "RD = NDEquilibrium/PDEquilibrium\n",
    "\n"
   ]
  },
  {
   "cell_type": "code",
   "execution_count": 13,
   "metadata": {
    "collapsed": false
   },
   "outputs": [
    {
     "data": {
      "text/plain": [
       "array([ -8.00442458e-08,   2.37169225e-19,   1.18951201e-08,\n",
       "         1.01643954e-20,   0.00000000e+00,   0.00000000e+00])"
      ]
     },
     "execution_count": 13,
     "metadata": {},
     "output_type": "execute_result"
    }
   ],
   "source": [
    "dState(0,vecStart)"
   ]
  },
  {
   "cell_type": "code",
   "execution_count": 286,
   "metadata": {
    "collapsed": false
   },
   "outputs": [
    {
     "data": {
      "text/plain": [
       "0.0"
      ]
     },
     "execution_count": 286,
     "metadata": {},
     "output_type": "execute_result"
    }
   ],
   "source": [
    "dPhytoP(PhytoPEquilibrium,PSEquilibrium,NSEquilibrium)"
   ]
  },
  {
   "cell_type": "code",
   "execution_count": 287,
   "metadata": {
    "collapsed": false
   },
   "outputs": [
    {
     "data": {
      "text/plain": [
       "4.380518791711463e-05"
      ]
     },
     "execution_count": 287,
     "metadata": {},
     "output_type": "execute_result"
    }
   ],
   "source": [
    "PhytoPEquilibrium"
   ]
  },
  {
   "cell_type": "code",
   "execution_count": 288,
   "metadata": {
    "collapsed": false
   },
   "outputs": [
    {
     "data": {
      "text/plain": [
       "17.59214293960983"
      ]
     },
     "execution_count": 288,
     "metadata": {},
     "output_type": "execute_result"
    }
   ],
   "source": [
    "(NFixerEquilibrium*RNFixers+PhytoPEquilibrium*RPhyto)/(NFixerEquilibrium+PhytoPEquilibrium)"
   ]
  },
  {
   "cell_type": "code",
   "execution_count": 15,
   "metadata": {
    "collapsed": false
   },
   "outputs": [
    {
     "data": {
      "text/plain": [
       "14.685714285714285"
      ]
     },
     "execution_count": 15,
     "metadata": {},
     "output_type": "execute_result"
    }
   ],
   "source": [
    ".0257/.00175"
   ]
  },
  {
   "cell_type": "code",
   "execution_count": 14,
   "metadata": {
    "collapsed": false
   },
   "outputs": [
    {
     "data": {
      "text/plain": [
       "[0.00015000000000000007,\n",
       " 0.002,\n",
       " 0.0017500000000000003,\n",
       " 0.02578890442001687,\n",
       " 4.380518791711463e-05,\n",
       " 3.8130740680805543e-07]"
      ]
     },
     "execution_count": 14,
     "metadata": {},
     "output_type": "execute_result"
    }
   ],
   "source": [
    "vecStart\n"
   ]
  },
  {
   "cell_type": "code",
   "execution_count": 9,
   "metadata": {
    "collapsed": false
   },
   "outputs": [],
   "source": [
    "vecStart=[PSEquilibrium,NSEquilibrium,PDEquilibrium,NDEquilibrium,PhytoPEquilibrium,NFixerEquilibrium]\n",
    "\n",
    "\n",
    "rr = ode(dState).set_integrator('dopri5')\n",
    "rr.set_initial_value(vecStart,0)\n",
    "rr.t\n",
    "t1 = 100\n",
    "dt = 1e-1\n",
    "while (rr.successful() and rr.t < t1):\n",
    "    rr.integrate(rr.t+dt)\n",
    "    \n",
    "    \n",
    "    \n",
    "    \n",
    "\n",
    "\n",
    "\n"
   ]
  },
  {
   "cell_type": "code",
   "execution_count": 10,
   "metadata": {
    "collapsed": false
   },
   "outputs": [
    {
     "data": {
      "text/plain": [
       "array([  1.50000000e-04,   2.00000000e-03,   1.75000000e-03,\n",
       "         2.57889044e-02,   4.38051879e-05,   3.81307407e-07])"
      ]
     },
     "execution_count": 10,
     "metadata": {},
     "output_type": "execute_result"
    }
   ],
   "source": [
    "rr.y"
   ]
  },
  {
   "cell_type": "code",
   "execution_count": 134,
   "metadata": {
    "collapsed": true
   },
   "outputs": [],
   "source": [
    "# Alternate equilibrium to deal with bs\n",
    "\n",
    "PSAlt = (PH/(muNF/M-1))\n",
    "NSAlt = (NH/(muPhyto/M-1))\n",
    "\n",
    "PhytoAlt = (1/(M*SD))*(RP*RPhyto*(1-SF-DN)/SF+RN+AN)\n",
    "NFixerAlt = (1/(M*SD))*(RP*RPhyto*(SF+DN)/SF-RN-AN)\n",
    "\n",
    "PDAlt = PSAlt +(RP*(1-SR-SF)/(K*SF))\n",
    "PDAAlt = PSAlt+M*DR*SD/K*(PhytoAlt/RPhyto+NFixerAlt/RPhyto)\n",
    "NDAlt = NSAlt + (RP*RPhyto*(1-SR-SF-0.25*DN)/(K*SF))\n",
    "\n",
    "altVec = np.array([PSAlt,NSAlt,PDAlt,NDAlt,PhytoAlt,NFixerAlt])\n",
    "\n",
    "\n",
    "\n",
    "\n"
   ]
  },
  {
   "cell_type": "code",
   "execution_count": 154,
   "metadata": {
    "collapsed": false
   },
   "outputs": [
    {
     "data": {
      "text/plain": [
       "array([ -2.71050543e-20,   0.00000000e+00,   1.30104261e-18,\n",
       "         2.08166817e-17,   0.00000000e+00,   5.29395592e-23])"
      ]
     },
     "execution_count": 154,
     "metadata": {},
     "output_type": "execute_result"
    }
   ],
   "source": [
    "altVec-vecStart\n"
   ]
  },
  {
   "cell_type": "code",
   "execution_count": 123,
   "metadata": {
    "collapsed": false
   },
   "outputs": [
    {
     "data": {
      "text/plain": [
       "2.714560000000141e-05"
      ]
     },
     "execution_count": 123,
     "metadata": {},
     "output_type": "execute_result"
    }
   ],
   "source": [
    "(RP*(1-SR-SF)/(K*SF))-M*DR*SD/K*(PhytoAlt/RPhyto+NFixerAlt/RPhyto)"
   ]
  },
  {
   "cell_type": "code",
   "execution_count": 124,
   "metadata": {
    "collapsed": false
   },
   "outputs": [
    {
     "data": {
      "text/plain": [
       "0.0015728544000000002"
      ]
     },
     "execution_count": 124,
     "metadata": {},
     "output_type": "execute_result"
    }
   ],
   "source": [
    "M*DR*SD/K*(PhytoAlt/RPhyto+NFixerAlt/RPhyto)"
   ]
  },
  {
   "cell_type": "code",
   "execution_count": 130,
   "metadata": {
    "collapsed": false
   },
   "outputs": [
    {
     "data": {
      "text/plain": [
       "-4.648219178082185e-08"
      ]
     },
     "execution_count": 130,
     "metadata": {},
     "output_type": "execute_result"
    }
   ],
   "source": [
    "PhytoAlt/RPhyto+NFixerAlt/RPhyto-(RP/(M*SD*SF))"
   ]
  },
  {
   "cell_type": "code",
   "execution_count": 132,
   "metadata": {
    "collapsed": false
   },
   "outputs": [
    {
     "data": {
      "text/plain": [
       "2.7397260273972604e-06"
      ]
     },
     "execution_count": 132,
     "metadata": {},
     "output_type": "execute_result"
    }
   ],
   "source": [
    "RP/(M*SD*SF)"
   ]
  },
  {
   "cell_type": "code",
   "execution_count": 133,
   "metadata": {
    "collapsed": false
   },
   "outputs": [
    {
     "data": {
      "text/plain": [
       "0.0"
      ]
     },
     "execution_count": 133,
     "metadata": {},
     "output_type": "execute_result"
    }
   ],
   "source": [
    "PhytoAlt+NFixerAlt-((1/(M*SD))*(RP*RPhyto*(1-SF-DN)/SF+RN+AN)+(1/(M*SD))*(RP*RPhyto*(SF+DN)-RN-AN))"
   ]
  },
  {
   "cell_type": "code",
   "execution_count": 138,
   "metadata": {
    "collapsed": false
   },
   "outputs": [
    {
     "data": {
      "text/plain": [
       "3.063013698630137e-06"
      ]
     },
     "execution_count": 138,
     "metadata": {},
     "output_type": "execute_result"
    }
   ],
   "source": [
    "1.0/(M*SD)*(RN+AN+RP*(1-SF-DN)/SF)/(SF+DN+RNFixers/RPhyto*(1-SF-DN))"
   ]
  },
  {
   "cell_type": "code",
   "execution_count": 139,
   "metadata": {
    "collapsed": false
   },
   "outputs": [
    {
     "data": {
      "text/plain": [
       "4.346027397260274e-05"
      ]
     },
     "execution_count": 139,
     "metadata": {},
     "output_type": "execute_result"
    }
   ],
   "source": [
    "PhytoAlt"
   ]
  },
  {
   "cell_type": "code",
   "execution_count": 141,
   "metadata": {
    "collapsed": false
   },
   "outputs": [
    {
     "data": {
      "text/plain": [
       "1.0"
      ]
     },
     "execution_count": 141,
     "metadata": {},
     "output_type": "execute_result"
    }
   ],
   "source": [
    "(SF+DN+RNFixers/RPhyto*(1-SF-DN))"
   ]
  },
  {
   "cell_type": "code",
   "execution_count": 149,
   "metadata": {
    "collapsed": false
   },
   "outputs": [
    {
     "data": {
      "text/plain": [
       "4.346027397260274e-05"
      ]
     },
     "execution_count": 149,
     "metadata": {},
     "output_type": "execute_result"
    }
   ],
   "source": [
    "1.0/(M*SD)*(RN+AN+RP*RPhyto*(1-SF-DN)/SF)"
   ]
  },
  {
   "cell_type": "code",
   "execution_count": 144,
   "metadata": {
    "collapsed": false
   },
   "outputs": [
    {
     "data": {
      "text/plain": [
       "4.346027397260274e-05"
      ]
     },
     "execution_count": 144,
     "metadata": {},
     "output_type": "execute_result"
    }
   ],
   "source": [
    "(1/(M*SD))*(RP*RPhyto*(1-SF-DN)/SF+RN+AN)"
   ]
  },
  {
   "cell_type": "code",
   "execution_count": 147,
   "metadata": {
    "collapsed": false
   },
   "outputs": [
    {
     "data": {
      "text/plain": [
       "0.1118"
      ]
     },
     "execution_count": 147,
     "metadata": {},
     "output_type": "execute_result"
    }
   ],
   "source": [
    "(RN+AN+RP*(1-SF-DN)/SF)"
   ]
  },
  {
   "cell_type": "code",
   "execution_count": 148,
   "metadata": {
    "collapsed": false
   },
   "outputs": [
    {
     "data": {
      "text/plain": [
       "1.5863"
      ]
     },
     "execution_count": 148,
     "metadata": {},
     "output_type": "execute_result"
    }
   ],
   "source": [
    "(RP*RPhyto*(1-SF-DN)/SF+RN+AN)"
   ]
  },
  {
   "cell_type": "code",
   "execution_count": null,
   "metadata": {
    "collapsed": true
   },
   "outputs": [],
   "source": []
  }
 ],
 "metadata": {
  "kernelspec": {
   "display_name": "Python 2",
   "language": "python",
   "name": "python2"
  },
  "language_info": {
   "codemirror_mode": {
    "name": "ipython",
    "version": 2
   },
   "file_extension": ".py",
   "mimetype": "text/x-python",
   "name": "python",
   "nbconvert_exporter": "python",
   "pygments_lexer": "ipython2",
   "version": "2.7.8"
  }
 },
 "nbformat": 4,
 "nbformat_minor": 0
}
