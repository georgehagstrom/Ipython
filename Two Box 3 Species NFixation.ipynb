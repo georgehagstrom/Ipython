{
 "cells": [
  {
   "cell_type": "markdown",
   "metadata": {},
   "source": [
    "###  Two Box Variable Stoichiometry and Nitrogen Fixation\n",
    "--- \n",
    "\n",
    "In this notebook I will write simulations to explore the role of deviations from Redfield on the nutrient stoichiometry of the ocean and the biota. The starting point will be Toby Tirrel's two box ocean model which predicts that nitrogen fixers cause the ocean to converge to the Redfield ratio. We will initially study the implications of allowing different N:P ratios in Nitrogen Fixers and phytoplankton, and then we will explore increasing the number of boxes.\n"
   ]
  },
  {
   "cell_type": "code",
   "execution_count": 5,
   "metadata": {
    "collapsed": false
   },
   "outputs": [
    {
     "name": "stdout",
     "output_type": "stream",
     "text": [
      "Populating the interactive namespace from numpy and matplotlib\n"
     ]
    },
    {
     "name": "stderr",
     "output_type": "stream",
     "text": [
      "/usr/lib/pymodules/python2.7/matplotlib/__init__.py:1173: UserWarning:  This call to matplotlib.use() has no effect\n",
      "because the backend has already been chosen;\n",
      "matplotlib.use() must be called *before* pylab, matplotlib.pyplot,\n",
      "or matplotlib.backends is imported for the first time.\n",
      "\n",
      "  warnings.warn(_use_error_msg)\n"
     ]
    }
   ],
   "source": [
    "\n",
    "from scipy.integrate import ode\n",
    "\n",
    "%pylab inline\n",
    "\n",
    "import numpy as np\n",
    "from scipy import optimize\n",
    "\n",
    "import matplotlib.pyplot as plt\n",
    "matplotlib.use(\"Agg\")\n",
    "import scipy.io as sio\n",
    "import scipy.signal\n",
    "from pylab import *\n",
    "\n",
    "asin=np.arcsin\n",
    "sqrt=np.sqrt\n",
    "sin=np.sin\n",
    "cos=np.cos\n",
    "pi=np.pi\n",
    "exp=np.exp\n",
    "tan=np.tan\n",
    "I=1j\n",
    "inf=np.inf\n",
    "\n",
    "hilbert=scipy.signal.hilbert\n"
   ]
  },
  {
   "cell_type": "code",
   "execution_count": 169,
   "metadata": {
    "collapsed": false
   },
   "outputs": [],
   "source": [
    "### Here are important constants\n",
    "\n",
    "# Relative sizes of the high and low lattitude boxes\n",
    "\n",
    "HLSize = .15\n",
    "LLSize = .85\n",
    "\n",
    "SD = 500.0*LLSize   # Surface layer depth in meters\n",
    "DD = 3230.0  # Deep layer depth in meters\n",
    "\n",
    "HD = 500*HLSize\n",
    "\n",
    "\n",
    "K = 3.0 # Mixing coefficient in meters/year\n",
    "KH = 3.0 # Mixing coefficient between high and deep boxes\n",
    "\n",
    "SR = .95 # Fraction of TPP regenerated above 500m\n",
    "SF = .002 # Fraction of TPP permanently incorporated into sediments\n",
    "DR = .048 # Fraction of TPP regenthat is regenerated via denitrification to N2\n",
    "RP = 2.0e-4 # River input of diserated below 500m\n",
    "DN = .015 # Fraction of TPP of N solved P in mol P/m^2/year\n",
    "RN = 6.0e-3 # River input of dissolved N in mol N/m^2/year\n",
    "AN = 7.5e-3 # Atmospheric input of N in molN/m^2/year\n",
    "RPhyto = 30.0 # N:P ratio in organic matter from phytoplankton\n",
    "RPHigh = 30.0 # N:P ratio in high lattitude phytoplankton\n",
    "RDiatom = 10.0 # N:P ratio in diatoms at any lattitude\n",
    "\n",
    "RNFixers = 50.0 # N:P ratio in Nitrogen Fixers\n",
    "muDiatom = 365.0 # Growth rate of high lattitude phytoplankton\n",
    "muNF = 60.0 # Maximum growth rate of nitrogen fixing bacteria in units of 1/year\n",
    "muPhyto = 365.0 # Maximum growth rate of phytoplankton in units of 1/year\n",
    "\n",
    "PH = 3.0e-2 # Half saturation constant for Phosphate in mol P /m^3\n",
    "NH = 5.0e-1   # Half saturation constant for Nitrate in mol N /m^3\n",
    "\n",
    "PDiatom = 3.0e-2*10\n",
    "NDiatom = 5.0e-1*10\n",
    "\n",
    "\n",
    "\n",
    "MC = 10.0\n",
    "\n",
    "MCoefficient = 0*365/5e-4   # Mortality in 1/year\n",
    "MDiatomCoefficient = 0*365/5e-3  # High Lattitude Mortality\n",
    "MFixerCoefficient = 0*354/5e-4\n",
    "\n",
    "\n",
    "### Next are the functions that define the right hand side of the system of equations\n",
    "\n",
    "# We first define the dynamical variables:\n",
    "\n",
    "# NFixer stands for the population of nitrogen fixers\n",
    "# PhytoP stands to phytoplankton\n",
    "# Diatom stands for Diatom\n",
    "# PS stands for the surface phosphate\n",
    "# NS stands for surface nitrate\n",
    "# ND stands for deep nitrate\n",
    "# PD stands for deep phosphate\n",
    "\n",
    "\n",
    "###\n",
    "\n",
    "def dNFixer(NFixer,PS):\n",
    "    return muNF*PS/(PS+PH)*NFixer - (MFixerCoefficient*NFixer+MC)*NFixer\n",
    "\n",
    "def dPhytoP(PhytoP,PS,NS):\n",
    "    return muPhyto*min([PS/(PS+PH),NS/(NS+NH)])*PhytoP - (MCoefficient*PhytoP+MC)*PhytoP\n",
    "\n",
    "def dDiatom(Diatom,PS,NS):\n",
    "    return muDiatom*min([PS/(PS+PDiatom), NS/(NS+NDiatom)])*Diatom-MDiatomCoefficient*Diatom*Diatom-MC*Diatom\n",
    "\n",
    "def dPS(PS,NS,PD,ND,PhytoP,NFixer,Diatom):\n",
    "    return -muNF*PS/(PS+PH)*NFixer/RNFixers-muDiatom*min([PS/(PS+PDiatom), NS/(NS+NDiatom)])*Diatom/RDiatom+(MDiatomCoefficient*(SR)*Diatom+MC*SR)*Diatom/RDiatom+(MFixerCoefficient*(SR)*NFixer+MC*SR)*NFixer/RNFixers+(MCoefficient*(SR)*PhytoP + MC*SR)*PhytoP/RPhyto-muPhyto*min([PS/(PS+PH),NS/(NS+NH)])*PhytoP/RPhyto+K*(PD-PS)/SD+RP*LLSize/SD  \n",
    "\n",
    "def dPSH(PSH,NSH,PD,ND,PhytoPH,DiatomH):\n",
    "    return (MCoefficient*SR*PhytoPH+MC*SR)*PhytoPH/RPhyto-muPhyto*min([PSH/(PSH+PH),NSH/(NSH+NH)])*PhytoPH/RPhyto+KH*(PD-PSH)/HD+RP*HLSize/HD+((MDiatomCoefficient*DiatomH+MC)*DiatomH*(SR)/RDiatom-DiatomH*muDiatom*min([NSH/(NSH+NDiatom),PSH/(PSH+PDiatom)])/RDiatom)  \n",
    "\n",
    "\n",
    "\n",
    "def dNS(PS,NS,PD,ND,PhytoP,NFixer,Diatom):\n",
    "    return -muPhyto*min([PS/(PS+PH),NS/(NS+NH)])*PhytoP -muDiatom*min([PS/(PS+PDiatom),NS/(NS+NDiatom)])*Diatom+ (MFixerCoefficient+MC/NFixer)*(SR-0.75*DN)*NFixer*NFixer + (MCoefficient+MC/PhytoP)*(SR-0.75*DN)*PhytoP*PhytoP +(MDiatomCoefficient+MC/Diatom)*(SR-0.75*DN)*Diatom*Diatom +K*(ND-NS)/SD+(RN+AN)*LLSize/SD\n",
    "\n",
    "def dNSH(PSH,NSH,PD,ND,PhytoPH,Diatom):\n",
    "    return -muPhyto*min([PSH/(PSH+PH),NSH/(NSH+NH)])*PhytoPH+(MCoefficient*SR*PhytoPH+SR*MC)*PhytoPH-muDiatom*min([PSH/(PSH+PDiatom),NSH/(NSH+NDiatom)])*Diatom+(MCoefficient+MC/PhytoPH)*(SR-0.75*DN)*PhytoPH*PhytoPH+KH*(ND-NSH)/HD+(RN+AN)*HLSize/HD+(MDiatomCoefficient*SR*Diatom+SR*MC)*Diatom+(MDiatomCoefficient+MC/Diatom)*(SR-0.75*DN)*Diatom*Diatom                                   \n",
    "                                   \n",
    "    \n",
    "\n",
    "def dPD(PS,PSH,NS,NSH,PD,ND,PhytoP,PhytoPH,NFixer,Diatom,DiatomH):\n",
    "    return (MFixerCoefficient*DR*NFixer+MC*DR)*NFixer/RNFixers*SD/DD+(MCoefficient*DR*PhytoP+DR*MC)*PhytoP/RPhyto*SD/DD+(MDiatomCoefficient*DR*Diatom+DR*MC)*Diatom/RDiatom*SD/DD+(MCoefficient*DR*PhytoPH+MC*DR)*PhytoPH/RPhyto*HD/DD +(MDiatomCoefficient*DR*DiatomH+DR*MC)*DiatomH/RDiatom*HD/DD- K*(PD-PS)/DD- KH*(PD-PSH)/DD  \n",
    "\n",
    "\n",
    "def dND(PS,PSH,NS,NSH,PD,ND,PhytoP,PhytoPH,NFixer,Diatom,DiatomH):\n",
    "    return (MFixerCoefficient+MC/NFixer)*(DR-0.25*DN)*NFixer*NFixer*SD/DD+(MDiatomCoefficient+MC/Diatom)*(DR-0.25*DN)*Diatom*Diatom*SD/DD+(MCoefficient+MC/PhytoP)*(DR-0.25*DN)*PhytoP*PhytoP*SD/DD-K*(ND-NS)/DD-KH*(ND-NSH)/DD+(MCoefficient+MC*PhytoPH)*(DR-0.25*DN)*PhytoPH*PhytoPH*HD/DD+(MDiatomCoefficient+MC/DiatomH)*(DR-0.25*DN)*DiatomH*DiatomH*HD/DD\n",
    "\n",
    "\n",
    "def dPhytoPHigh(PhytoPH,PSH,NSH):\n",
    "    return muHL*min([PSH/(PSH+PHHigh),NSH/(NSH+NHHigh)])*PhytoPH - MH*PhytoPH\n",
    "\n",
    "\n",
    "\n",
    "def dState(t,state):\n",
    "    PS=state[0]\n",
    "    PSH=state[1]\n",
    "    NS=state[2]\n",
    "    NSH=state[3]\n",
    "    PD=state[4]\n",
    "    ND=state[5]\n",
    "    PhytoP=state[6]\n",
    "    PhytoPH = state[7]\n",
    "    NFixer=state[8]\n",
    "    Diatom=state[9]\n",
    "    DiatomH=state[10]\n",
    "    if PhytoP<0:\n",
    "        PhytoP = 1e-12\n",
    "        state[6]=1e-12\n",
    "    if NFixer<0:\n",
    "        NFixer=1e-12\n",
    "        state[8]=1e-12\n",
    "    if PhytoPH<0:\n",
    "        PhytoPH=1e-12\n",
    "        state[7]=1e-12\n",
    "    if Diatom<0:\n",
    "        Diatom=1e-12\n",
    "        state[9]=1e-12\n",
    "    if DiatomH<0:\n",
    "        DiatomH=1e-12\n",
    "        state[10]=1e-12\n",
    "    \n",
    "    \n",
    "    dS = np.zeros(11)\n",
    "    dS[0] = dPS(PS,NS,PD,ND,PhytoP,NFixer,Diatom)\n",
    "    dS[1] = dPSH(PSH,NSH,PD,ND,PhytoPH,DiatomH)\n",
    "    dS[2] = dNS(PS,NS,PD,ND,PhytoP,NFixer,Diatom)\n",
    "    dS[3] = dNSH(PSH,NSH,PD,ND,PhytoPH,DiatomH)\n",
    "    dS[4] = dPD(PS,PSH,NS,NSH,PD,ND,PhytoP,PhytoPH,NFixer,Diatom,DiatomH)\n",
    "    dS[5] = dND(PS,PSH,NS,NSH,PD,ND,PhytoP,PhytoPH,NFixer,Diatom,DiatomH)\n",
    "    dS[6] = dPhytoP(PhytoP,PS,NS)\n",
    "    dS[7] = dPhytoP(PhytoPH,PSH,NSH)\n",
    "    dS[8] = dNFixer(NFixer,PS)\n",
    "    dS[9] = dDiatom(Diatom,PS,NS)\n",
    "    dS[10]= dDiatom(DiatomH,PSH,NSH)\n",
    "    return dS\n",
    "\n",
    "###\n",
    "\n",
    "\n",
    "\n",
    "\n",
    "\n",
    "\n",
    "\n",
    "\n"
   ]
  },
  {
   "cell_type": "code",
   "execution_count": 170,
   "metadata": {
    "collapsed": false
   },
   "outputs": [
    {
     "ename": "NameError",
     "evalue": "name 'M' is not defined",
     "output_type": "error",
     "traceback": [
      "\u001b[1;31m---------------------------------------------------------------------------\u001b[0m",
      "\u001b[1;31mNameError\u001b[0m                                 Traceback (most recent call last)",
      "\u001b[1;32m<ipython-input-170-ce5e5e157f16>\u001b[0m in \u001b[0;36m<module>\u001b[1;34m()\u001b[0m\n\u001b[0;32m      2\u001b[0m \u001b[1;33m\u001b[0m\u001b[0m\n\u001b[0;32m      3\u001b[0m \u001b[1;33m\u001b[0m\u001b[0m\n\u001b[1;32m----> 4\u001b[1;33m \u001b[0mPSEquilibrium\u001b[0m \u001b[1;33m=\u001b[0m \u001b[0mM\u001b[0m\u001b[1;33m*\u001b[0m\u001b[0mPH\u001b[0m\u001b[1;33m/\u001b[0m\u001b[1;33m(\u001b[0m\u001b[0mmuNF\u001b[0m\u001b[1;33m-\u001b[0m\u001b[0mM\u001b[0m\u001b[1;33m)\u001b[0m\u001b[1;33m\u001b[0m\u001b[0m\n\u001b[0m\u001b[0;32m      5\u001b[0m \u001b[0mNSEquilibrium\u001b[0m \u001b[1;33m=\u001b[0m \u001b[0mM\u001b[0m\u001b[1;33m*\u001b[0m\u001b[0mNH\u001b[0m\u001b[1;33m/\u001b[0m\u001b[1;33m(\u001b[0m\u001b[0mmuPhyto\u001b[0m\u001b[1;33m-\u001b[0m\u001b[0mM\u001b[0m\u001b[1;33m)\u001b[0m\u001b[1;33m\u001b[0m\u001b[0m\n\u001b[0;32m      6\u001b[0m \u001b[1;33m\u001b[0m\u001b[0m\n",
      "\u001b[1;31mNameError\u001b[0m: name 'M' is not defined"
     ]
    }
   ],
   "source": [
    "### In this box we will define functions that determine the equilibrium state of the system\n",
    "\n",
    "\n",
    "PSEquilibrium = M*PH/(muNF-M)\n",
    "NSEquilibrium = M*NH/(muPhyto-M)\n",
    "\n",
    "PhytoPEquilibrium = 1.0/(M*SD)*(RN+AN+RP*RNFixers*(1-SF-DN)/SF)/(SF+DN+RNFixers/RPhyto*(1-SF-DN))\n",
    "NFixerEquilibrium = 1.0/(M*SD)*(RN+AN-RPhyto*RP*(SF+DN)/SF)/(DN+SF-1-RPhyto/RNFixers*(SF+DN))\n",
    "\n",
    "PDEquilibrium = PSEquilibrium+M*DR*SD/K*(NFixerEquilibrium/RNFixers+PhytoPEquilibrium/RPhyto)\n",
    "NDEquilibrium = NSEquilibrium+M*(DR-0.25*DN)*SD/K*(NFixerEquilibrium+PhytoPEquilibrium)\n",
    "\n",
    "RS = NSEquilibrium/PSEquilibrium\n",
    "RD = NDEquilibrium/PDEquilibrium\n",
    "\n"
   ]
  },
  {
   "cell_type": "code",
   "execution_count": 3,
   "metadata": {
    "collapsed": false
   },
   "outputs": [
    {
     "ename": "NameError",
     "evalue": "name 'np' is not defined",
     "output_type": "error",
     "traceback": [
      "\u001b[1;31m---------------------------------------------------------------------------\u001b[0m",
      "\u001b[1;31mNameError\u001b[0m                                 Traceback (most recent call last)",
      "\u001b[1;32m<ipython-input-3-c664f9b2a139>\u001b[0m in \u001b[0;36m<module>\u001b[1;34m()\u001b[0m\n\u001b[1;32m----> 1\u001b[1;33m \u001b[0mvecStart\u001b[0m\u001b[1;33m=\u001b[0m\u001b[0mnp\u001b[0m\u001b[1;33m.\u001b[0m\u001b[0marray\u001b[0m\u001b[1;33m(\u001b[0m\u001b[1;33m[\u001b[0m\u001b[0mPSEquilibrium\u001b[0m\u001b[1;33m,\u001b[0m\u001b[0mPSEquilibrium\u001b[0m\u001b[1;33m,\u001b[0m\u001b[0mNSEquilibrium\u001b[0m\u001b[1;33m,\u001b[0m\u001b[0mNSEquilibrium\u001b[0m\u001b[1;33m,\u001b[0m\u001b[0mPDEquilibrium\u001b[0m\u001b[1;33m,\u001b[0m\u001b[0mNDEquilibrium\u001b[0m\u001b[1;33m,\u001b[0m\u001b[0mPhytoPEquilibrium\u001b[0m\u001b[1;33m,\u001b[0m\u001b[0mPhytoPEquilibrium\u001b[0m\u001b[1;33m,\u001b[0m\u001b[0mNFixerEquilibrium\u001b[0m\u001b[1;33m,\u001b[0m\u001b[1;36m1e-6\u001b[0m\u001b[1;33m,\u001b[0m\u001b[1;36m1e-76\u001b[0m\u001b[1;33m]\u001b[0m\u001b[1;33m)\u001b[0m\u001b[1;33m\u001b[0m\u001b[0m\n\u001b[0m",
      "\u001b[1;31mNameError\u001b[0m: name 'np' is not defined"
     ]
    }
   ],
   "source": [
    "vecStart=np.array([PSEquilibrium,PSEquilibrium,NSEquilibrium,NSEquilibrium,PDEquilibrium,NDEquilibrium,PhytoPEquilibrium,PhytoPEquilibrium,NFixerEquilibrium,1e-6,1e-76])"
   ]
  },
  {
   "cell_type": "code",
   "execution_count": 24,
   "metadata": {
    "collapsed": false
   },
   "outputs": [],
   "source": [
    "vecStart= np.array([  1.24431818e-04,   1.24431818e-04,   2.00000000e-03,\n",
    "         2.00000000e-03,   1.72443182e-03,   2.56000000e-02,\n",
    "         5.11297341e-05,   5.11297341e-05,   4.41579371e-07, 1e-7,1e-7])"
   ]
  },
  {
   "cell_type": "code",
   "execution_count": 6,
   "metadata": {
    "collapsed": false
   },
   "outputs": [
    {
     "data": {
      "text/plain": [
       "5.112973408541499e-05"
      ]
     },
     "execution_count": 6,
     "metadata": {},
     "output_type": "execute_result"
    }
   ],
   "source": [
    "PhytoPEquilibrium"
   ]
  },
  {
   "cell_type": "code",
   "execution_count": 7,
   "metadata": {
    "collapsed": false
   },
   "outputs": [
    {
     "data": {
      "text/plain": [
       "16.0"
      ]
     },
     "execution_count": 7,
     "metadata": {},
     "output_type": "execute_result"
    }
   ],
   "source": [
    "(NFixerEquilibrium*RNFixers+PhytoPEquilibrium*RPhyto)/(NFixerEquilibrium+PhytoPEquilibrium)"
   ]
  },
  {
   "cell_type": "code",
   "execution_count": 8,
   "metadata": {
    "collapsed": false
   },
   "outputs": [
    {
     "data": {
      "text/plain": [
       "0.4285714285714288"
      ]
     },
     "execution_count": 8,
     "metadata": {},
     "output_type": "execute_result"
    }
   ],
   "source": [
    "dPhytoPHigh(.1,.1,.1)"
   ]
  },
  {
   "cell_type": "code",
   "execution_count": 25,
   "metadata": {
    "collapsed": false
   },
   "outputs": [
    {
     "data": {
      "text/plain": [
       "array([  1.16915873e-04,   3.19355816e-04,   3.16970662e-03,\n",
       "         2.42887325e-02,  -1.71275571e-06,   3.57461704e-05,\n",
       "        -4.15414052e-03,  -4.15414052e-03,   1.99673311e-05,\n",
       "         1.04212714e-05,   1.04212714e-05])"
      ]
     },
     "execution_count": 25,
     "metadata": {},
     "output_type": "execute_result"
    }
   ],
   "source": [
    "dState(0,vecStart)\n"
   ]
  },
  {
   "cell_type": "code",
   "execution_count": 167,
   "metadata": {
    "collapsed": false
   },
   "outputs": [],
   "source": [
    "\n",
    "\n",
    "rr = ode(dState).set_integrator('lsoda')\n",
    "rr.set_initial_value(vecStart,0)\n",
    "rr.t\n",
    "t1 = 1000\n",
    "dt = 1e-2\n",
    "while (rr.successful() and rr.t < t1):\n",
    "    rr.integrate(rr.t+dt)\n",
    "    \n",
    "    \n",
    "    \n",
    "    \n",
    "\n",
    "\n",
    "\n"
   ]
  },
  {
   "cell_type": "code",
   "execution_count": 168,
   "metadata": {
    "collapsed": false
   },
   "outputs": [
    {
     "data": {
      "text/plain": [
       "array([  1.60661523e-03,   1.56677838e-03,   2.89786245e-02,\n",
       "         2.62602622e-02,   1.55810310e-03,   2.56754863e-02,\n",
       "        -3.71938287e-09,  -3.05149659e-09,  -1.72987770e-08,\n",
       "        -1.82744099e-08,  -1.82046436e-08])"
      ]
     },
     "execution_count": 168,
     "metadata": {},
     "output_type": "execute_result"
    }
   ],
   "source": [
    "rr.y"
   ]
  },
  {
   "cell_type": "code",
   "execution_count": 161,
   "metadata": {
    "collapsed": false
   },
   "outputs": [
    {
     "name": "stdout",
     "output_type": "stream",
     "text": [
      "-5.00023051702\n",
      "-5.00024652999\n",
      "-5.00169896413\n",
      "8.03734238597\n",
      "7.8234388935\n"
     ]
    }
   ],
   "source": [
    "print rr.y[10]*MDiatomCoefficient-MC\n",
    "print rr.y[9]*MDiatomCoefficient-MC\n",
    "print rr.y[8]*MFixerCoefficient-MC\n",
    "print rr.y[7]*MCoefficient-MC\n",
    "print rr.y[6]*MCoefficient-MC"
   ]
  },
  {
   "cell_type": "code",
   "execution_count": 114,
   "metadata": {
    "collapsed": false
   },
   "outputs": [
    {
     "data": {
      "text/plain": [
       "44.045407971829164"
      ]
     },
     "execution_count": 114,
     "metadata": {},
     "output_type": "execute_result"
    }
   ],
   "source": [
    "rr.y[0]/(rr.y[0]+PH)*muDiatom"
   ]
  },
  {
   "cell_type": "code",
   "execution_count": 165,
   "metadata": {
    "collapsed": false
   },
   "outputs": [
    {
     "data": {
      "text/plain": [
       "213.48076049062263"
      ]
     },
     "execution_count": 165,
     "metadata": {},
     "output_type": "execute_result"
    }
   ],
   "source": [
    "rr.y[5]/rr.y[4]\n"
   ]
  },
  {
   "cell_type": "code",
   "execution_count": 124,
   "metadata": {
    "collapsed": false
   },
   "outputs": [
    {
     "data": {
      "text/plain": [
       "0.0015728544000000002"
      ]
     },
     "execution_count": 124,
     "metadata": {},
     "output_type": "execute_result"
    }
   ],
   "source": [
    "M*DR*SD/K*(PhytoAlt/RPhyto+NFixerAlt/RPhyto)"
   ]
  },
  {
   "cell_type": "code",
   "execution_count": 130,
   "metadata": {
    "collapsed": false
   },
   "outputs": [
    {
     "data": {
      "text/plain": [
       "-4.648219178082185e-08"
      ]
     },
     "execution_count": 130,
     "metadata": {},
     "output_type": "execute_result"
    }
   ],
   "source": [
    "PhytoAlt/RPhyto+NFixerAlt/RPhyto-(RP/(M*SD*SF))"
   ]
  },
  {
   "cell_type": "code",
   "execution_count": 132,
   "metadata": {
    "collapsed": false
   },
   "outputs": [
    {
     "data": {
      "text/plain": [
       "2.7397260273972604e-06"
      ]
     },
     "execution_count": 132,
     "metadata": {},
     "output_type": "execute_result"
    }
   ],
   "source": [
    "RP/(M*SD*SF)"
   ]
  },
  {
   "cell_type": "code",
   "execution_count": 133,
   "metadata": {
    "collapsed": false
   },
   "outputs": [
    {
     "data": {
      "text/plain": [
       "0.0"
      ]
     },
     "execution_count": 133,
     "metadata": {},
     "output_type": "execute_result"
    }
   ],
   "source": [
    "PhytoAlt+NFixerAlt-((1/(M*SD))*(RP*RPhyto*(1-SF-DN)/SF+RN+AN)+(1/(M*SD))*(RP*RPhyto*(SF+DN)-RN-AN))"
   ]
  },
  {
   "cell_type": "code",
   "execution_count": 138,
   "metadata": {
    "collapsed": false
   },
   "outputs": [
    {
     "data": {
      "text/plain": [
       "3.063013698630137e-06"
      ]
     },
     "execution_count": 138,
     "metadata": {},
     "output_type": "execute_result"
    }
   ],
   "source": [
    "1.0/(M*SD)*(RN+AN+RP*(1-SF-DN)/SF)/(SF+DN+RNFixers/RPhyto*(1-SF-DN))"
   ]
  },
  {
   "cell_type": "code",
   "execution_count": 139,
   "metadata": {
    "collapsed": false
   },
   "outputs": [
    {
     "data": {
      "text/plain": [
       "4.346027397260274e-05"
      ]
     },
     "execution_count": 139,
     "metadata": {},
     "output_type": "execute_result"
    }
   ],
   "source": [
    "PhytoAlt"
   ]
  },
  {
   "cell_type": "code",
   "execution_count": 141,
   "metadata": {
    "collapsed": false
   },
   "outputs": [
    {
     "data": {
      "text/plain": [
       "1.0"
      ]
     },
     "execution_count": 141,
     "metadata": {},
     "output_type": "execute_result"
    }
   ],
   "source": [
    "(SF+DN+RNFixers/RPhyto*(1-SF-DN))"
   ]
  },
  {
   "cell_type": "code",
   "execution_count": 149,
   "metadata": {
    "collapsed": false
   },
   "outputs": [
    {
     "data": {
      "text/plain": [
       "4.346027397260274e-05"
      ]
     },
     "execution_count": 149,
     "metadata": {},
     "output_type": "execute_result"
    }
   ],
   "source": [
    "1.0/(M*SD)*(RN+AN+RP*RPhyto*(1-SF-DN)/SF)"
   ]
  },
  {
   "cell_type": "code",
   "execution_count": 144,
   "metadata": {
    "collapsed": false
   },
   "outputs": [
    {
     "data": {
      "text/plain": [
       "4.346027397260274e-05"
      ]
     },
     "execution_count": 144,
     "metadata": {},
     "output_type": "execute_result"
    }
   ],
   "source": [
    "(1/(M*SD))*(RP*RPhyto*(1-SF-DN)/SF+RN+AN)"
   ]
  },
  {
   "cell_type": "code",
   "execution_count": 147,
   "metadata": {
    "collapsed": false
   },
   "outputs": [
    {
     "data": {
      "text/plain": [
       "0.1118"
      ]
     },
     "execution_count": 147,
     "metadata": {},
     "output_type": "execute_result"
    }
   ],
   "source": [
    "(RN+AN+RP*(1-SF-DN)/SF)"
   ]
  },
  {
   "cell_type": "code",
   "execution_count": 148,
   "metadata": {
    "collapsed": false
   },
   "outputs": [
    {
     "data": {
      "text/plain": [
       "1.5863"
      ]
     },
     "execution_count": 148,
     "metadata": {},
     "output_type": "execute_result"
    }
   ],
   "source": [
    "(RP*RPhyto*(1-SF-DN)/SF+RN+AN)"
   ]
  },
  {
   "cell_type": "code",
   "execution_count": null,
   "metadata": {
    "collapsed": true
   },
   "outputs": [],
   "source": []
  }
 ],
 "metadata": {
  "kernelspec": {
   "display_name": "Python 2",
   "language": "python",
   "name": "python2"
  },
  "language_info": {
   "codemirror_mode": {
    "name": "ipython",
    "version": 2
   },
   "file_extension": ".py",
   "mimetype": "text/x-python",
   "name": "python",
   "nbconvert_exporter": "python",
   "pygments_lexer": "ipython2",
   "version": "2.7.8"
  }
 },
 "nbformat": 4,
 "nbformat_minor": 0
}
