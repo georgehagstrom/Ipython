{
 "cells": [
  {
   "cell_type": "code",
   "execution_count": 80,
   "metadata": {
    "collapsed": false,
    "scrolled": true
   },
   "outputs": [
    {
     "name": "stdout",
     "output_type": "stream",
     "text": [
      "Populating the interactive namespace from numpy and matplotlib\n"
     ]
    },
    {
     "name": "stderr",
     "output_type": "stream",
     "text": [
      "WARNING: pylab import has clobbered these variables: ['linalg', 'random', 'power', 'info', 'fft']\n",
      "`%matplotlib` prevents importing * from pylab and numpy\n"
     ]
    }
   ],
   "source": [
    "\n",
    "from scipy.integrate import ode\n",
    "\n",
    "%pylab inline\n",
    "\n",
    "import numpy as np\n",
    "from scipy import optimize\n",
    "\n",
    "import matplotlib.pyplot as plt\n",
    "matplotlib.use(\"Agg\")\n",
    "import scipy.io as sio\n",
    "import scipy.signal\n",
    "from pylab import *\n",
    "\n",
    "asin=np.arcsin\n",
    "sqrt=np.sqrt\n",
    "sin=np.sin\n",
    "cos=np.cos\n",
    "pi=np.pi\n",
    "exp=np.exp\n",
    "tan=np.tan\n",
    "I=1j\n",
    "inf=np.inf\n",
    "\n",
    "hilbert=scipy.signal.hilbert\n"
   ]
  },
  {
   "cell_type": "code",
   "execution_count": 173,
   "metadata": {
    "collapsed": false
   },
   "outputs": [],
   "source": [
    "\n",
    "\n",
    "aL = .2\n",
    "aH = .8\n",
    "LL = 500.0\n",
    "LD = 500.0\n",
    "LH = 3230.0\n",
    "\n",
    "\n",
    "SR = .95 # Fraction of TPP regenerated above 500m\n",
    "SF = .002 # Fraction of TPP permanently incorporated into sediments\n",
    "DR = .048 # Fraction of TPP regenerated below 500m\n",
    "\n",
    "RP = 2.0e-4 # River input of dissolved P in mol P/m^2/year\n",
    "RN = 6.0e-3 # River input of dissolved N in mol N/m^2/year\n",
    "AN = 7.5e-3 # Atmospheric input of N in molN/m^2/year\n",
    "\n",
    "m = 73.0\n",
    "\n",
    "mH = 73.0\n",
    "DN = .015*.75\n",
    "DNT = .015\n",
    "DND = DNT-DN\n",
    "KL = .10\n",
    "KH = 10.0\n",
    "KFeD = 3.5e-7\n",
    "FeD = 1e-8\n",
    "FeAN = 5e-4\n",
    "rFe=1/(6.25e-5)\n",
    "\n",
    "\n",
    "KPO = 3.0e-5\n",
    "KNO = 5.0e-4\n",
    "rL = 25.0\n",
    "rD = 25.0\n",
    "KPF = 3.0e-5\n",
    "\n",
    "KPD = 3.0e-5\n",
    "KND = 5.0e-4\n",
    "\n",
    "muD = 200.0\n",
    "muF = 79.0\n",
    "muO = 93.0\n",
    "\n",
    "SRH = .5\n",
    "SFH = .002\n",
    "DRH = .498\n",
    "\n",
    "\n",
    "\n",
    "\n",
    "\n",
    "NL = m*KNO/(muO-m)\n",
    "\n",
    "PL = m*KPF/(muF-m)\n",
    "\n",
    "FeH = mH*KFeD/(muD-mH)\n",
    "\n",
    "D = rFe/(mH*(1-SR))*(KH/LH*(FeD-FeH)+FeAN/LH)\n",
    "\n",
    "O = mH*aH*LH/(m*aL*LL)*D*((rL/rD-1)*(DNT+SF)-rL/rD)+1/m*(1-SF-DNT)/SF*rL*RP/(aL*LL)\n",
    "\n",
    "F = (-rL/rD+1)*(1+DNT/SF)*aH*LH/(aL*LL)*D*mH/m+1.0/(m*aL*LL)*(1+DNT/SF)*rL*RP\n",
    "\n",
    "ND = NL+LL/KL*( (m*(1-SR+DN)*O+m*(DN-SR)*F))\n",
    "\n",
    "PD = PL-RP/KL+LL/KL*((1-SR)*m*(O/rL+F/rL))\n",
    "\n",
    "\n",
    "NH = ND-(1-SR-DN)*D*LH/KH*mH\n",
    "\n",
    "PH = PD-mH*(1-SR)*D/rD*LH/KH+RP/KH\n",
    "\n",
    "\n",
    "\n",
    "\n",
    "\n",
    "\n",
    "\n"
   ]
  },
  {
   "cell_type": "code",
   "execution_count": 174,
   "metadata": {
    "collapsed": false
   },
   "outputs": [],
   "source": [
    "def dD(FeH,PH,NH,D):\n",
    "    return D*(muD*min([FeH/(KFeD+FeH),PH/(KPD+PH),NH/(KND+NH)]) - mH)\n",
    "\n",
    "def dF(PL,F):\n",
    "    return F*(PL/(KPF+PL)*muF-m)\n",
    "\n",
    "def dO(PL,NL,O):\n",
    "    return O*(min([NL/(KNO+NL),PL/(KPO+PL)])*muO-m)\n",
    "\n",
    "def dFeH(FeH,PH,NH,D):\n",
    "    return -D*(muD*min([FeH/(KFeD+FeH),PH/(KPD+PH),NH/(KND+NH)]) - SR*mH)/rFe+KH/LH*(FeD-FeH)+FeAN/LH\n",
    "\n",
    "def dPH(FeH,PH,NH,D,PD):\n",
    "    return -D*(muD*min([FeH/(KFeD+FeH),PH/(KPD+PH),NH/(KND+NH)]) - SR*mH)/rD+KH/LH*(PD-PH)+RP/LH\n",
    "\n",
    "def dNH(FeH,PH,NH,D,ND):\n",
    "    return -D*(muD*min([FeH/(KFeD+FeH),PH/(KPD+PH),NH/(KND+NH)]) - (SR+DN)*mH)+KH/LH*(ND-NH)\n",
    "\n",
    "\n",
    "def dPL(PL,NL,O,F,PD):\n",
    "    return -F*(PL/(KPF+PL)*muF-SR*m)/rL-O*(min([NL/(KNO+NL),PL/(KPO+PL)])*muO-SR*m)/rL+KL/LL*(PD-PL)+RP/LL\n",
    "\n",
    "def dNL(PL,NL,O,F,ND):\n",
    "    return F*(SR-DN)*m-O*(min([NL/(KNO+NL),PL/(KPO+PL)])*muO-(SR-DN)*m)+KL/LL*(ND-NL)\n",
    "\n",
    "def dND(NH,NL,D,O,F,ND):\n",
    "    return aL*KL/LD*(NL-ND)+aH*KH/LD*(NH-ND)+m*(DR-DND)*(O+F)*LL*aL/LD+mH*(DR-DND)*D*LH*aH/LD\n",
    "\n",
    "def dPD(PH,PL,D,O,F,PD):\n",
    "    return aL*KL/LD*(PL-PD)+aH*KH/LD*(PH-PD)+m*DR*(O+F)/rL*LL*aL/LD+mH*(DR)*D*LH*aH/LD/rD\n",
    "\n",
    "\n",
    "\n",
    "def dState(t,State):\n",
    "    O=State[0]\n",
    "    F=State[1]\n",
    "    D=State[2]\n",
    "    PL=State[3]\n",
    "    NL=State[4]\n",
    "    PH=State[5]\n",
    "    NH=State[6]\n",
    "    FeH=State[7]\n",
    "    PD=State[8]\n",
    "    ND=State[9]\n",
    "    dStateVec=np.zeros(10)\n",
    "    dStateVec[0]=dO(PL,NL,O)\n",
    "    dStateVec[1]=dF(PL,F)\n",
    "    dStateVec[2]=dD(FeH,PH,NH,D)\n",
    "    dStateVec[3]=dPL(PL,NL,O,F,PD)\n",
    "    dStateVec[4]=dNL(PL,NL,O,F,ND)\n",
    "    dStateVec[5]=dPH(FeH,PH,NH,D,PD)\n",
    "    dStateVec[6]=dNH(FeH,PH,NH,D,ND)\n",
    "    dStateVec[7]=dFeH(FeH,PH,NH,D)\n",
    "    dStateVec[8]=dPD(PH,PL,D,O,F,PD)\n",
    "    dStateVec[9]=dND(NH,NL,D,O,F,ND)\n",
    "    return dStateVec\n",
    "    \n"
   ]
  },
  {
   "cell_type": "code",
   "execution_count": 175,
   "metadata": {
    "collapsed": false,
    "scrolled": true
   },
   "outputs": [
    {
     "name": "stdout",
     "output_type": "stream",
     "text": [
      "30.7908125322\n",
      "25.0\n",
      "-0.0171305584079 5.82191780822e-06 0.000675975319023\n"
     ]
    }
   ],
   "source": [
    "print ND/PD\n",
    "print ((O+F)*rL*aL*LL+D*rD*aH*LH)/((O+F)*aL*LL+D*aH*LH)\n",
    "print O, F, D\n"
   ]
  },
  {
   "cell_type": "code",
   "execution_count": 168,
   "metadata": {
    "collapsed": false
   },
   "outputs": [
    {
     "data": {
      "text/plain": [
       "array([  2.28345702e-04,   5.82191781e-06,   4.19110426e-06,\n",
       "         3.65000000e-04,   1.82500000e-03,   1.69129718e-01,\n",
       "         3.10810549e+00,   2.01181102e-07,   1.69307362e-01,\n",
       "         3.11193484e+00])"
      ]
     },
     "execution_count": 168,
     "metadata": {},
     "output_type": "execute_result"
    }
   ],
   "source": [
    "EqState=np.array([O, F, D, PL, NL, PH, NH, FeH, PD, ND])\n",
    "EqState"
   ]
  },
  {
   "cell_type": "code",
   "execution_count": 169,
   "metadata": {
    "collapsed": false
   },
   "outputs": [
    {
     "data": {
      "text/plain": [
       "4.191104255655219e-06"
      ]
     },
     "execution_count": 169,
     "metadata": {},
     "output_type": "execute_result"
    }
   ],
   "source": [
    "D"
   ]
  },
  {
   "cell_type": "code",
   "execution_count": 170,
   "metadata": {
    "collapsed": false
   },
   "outputs": [],
   "source": [
    "\n",
    "\n",
    "rr = ode(dState).set_integrator('lsoda')\n",
    "rr.set_initial_value(EqState,0)\n",
    "rr.t\n",
    "t1 = 1000\n",
    "\n",
    "dt = 1e-3\n",
    "while (rr.successful() and rr.t < t1):\n",
    "    rr.integrate(rr.t+dt)\n",
    "    \n",
    "    \n",
    "    \n",
    "    \n",
    "    \n"
   ]
  },
  {
   "cell_type": "code",
   "execution_count": 171,
   "metadata": {
    "collapsed": false
   },
   "outputs": [
    {
     "data": {
      "text/plain": [
       "array([  2.28371576e-04,   5.80235302e-06,   4.19110426e-06,\n",
       "         3.65000959e-04,   1.82500096e-03,   1.69129718e-01,\n",
       "         3.11354547e+00,   2.01181102e-07,   1.69307362e-01,\n",
       "         3.11922318e+00])"
      ]
     },
     "execution_count": 171,
     "metadata": {},
     "output_type": "execute_result"
    }
   ],
   "source": [
    "rr.y"
   ]
  },
  {
   "cell_type": "code",
   "execution_count": 409,
   "metadata": {
    "collapsed": false
   },
   "outputs": [
    {
     "data": {
      "text/plain": [
       "155.02454839939878"
      ]
     },
     "execution_count": 409,
     "metadata": {},
     "output_type": "execute_result"
    }
   ],
   "source": [
    "rr.y[9]/rr.y[8]"
   ]
  },
  {
   "cell_type": "code",
   "execution_count": 470,
   "metadata": {
    "collapsed": false
   },
   "outputs": [
    {
     "data": {
      "text/plain": [
       "9.325411225316665e-06"
      ]
     },
     "execution_count": 470,
     "metadata": {},
     "output_type": "execute_result"
    }
   ],
   "source": [
    "rr.y[7]"
   ]
  },
  {
   "cell_type": "code",
   "execution_count": 23,
   "metadata": {
    "collapsed": false
   },
   "outputs": [
    {
     "data": {
      "text/plain": [
       "1.2937595129375953e-06"
      ]
     },
     "execution_count": 23,
     "metadata": {},
     "output_type": "execute_result"
    }
   ],
   "source": [
    "F\n"
   ]
  },
  {
   "cell_type": "code",
   "execution_count": 512,
   "metadata": {
    "collapsed": false
   },
   "outputs": [
    {
     "data": {
      "text/plain": [
       "-2.3413356117565685e-10"
      ]
     },
     "execution_count": 512,
     "metadata": {},
     "output_type": "execute_result"
    }
   ],
   "source": [
    "State=rr.y\n",
    "O=State[0]\n",
    "F=State[1]\n",
    "D=State[2]\n",
    "PL=State[3]\n",
    "NL=State[4]\n",
    "PH=State[5]\n",
    "NH=State[6]\n",
    "FeH=State[7]\n",
    "PD=State[8]\n",
    "ND=State[9]\n",
    "\n",
    "\n",
    "\n",
    "dO(PL,NL,O)\n"
   ]
  },
  {
   "cell_type": "code",
   "execution_count": 517,
   "metadata": {
    "collapsed": false
   },
   "outputs": [
    {
     "data": {
      "text/plain": [
       "0.0005"
      ]
     },
     "execution_count": 517,
     "metadata": {},
     "output_type": "execute_result"
    }
   ],
   "source": [
    "KNO"
   ]
  },
  {
   "cell_type": "code",
   "execution_count": 448,
   "metadata": {
    "collapsed": false
   },
   "outputs": [
    {
     "data": {
      "text/plain": [
       "100.0"
      ]
     },
     "execution_count": 448,
     "metadata": {},
     "output_type": "execute_result"
    }
   ],
   "source": [
    "FeH/(KFeD+FeH)*muD"
   ]
  },
  {
   "cell_type": "code",
   "execution_count": 9,
   "metadata": {
    "collapsed": false
   },
   "outputs": [
    {
     "data": {
      "text/plain": [
       "array([  1.00000000e-06,   1.00000000e-08,   1.00000000e-06,\n",
       "         1.00000000e-02,   1.00000000e-03,   1.00000000e-02,\n",
       "         1.00000000e-02,   1.00000000e-04,   1.00000000e-02,\n",
       "         1.00000000e-02])"
      ]
     },
     "execution_count": 9,
     "metadata": {},
     "output_type": "execute_result"
    }
   ],
   "source": [
    "EqState"
   ]
  },
  {
   "cell_type": "code",
   "execution_count": 440,
   "metadata": {
    "collapsed": false
   },
   "outputs": [
    {
     "data": {
      "text/plain": [
       "0.00010950005135903262"
      ]
     },
     "execution_count": 440,
     "metadata": {},
     "output_type": "execute_result"
    }
   ],
   "source": [
    "PL"
   ]
  },
  {
   "cell_type": "code",
   "execution_count": 443,
   "metadata": {
    "collapsed": false
   },
   "outputs": [
    {
     "data": {
      "text/plain": [
       "65.935490521689829"
      ]
     },
     "execution_count": 443,
     "metadata": {},
     "output_type": "execute_result"
    }
   ],
   "source": []
  },
  {
   "cell_type": "code",
   "execution_count": 428,
   "metadata": {
    "collapsed": false
   },
   "outputs": [
    {
     "data": {
      "text/plain": [
       "0.3558014418936849"
      ]
     },
     "execution_count": 428,
     "metadata": {},
     "output_type": "execute_result"
    }
   ],
   "source": [
    "NH"
   ]
  },
  {
   "cell_type": "code",
   "execution_count": 461,
   "metadata": {
    "collapsed": false
   },
   "outputs": [
    {
     "data": {
      "text/plain": [
       "22.864170421497352"
      ]
     },
     "execution_count": 461,
     "metadata": {},
     "output_type": "execute_result"
    }
   ],
   "source": [
    "ND/PD"
   ]
  },
  {
   "cell_type": "code",
   "execution_count": 430,
   "metadata": {
    "collapsed": false
   },
   "outputs": [
    {
     "data": {
      "text/plain": [
       "0.003"
      ]
     },
     "execution_count": 430,
     "metadata": {},
     "output_type": "execute_result"
    }
   ],
   "source": [
    "KPD"
   ]
  },
  {
   "cell_type": "code",
   "execution_count": null,
   "metadata": {
    "collapsed": true
   },
   "outputs": [],
   "source": []
  }
 ],
 "metadata": {
  "kernelspec": {
   "display_name": "Python 2",
   "language": "python",
   "name": "python2"
  },
  "language_info": {
   "codemirror_mode": {
    "name": "ipython",
    "version": 2
   },
   "file_extension": ".py",
   "mimetype": "text/x-python",
   "name": "python",
   "nbconvert_exporter": "python",
   "pygments_lexer": "ipython2",
   "version": "2.7.8"
  }
 },
 "nbformat": 4,
 "nbformat_minor": 0
}
