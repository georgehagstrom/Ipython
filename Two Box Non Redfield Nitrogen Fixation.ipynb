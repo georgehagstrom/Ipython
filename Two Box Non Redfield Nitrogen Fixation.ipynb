{
 "cells": [
  {
   "cell_type": "markdown",
   "metadata": {},
   "source": [
    "###  Two Box Variable Stoichiometry and Nitrogen Fixation\n",
    "--- \n",
    "\n",
    "In this notebook I will write simulations to explore the role of deviations from Redfield on the nutrient stoichiometry of the ocean and the biota. The starting point will be Toby Tirrel's two box ocean model which predicts that nitrogen fixers cause the ocean to converge to the Redfield ratio. We will initially study the implications of allowing different N:P ratios in Nitrogen Fixers and phytoplankton, and then we will explore increasing the number of boxes.\n"
   ]
  },
  {
   "cell_type": "code",
   "execution_count": 1,
   "metadata": {
    "collapsed": false
   },
   "outputs": [
    {
     "name": "stdout",
     "output_type": "stream",
     "text": [
      "Populating the interactive namespace from numpy and matplotlib\n"
     ]
    },
    {
     "name": "stderr",
     "output_type": "stream",
     "text": [
      "/usr/lib/pymodules/python2.7/matplotlib/__init__.py:1173: UserWarning:  This call to matplotlib.use() has no effect\n",
      "because the backend has already been chosen;\n",
      "matplotlib.use() must be called *before* pylab, matplotlib.pyplot,\n",
      "or matplotlib.backends is imported for the first time.\n",
      "\n",
      "  warnings.warn(_use_error_msg)\n"
     ]
    }
   ],
   "source": [
    "\n",
    "from scipy.integrate import ode\n",
    "\n",
    "%pylab inline\n",
    "\n",
    "import numpy as np\n",
    "from scipy import optimize\n",
    "\n",
    "import matplotlib.pyplot as plt\n",
    "matplotlib.use(\"Agg\")\n",
    "import scipy.io as sio\n",
    "import scipy.signal\n",
    "from pylab import *\n",
    "\n",
    "asin=np.arcsin\n",
    "sqrt=np.sqrt\n",
    "sin=np.sin\n",
    "cos=np.cos\n",
    "pi=np.pi\n",
    "exp=np.exp\n",
    "tan=np.tan\n",
    "I=1j\n",
    "inf=np.inf\n",
    "\n",
    "hilbert=scipy.signal.hilbert\n"
   ]
  },
  {
   "cell_type": "code",
   "execution_count": 2,
   "metadata": {
    "collapsed": false
   },
   "outputs": [],
   "source": [
    "### Here are important constants\n",
    "\n",
    "# Relative sizes of the high and low lattitude boxes\n",
    "\n",
    "HLSize = .15\n",
    "LLSize = .85\n",
    "\n",
    "SD = 500.0*LLSize   # Surface layer depth in meters\n",
    "DD = 3230.0  # Deep layer depth in meters\n",
    "\n",
    "HD = 500*HLSize\n",
    "\n",
    "\n",
    "K = 3.0 # Mixing coefficient in meters/year\n",
    "KH = 10.0 # Mixing coefficient between high and deep boxes\n",
    "\n",
    "SR = .95 # Fraction of TPP regenerated above 500m\n",
    "SF = .002 # Fraction of TPP permanently incorporated into sediments\n",
    "DR = .048 # Fraction of TPP regenerated below 500m\n",
    "DN = .015 # Fraction of TPP of N that is regenerated via denitrification to N2\n",
    "RP = 2.0e-4 # River input of dissolved P in mol P/m^2/year\n",
    "RN = 6.0e-3 # River input of dissolved N in mol N/m^2/year\n",
    "AN = 7.5e-3 # Atmospheric input of N in molN/m^2/year\n",
    "RPhyto = 25.0 # N:P ratio in organic matter from phytoplankton\n",
    "RPHigh = 10.0 # N:P ratio in high lattitude phytoplankton\n",
    "\n",
    "RNFixers = 50.0 # N:P ratio in Nitrogen Fixers\n",
    "muHL = 300.0 # Growth rate of high lattitude phytoplankton\n",
    "muNF = 90.6 # Maximum growth rate of nitrogen fixing bacteria in units of 1/year\n",
    "muPhyto = 91.25 # Maximum growth rate of phytoplankton in units of 1/year\n",
    "PH = 3.0e-5 # Half saturation constant for Phosphate in mol P /m^3\n",
    "NH = 5.0e-4   # Half saturation constant for Nitrate in mol N /m^3\n",
    "\n",
    "PHHigh = 3.0e-4\n",
    "NHHigh = 5.0e-3\n",
    "\n",
    "M = 73.0    # Mortality in 1/year\n",
    "MH = 110.0  # Hihgh Lattitude Mortality\n",
    "\n",
    "### Next are the functions that define the right hand side of the system of equations\n",
    "\n",
    "# We first define the dynamical variables:\n",
    "\n",
    "# NFixer stands for the population of nitrogen fixers\n",
    "# PhytoP stands to phytoplankton\n",
    "# PS stands for the surface phosphate\n",
    "# NS stands for surface nitrate\n",
    "# ND stands for deep nitrate\n",
    "# PD stands for deep phosphate\n",
    "\n",
    "\n",
    "###\n",
    "\n",
    "def dNFixer(NFixer,PS):\n",
    "    return muNF*PS/(PS+PH)*NFixer - M*NFixer\n",
    "\n",
    "def dPhytoP(PhytoP,PS,NS):\n",
    "    return muPhyto*min([PS/(PS+PH),NS/(NS+NH)])*PhytoP - M*PhytoP\n",
    "\n",
    "def dPS(PS,NS,PD,ND,PhytoP,NFixer):\n",
    "    return -muNF*PS/(PS+PH)*NFixer/RNFixers+M*(SR)*NFixer/RNFixers+M*(SR)*PhytoP/RPhyto-muPhyto*min([PS/(PS+PH),NS/(NS+NH)])*PhytoP/RPhyto+K*(PD-PS)/SD/LLSize+RP*LLSize/SD  \n",
    "\n",
    "def dPSH(PSH,NSH,PD,ND,PhytoPH):\n",
    "    return MH*SR*PhytoPH/RPHigh-muHL*min([PSH/(PSH+PHHigh),NSH/(NSH+NHHigh)])*PhytoPH/RPHigh+KH*(PD-PSH)/HD*HLSize+RP*HLSize/HD  \n",
    "\n",
    "\n",
    "\n",
    "def dNS(PS,NS,PD,ND,PhytoP,NFixer):\n",
    "    return -muPhyto*min([PS/(PS+PH),NS/(NS+NH)])*PhytoP + M*(SR-0.75*DN)*NFixer + M*(SR-0.75*DN)*PhytoP +K*(ND-NS)/SD*LLSize+(RN+AN)*LLSize/SD\n",
    "\n",
    "def dNSH(PSH,NSH,PD,ND,PhytoPH):\n",
    "    return -muHL*min([PSH/(PSH+PHHigh),NSH/(NSH+NHHigh)])*PhytoPH+MH*(SR-0.75*DN)*PhytoPH+KH*(ND-NSH)/HD*HLSize+(RN+AN)*HLSize/HD                                   \n",
    "    \n",
    "\n",
    "def dPD(PS,PSH,NS,NSH,PD,ND,PhytoP,PhytoPH,NFixer):\n",
    "    return M*DR*NFixer/RNFixers*SD/DD+M*DR*PhytoP/RPhyto*SD/DD+MH*DR*PhytoPH/RPHigh*HD/DD - K*LLSize*(PD-PS)/DD- KH*HLSize*(PD-PSH)/DD  \n",
    "\n",
    "def dND(PS,PSH,NS,NSH,PD,ND,PhytoP,PhytoPH,NFixer):\n",
    "    return M*(DR-0.25*DN)*NFixer*SD/DD+M*(DR-0.25*DN)*PhytoP*SD/DD-K*LLSize*(ND-NS)/DD-KH*HLSize*(ND-NSH)/DD+MH*(DR-0.25*DN)*PhytoPH*HD/DD\n",
    "\n",
    "\n",
    "def dPhytoPHigh(PhytoPH,PSH,NSH):\n",
    "    \n",
    "    return muHL*min([PSH/(PSH+PHHigh),NSH/(NSH+NHHigh)])*PhytoPH - MH*PhytoPH\n",
    "\n",
    "\n",
    "\n",
    "def dState(t,state):\n",
    "    PS=state[0]\n",
    "    PSH=state[1]\n",
    "    NS=state[2]\n",
    "    NSH=state[3]\n",
    "    PD=state[4]\n",
    "    ND=state[5]\n",
    "    PhytoP=state[6]\n",
    "    PhytoPH = state[7]\n",
    "    NFixer=state[8]\n",
    "    if PhytoP<0:\n",
    "        PhytoP=0\n",
    "    if NFixer <0 :\n",
    "        NFixer=0\n",
    "    if PhytoPH<0:\n",
    "        PhytoPH=0\n",
    "    \n",
    "    dS = np.zeros(9)\n",
    "    dS[0] = dPS(PS,NS,PD,ND,PhytoP,NFixer)\n",
    "    dS[1] = dPSH(PSH,NSH,PD,ND,PhytoPH)\n",
    "    dS[2] = dNS(PS,NS,PD,ND,PhytoP,NFixer)\n",
    "    dS[3] = dNSH(PSH,NSH,PD,ND,PhytoPH)\n",
    "    dS[4] = dPD(PS,PSH,NS,NSH,PD,ND,PhytoP,PhytoPH,NFixer)\n",
    "    dS[5] = dND(PS,PSH,NS,NSH,PD,ND,PhytoP,PhytoPH,NFixer)\n",
    "    dS[6] = dPhytoP(PhytoP,PS,NS)\n",
    "    dS[7] = dPhytoPHigh(PhytoPH,PSH,NSH)\n",
    "    dS[8] = dNFixer(NFixer,PS)\n",
    "    return dS\n",
    "\n",
    "###\n",
    "\n",
    "\n",
    "\n",
    "\n",
    "\n",
    "\n",
    "\n",
    "\n"
   ]
  },
  {
   "cell_type": "code",
   "execution_count": 3,
   "metadata": {
    "collapsed": false
   },
   "outputs": [],
   "source": [
    "### In this box we will define functions that determine the equilibrium state of the system\n",
    "# This will be under the assumption that N is limiting in the high lattitude box\n",
    "\n",
    "PSEquilibrium = M*PH/(muNF-M)\n",
    "NSEquilibrium = M*NH/(muPhyto-M)\n",
    "NHEquilibrium = M*NHHigh/(muHL-MH)\n",
    "\n",
    "# Next we solve for PhytoPEquilibrium, NFixerEquilibrium, and PhytoPHighEquilibrium as functions of the \n",
    "# True PD and ND values\n",
    "\n",
    "def PhytoPEq(PD,ND):\n",
    "    \n",
    "\n",
    "\n",
    "\n",
    "\n",
    "\n",
    "PhytoPEquilibrium = 1.0/(M*SD)*(RN+AN+RP*RNFixers*(1-SF-DN)/SF)/(SF+DN+RNFixers/RPhyto*(1-SF-DN))\n",
    "NFixerEquilibrium = 1.0/(M*SD)*(RN+AN-RPhyto*RP*(SF+DN)/SF)/(DN+SF-1-RPhyto/RNFixers*(SF+DN))\n",
    "\n",
    "PDEquilibrium = PSEquilibrium+M*DR*SD/K*(NFixerEquilibrium/RNFixers+PhytoPEquilibrium/RPhyto)\n",
    "NDEquilibrium = NSEquilibrium+M*(DR-0.25*DN)*SD/K*(NFixerEquilibrium+PhytoPEquilibrium)\n",
    "\n",
    "RS = NSEquilibrium/PSEquilibrium\n",
    "RD = NDEquilibrium/PDEquilibrium\n",
    "\n"
   ]
  },
  {
   "cell_type": "code",
   "execution_count": 4,
   "metadata": {
    "collapsed": false
   },
   "outputs": [],
   "source": [
    "vecStart=np.array([2.0e-3,2.0e-3,3.2e-2,3.2e-2,2.0e-3,3.2e-2,1e-6,1e-6,1e-8])"
   ]
  },
  {
   "cell_type": "code",
   "execution_count": 41,
   "metadata": {
    "collapsed": false
   },
   "outputs": [],
   "source": [
    "\n",
    "\n",
    "rr = ode(dState).set_integrator('lsoda')\n",
    "rr.set_initial_value(vecStart,0)\n",
    "rr.t\n",
    "t1 = 10000\n",
    "dt = 2e-3\n",
    "while (rr.successful() and rr.t < t1):\n",
    "    rr.integrate(rr.t+dt)\n",
    "    state = rr.y\n",
    "    PS=state[0]\n",
    "    PSH=state[1]\n",
    "    NS=state[2]\n",
    "    NSH=state[3]\n",
    "    PD=state[4]\n",
    "    ND=state[5]\n",
    "    PhytoP=state[6]\n",
    "    PhytoPH = state[7]\n",
    "    NFixer=state[8]\n",
    "    \n",
    "    dS = np.zeros(9)\n",
    "    if rr.y[7] <1e-15:\n",
    "        print 'HERE'\n",
    "        rr.y[7] = 0\n",
    "        \n",
    "    if PhytoP < 1e-15:\n",
    "        rr.y[6]=0\n",
    "    if NFixer < 1e-15:\n",
    "        rr.y[8] = 1e-15\n",
    "        rr.set_initial_value(rr.y)\n",
    "    \n",
    "    dS[0] = dPS(PS,NS,PD,ND,PhytoP,NFixer)\n",
    "    dS[1] = dPSH(PSH,NSH,PD,ND,PhytoPH)\n",
    "    dS[2] = dNS(PS,NS,PD,ND,PhytoP,NFixer)\n",
    "    dS[3] = dNSH(PSH,NSH,PD,ND,PhytoPH)\n",
    "    dS[4] = dPD(PS,PSH,NS,NSH,PD,ND,PhytoP,PhytoPH,NFixer)\n",
    "    dS[5] = dND(PS,PSH,NS,NSH,PD,ND,PhytoP,PhytoPH,NFixer)\n",
    "    dS[6] = dPhytoP(PhytoP,PS,NS)\n",
    "    dS[7] = dPhytoPHigh(PhytoPH,PSH,NSH)\n",
    "    dS[8] = dNFixer(NFixer,PS)\n",
    "    M*(DR-0.25*DN)*NFixer*SD/DD+M*(DR-0.25*DN)*PhytoP*SD/DD-K*(ND-NS)/DD-KH*(ND-NSH)/DD+MH*(DR-0.25*DN)*PhytoPH*HD/DD\n",
    "    #if NFixer<1e-14:\n",
    "        #print PS, NFixer, dS[8], rr.t\n",
    "    \n",
    "    \n",
    "    \n",
    "    \n",
    "    \n",
    "\n",
    "\n",
    "\n"
   ]
  },
  {
   "cell_type": "code",
   "execution_count": 22,
   "metadata": {
    "collapsed": false
   },
   "outputs": [
    {
     "data": {
      "text/plain": [
       "array([ -6.79627565e-08,   1.67764893e-11,  -3.90578240e-04,\n",
       "         1.17114572e-05,   8.20144735e-07,   2.09403521e-05,\n",
       "         8.10557622e-07,   2.97290137e-08,  -1.32913514e-08])"
      ]
     },
     "execution_count": 22,
     "metadata": {},
     "output_type": "execute_result"
    }
   ],
   "source": [
    "dState(0,rr.y)"
   ]
  },
  {
   "cell_type": "code",
   "execution_count": 39,
   "metadata": {
    "collapsed": false
   },
   "outputs": [
    {
     "data": {
      "text/plain": [
       "array([  1.20050739e-04,   1.73684862e-04,   6.90814591e-03,\n",
       "         3.49241340e-02,   3.25463344e-03,   7.21460899e-02,\n",
       "         1.81051605e-04,   1.12756365e-04,   2.90958691e-08])"
      ]
     },
     "execution_count": 39,
     "metadata": {},
     "output_type": "execute_result"
    }
   ],
   "source": [
    "rr.y"
   ]
  },
  {
   "cell_type": "code",
   "execution_count": 40,
   "metadata": {
    "collapsed": false
   },
   "outputs": [
    {
     "data": {
      "text/plain": [
       "22.167193697388424"
      ]
     },
     "execution_count": 40,
     "metadata": {},
     "output_type": "execute_result"
    }
   ],
   "source": [
    "rr.y[5]/rr.y[4]\n",
    "\n"
   ]
  },
  {
   "cell_type": "code",
   "execution_count": 123,
   "metadata": {
    "collapsed": false
   },
   "outputs": [
    {
     "data": {
      "text/plain": [
       "21.61335626976938"
      ]
     },
     "execution_count": 123,
     "metadata": {},
     "output_type": "execute_result"
    }
   ],
   "source": [
    "(RPHigh*HLSize*rr.y[7]+RPhyto*LLSize*rr.y[6]+LLSize*RNFixers*rr.y[8])/(HLSize*rr.y[7]+LLSize*rr.y[6]+LLSize*rr.y[8])\n"
   ]
  },
  {
   "cell_type": "code",
   "execution_count": 87,
   "metadata": {
    "collapsed": false
   },
   "outputs": [
    {
     "ename": "NameError",
     "evalue": "name 'PhytoAlt' is not defined",
     "output_type": "error",
     "traceback": [
      "\u001b[1;31m---------------------------------------------------------------------------\u001b[0m",
      "\u001b[1;31mNameError\u001b[0m                                 Traceback (most recent call last)",
      "\u001b[1;32m<ipython-input-87-8b00bc057729>\u001b[0m in \u001b[0;36m<module>\u001b[1;34m()\u001b[0m\n\u001b[1;32m----> 1\u001b[1;33m \u001b[1;33m(\u001b[0m\u001b[0mRP\u001b[0m\u001b[1;33m*\u001b[0m\u001b[1;33m(\u001b[0m\u001b[1;36m1\u001b[0m\u001b[1;33m-\u001b[0m\u001b[0mSR\u001b[0m\u001b[1;33m-\u001b[0m\u001b[0mSF\u001b[0m\u001b[1;33m)\u001b[0m\u001b[1;33m/\u001b[0m\u001b[1;33m(\u001b[0m\u001b[0mK\u001b[0m\u001b[1;33m*\u001b[0m\u001b[0mSF\u001b[0m\u001b[1;33m)\u001b[0m\u001b[1;33m)\u001b[0m\u001b[1;33m-\u001b[0m\u001b[0mM\u001b[0m\u001b[1;33m*\u001b[0m\u001b[0mDR\u001b[0m\u001b[1;33m*\u001b[0m\u001b[0mSD\u001b[0m\u001b[1;33m/\u001b[0m\u001b[0mK\u001b[0m\u001b[1;33m*\u001b[0m\u001b[1;33m(\u001b[0m\u001b[0mPhytoAlt\u001b[0m\u001b[1;33m/\u001b[0m\u001b[0mRPhyto\u001b[0m\u001b[1;33m+\u001b[0m\u001b[0mNFixerAlt\u001b[0m\u001b[1;33m/\u001b[0m\u001b[0mRPhyto\u001b[0m\u001b[1;33m)\u001b[0m\u001b[1;33m\u001b[0m\u001b[0m\n\u001b[0m",
      "\u001b[1;31mNameError\u001b[0m: name 'PhytoAlt' is not defined"
     ]
    }
   ],
   "source": [
    "(RP*(1-SR-SF)/(K*SF))-M*DR*SD/K*(PhytoAlt/RPhyto+NFixerAlt/RPhyto)"
   ]
  },
  {
   "cell_type": "code",
   "execution_count": 32,
   "metadata": {
    "collapsed": false
   },
   "outputs": [
    {
     "data": {
      "text/plain": [
       "0.06451612903225623"
      ]
     },
     "execution_count": 32,
     "metadata": {},
     "output_type": "execute_result"
    }
   ],
   "source": [
    "dNFixer(1,1.25e-4)"
   ]
  },
  {
   "cell_type": "code",
   "execution_count": 37,
   "metadata": {
    "collapsed": false
   },
   "outputs": [
    {
     "data": {
      "text/plain": [
       "0.5887096774193594"
      ]
     },
     "execution_count": 37,
     "metadata": {},
     "output_type": "execute_result"
    }
   ],
   "source": [
    "dPhytoP(1.0,1.25e-4,6.818e-3)"
   ]
  },
  {
   "cell_type": "code",
   "execution_count": 132,
   "metadata": {
    "collapsed": false
   },
   "outputs": [
    {
     "data": {
      "text/plain": [
       "2.7397260273972604e-06"
      ]
     },
     "execution_count": 132,
     "metadata": {},
     "output_type": "execute_result"
    }
   ],
   "source": [
    "RP/(M*SD*SF)"
   ]
  },
  {
   "cell_type": "code",
   "execution_count": 133,
   "metadata": {
    "collapsed": false
   },
   "outputs": [
    {
     "data": {
      "text/plain": [
       "0.0"
      ]
     },
     "execution_count": 133,
     "metadata": {},
     "output_type": "execute_result"
    }
   ],
   "source": [
    "PhytoAlt+NFixerAlt-((1/(M*SD))*(RP*RPhyto*(1-SF-DN)/SF+RN+AN)+(1/(M*SD))*(RP*RPhyto*(SF+DN)-RN-AN))"
   ]
  },
  {
   "cell_type": "code",
   "execution_count": 138,
   "metadata": {
    "collapsed": false
   },
   "outputs": [
    {
     "data": {
      "text/plain": [
       "3.063013698630137e-06"
      ]
     },
     "execution_count": 138,
     "metadata": {},
     "output_type": "execute_result"
    }
   ],
   "source": [
    "1.0/(M*SD)*(RN+AN+RP*(1-SF-DN)/SF)/(SF+DN+RNFixers/RPhyto*(1-SF-DN))"
   ]
  },
  {
   "cell_type": "code",
   "execution_count": 139,
   "metadata": {
    "collapsed": false
   },
   "outputs": [
    {
     "data": {
      "text/plain": [
       "4.346027397260274e-05"
      ]
     },
     "execution_count": 139,
     "metadata": {},
     "output_type": "execute_result"
    }
   ],
   "source": [
    "PhytoAlt"
   ]
  },
  {
   "cell_type": "code",
   "execution_count": 141,
   "metadata": {
    "collapsed": false
   },
   "outputs": [
    {
     "data": {
      "text/plain": [
       "1.0"
      ]
     },
     "execution_count": 141,
     "metadata": {},
     "output_type": "execute_result"
    }
   ],
   "source": [
    "(SF+DN+RNFixers/RPhyto*(1-SF-DN))"
   ]
  },
  {
   "cell_type": "code",
   "execution_count": 149,
   "metadata": {
    "collapsed": false
   },
   "outputs": [
    {
     "data": {
      "text/plain": [
       "4.346027397260274e-05"
      ]
     },
     "execution_count": 149,
     "metadata": {},
     "output_type": "execute_result"
    }
   ],
   "source": [
    "1.0/(M*SD)*(RN+AN+RP*RPhyto*(1-SF-DN)/SF)"
   ]
  },
  {
   "cell_type": "code",
   "execution_count": 144,
   "metadata": {
    "collapsed": false
   },
   "outputs": [
    {
     "data": {
      "text/plain": [
       "4.346027397260274e-05"
      ]
     },
     "execution_count": 144,
     "metadata": {},
     "output_type": "execute_result"
    }
   ],
   "source": [
    "(1/(M*SD))*(RP*RPhyto*(1-SF-DN)/SF+RN+AN)"
   ]
  },
  {
   "cell_type": "code",
   "execution_count": 147,
   "metadata": {
    "collapsed": false
   },
   "outputs": [
    {
     "data": {
      "text/plain": [
       "0.1118"
      ]
     },
     "execution_count": 147,
     "metadata": {},
     "output_type": "execute_result"
    }
   ],
   "source": [
    "(RN+AN+RP*(1-SF-DN)/SF)"
   ]
  },
  {
   "cell_type": "code",
   "execution_count": 148,
   "metadata": {
    "collapsed": false
   },
   "outputs": [
    {
     "data": {
      "text/plain": [
       "1.5863"
      ]
     },
     "execution_count": 148,
     "metadata": {},
     "output_type": "execute_result"
    }
   ],
   "source": [
    "(RP*RPhyto*(1-SF-DN)/SF+RN+AN)"
   ]
  },
  {
   "cell_type": "code",
   "execution_count": null,
   "metadata": {
    "collapsed": true
   },
   "outputs": [],
   "source": []
  }
 ],
 "metadata": {
  "kernelspec": {
   "display_name": "Python 2",
   "language": "python",
   "name": "python2"
  },
  "language_info": {
   "codemirror_mode": {
    "name": "ipython",
    "version": 2
   },
   "file_extension": ".py",
   "mimetype": "text/x-python",
   "name": "python",
   "nbconvert_exporter": "python",
   "pygments_lexer": "ipython2",
   "version": "2.7.8"
  }
 },
 "nbformat": 4,
 "nbformat_minor": 0
}
